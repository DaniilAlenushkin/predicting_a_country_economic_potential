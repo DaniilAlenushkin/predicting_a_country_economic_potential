{
 "cells": [
  {
   "cell_type": "code",
   "execution_count": 1,
   "metadata": {
    "collapsed": true
   },
   "outputs": [],
   "source": [
    "from collections import namedtuple\n",
    "from pathlib import Path\n",
    "\n",
    "import numpy as np\n",
    "import pandas as pd\n",
    "from sklearn.ensemble import RandomForestRegressor\n",
    "from sklearn.linear_model import LinearRegression\n",
    "from sklearn.metrics import mean_squared_error, r2_score\n",
    "from sklearn.model_selection import train_test_split, GridSearchCV\n",
    "from sklearn.svm import SVR\n",
    "from sklearn.tree import DecisionTreeRegressor"
   ]
  },
  {
   "cell_type": "markdown",
   "source": [
    "Load all datasets"
   ],
   "metadata": {
    "collapsed": false
   }
  },
  {
   "cell_type": "code",
   "execution_count": 2,
   "outputs": [],
   "source": [
    "base_path = Path('dataset/dataset_versions')\n",
    "\n",
    "datasets = {}\n",
    "datasets_names = (\n",
    "    'bfill_ffill',\n",
    "    'linear_interpolation',\n",
    "    'cubic_interpolation',\n",
    "    'quadratic_interpolation',\n",
    "    'polynomial_5_interpolation',\n",
    "    'polynomial_7_interpolation',\n",
    "    'polynomial_9_interpolation',\n",
    "    'polynomial_11_interpolation',\n",
    ")\n",
    "for dataset_name in datasets_names:\n",
    "    dataset = pd.read_excel(base_path / f'{dataset_name}_rescaled_dataset.xlsx')\n",
    "    datasets[dataset_name] = dataset.iloc[:, 1:]"
   ],
   "metadata": {
    "collapsed": false
   }
  },
  {
   "cell_type": "markdown",
   "source": [
    "Division into training and test samples"
   ],
   "metadata": {
    "collapsed": false
   }
  },
  {
   "cell_type": "code",
   "execution_count": 3,
   "outputs": [],
   "source": [
    "test_size = 0.2\n",
    "seed = 7\n",
    "target_feature_name = 'GDP per capita (current US$)'\n",
    "\n",
    "SplittedDataset = namedtuple('SplittedDataset', ['name', 'x_train', 'y_train', 'x_test', 'y_test'])\n",
    "splited_datasets = []\n",
    "\n",
    "for dataset_name, dataset in datasets.items():\n",
    "    model = dict()\n",
    "    model['name'] = dataset_name\n",
    "    data_x = dataset.drop([target_feature_name], axis=1)\n",
    "    data_y = dataset[target_feature_name]\n",
    "    model['x_train'], model['x_test'], model['y_train'], model['y_test'] = train_test_split(data_x, data_y, test_size=test_size, random_state=seed)\n",
    "    splited_datasets.append(SplittedDataset(model['name'], model['x_train'],  model['y_train'], model['x_test'], model['y_test']))"
   ],
   "metadata": {
    "collapsed": false
   }
  },
  {
   "cell_type": "markdown",
   "source": [
    "RandomForestRegressor"
   ],
   "metadata": {
    "collapsed": false
   }
  },
  {
   "cell_type": "code",
   "execution_count": 4,
   "outputs": [],
   "source": [
    "random_forest_greed_search_params = {\n",
    "    'n_estimators': [i for i in range(501, 1002, 250)],\n",
    "    'criterion' : [\"squared_error\", \"friedman_mse\"],\n",
    "}"
   ],
   "metadata": {
    "collapsed": false
   }
  },
  {
   "cell_type": "code",
   "execution_count": 5,
   "outputs": [
    {
     "name": "stdout",
     "output_type": "stream",
     "text": [
      "         dataset_name          |         r^2          |         rmse         |               best_params               \n",
      "bfill_ffill                    |  0.9927085764628596  | 0.013865629291803025 | {'criterion': 'friedman_mse', 'n_estimators': 751}\n",
      "linear_interpolation           |  0.9891716820162963  | 0.016770829744922066 | {'criterion': 'friedman_mse', 'n_estimators': 1001}\n",
      "cubic_interpolation            |  0.9907306283572973  | 0.015689853655225728 | {'criterion': 'friedman_mse', 'n_estimators': 501}\n",
      "quadratic_interpolation        |  0.992124233671234   | 0.014484178111930632 | {'criterion': 'friedman_mse', 'n_estimators': 501}\n",
      "polynomial_5_interpolation     |  0.981381955926966   | 0.022759747568716633 | {'criterion': 'squared_error', 'n_estimators': 501}\n",
      "polynomial_7_interpolation     |  0.9802373153895785  | 0.013625492485882486 | {'criterion': 'squared_error', 'n_estimators': 751}\n",
      "polynomial_9_interpolation     |  0.9511117257833476  | 0.012795656617821264 | {'criterion': 'squared_error', 'n_estimators': 1001}\n",
      "polynomial_11_interpolation    |  0.8643190719881931  | 0.022173385313356463 | {'criterion': 'squared_error', 'n_estimators': 501}\n"
     ]
    }
   ],
   "source": [
    "print(f'{\"dataset_name\".center(30)} | {\"r^2\".center(20)} | {\"rmse\".center(20)} | {\"best_params\".center(40)}')\n",
    "for dataset in splited_datasets:\n",
    "    random_forest_model = RandomForestRegressor()\n",
    "    grid_search = GridSearchCV(random_forest_model, random_forest_greed_search_params, n_jobs=7)\n",
    "    grid_search.fit(dataset.x_train, dataset.y_train)\n",
    "    best_params = grid_search.best_params_\n",
    "    random_forest_model = RandomForestRegressor(\n",
    "        n_estimators=best_params.get('n_estimators'),\n",
    "        criterion=best_params.get('criterion')\n",
    "    )\n",
    "    random_forest_model.fit(dataset.x_train, dataset.y_train)\n",
    "    test_predict = random_forest_model.predict(dataset.x_test)\n",
    "    rmse = np.sqrt(mean_squared_error(dataset.y_test, test_predict))\n",
    "    r2 = r2_score(dataset.y_test, test_predict)\n",
    "    print(f'{str(dataset.name).ljust(30)} | {str(r2).center(20)} | {str(rmse).center(20)} | {str(best_params).center(40)}')"
   ],
   "metadata": {
    "collapsed": false
   }
  },
  {
   "cell_type": "markdown",
   "source": [
    "SVR"
   ],
   "metadata": {
    "collapsed": false
   }
  },
  {
   "cell_type": "code",
   "execution_count": 6,
   "outputs": [],
   "source": [
    "SVR_greed_search_params = {\n",
    "    'C': [i for i in np.linspace(0.1, 100, num=20)],\n",
    "    'kernel': ['linear', 'poly'],\n",
    "    'degree': [i for i in range(2, 20)],\n",
    "    'gamma' : ['scale', 'auto']\n",
    "}"
   ],
   "metadata": {
    "collapsed": false
   }
  },
  {
   "cell_type": "code",
   "execution_count": 7,
   "outputs": [
    {
     "name": "stdout",
     "output_type": "stream",
     "text": [
      "         dataset_name          |         r^2          |         rmse         |               best_params               \n",
      "bfill_ffill                    |  0.8805023350012436  | 0.05613233798100877  | {'C': 0.1, 'degree': 2, 'gamma': 'scale', 'kernel': 'linear'}\n",
      "linear_interpolation           |  0.8673024882754615  | 0.05870910223827949  | {'C': 5.3578947368421055, 'degree': 2, 'gamma': 'scale', 'kernel': 'poly'}\n",
      "cubic_interpolation            |  0.8783937624782114  | 0.056829216847103896 | {'C': 5.3578947368421055, 'degree': 3, 'gamma': 'scale', 'kernel': 'poly'}\n",
      "quadratic_interpolation        |  0.8829528955563133  | 0.05583773364949231  | {'C': 5.3578947368421055, 'degree': 3, 'gamma': 'scale', 'kernel': 'poly'}\n",
      "polynomial_5_interpolation     |  0.8832722083266353  | 0.05698854232875017  | {'C': 5.3578947368421055, 'degree': 3, 'gamma': 'scale', 'kernel': 'poly'}\n",
      "polynomial_7_interpolation     |  0.7112227479249504  | 0.05208476731977888  | {'C': 0.1, 'degree': 4, 'gamma': 'scale', 'kernel': 'poly'}\n",
      "polynomial_9_interpolation     | 0.48866281097640063  | 0.04138223221369176  | {'C': 0.1, 'degree': 2, 'gamma': 'scale', 'kernel': 'linear'}\n",
      "polynomial_11_interpolation    | 0.44774269408320255  | 0.044734577114735254 | {'C': 0.1, 'degree': 2, 'gamma': 'scale', 'kernel': 'linear'}\n"
     ]
    }
   ],
   "source": [
    "print(f'{\"dataset_name\".center(30)} | {\"r^2\".center(20)} | {\"rmse\".center(20)} | {\"best_params\".center(40)}')\n",
    "for dataset in splited_datasets:\n",
    "    svr_model = SVR()\n",
    "    grid_search = GridSearchCV(svr_model, SVR_greed_search_params, n_jobs=7)\n",
    "    grid_search.fit(dataset.x_train, dataset.y_train)\n",
    "    best_params = grid_search.best_params_\n",
    "    best_svr_model = SVR(\n",
    "        C=best_params.get('C'),\n",
    "        kernel=best_params.get('kernel')\n",
    "    )\n",
    "    best_svr_model.fit(dataset.x_train, dataset.y_train)\n",
    "\n",
    "    test_predict = best_svr_model.predict(dataset.x_test)\n",
    "    rmse = np.sqrt(mean_squared_error(dataset.y_test, test_predict))\n",
    "    r2 = r2_score(dataset.y_test, test_predict)\n",
    "    print(f'{str(dataset.name).ljust(30)} | {str(r2).center(20)} | {str(rmse).center(20)} | {str(best_params).center(40)}')"
   ],
   "metadata": {
    "collapsed": false
   }
  },
  {
   "cell_type": "markdown",
   "source": [
    "Linear regression"
   ],
   "metadata": {
    "collapsed": false
   }
  },
  {
   "cell_type": "code",
   "execution_count": 8,
   "outputs": [
    {
     "name": "stdout",
     "output_type": "stream",
     "text": [
      "         dataset_name          |         r^2          |         rmse         |               best_params               \n",
      "bfill_ffill                    |  0.9907301382096394  | 0.015633997977031588 |                    -                    \n",
      "linear_interpolation           |  0.9936182915645295  | 0.012874860405056891 |                    -                    \n",
      "cubic_interpolation            |  0.9933571470215885  | 0.013282232117914659 |                    -                    \n",
      "quadratic_interpolation        |  0.9928675371474754  | 0.013783744197748153 |                    -                    \n",
      "polynomial_5_interpolation     |  0.9904417993650888  | 0.01630754122810385  |                    -                    \n",
      "polynomial_7_interpolation     |  0.975561579469896   | 0.015151854997984233 |                    -                    \n",
      "polynomial_9_interpolation     |  0.989144554267107   | 0.006029538240341453 |                    -                    \n",
      "polynomial_11_interpolation    |  0.9974777033332043  | 0.0030232264896568957 |                    -                    \n"
     ]
    }
   ],
   "source": [
    "print(f'{\"dataset_name\".center(30)} | {\"r^2\".center(20)} | {\"rmse\".center(20)} | {\"best_params\".center(40)}')\n",
    "for dataset in splited_datasets:\n",
    "    linear_model = LinearRegression()\n",
    "    linear_model.fit(dataset.x_train, dataset.y_train)\n",
    "    test_predict = linear_model.predict(dataset.x_test)\n",
    "    rmse = np.sqrt(mean_squared_error(dataset.y_test, test_predict))\n",
    "    r2 = r2_score(dataset.y_test, test_predict)\n",
    "    print(f'{str(dataset.name).ljust(30)} | {str(r2).center(20)} | {str(rmse).center(20)} | {\"-\".center(40)}')"
   ],
   "metadata": {
    "collapsed": false
   }
  },
  {
   "cell_type": "markdown",
   "source": [
    "DecisionTreeRegressor"
   ],
   "metadata": {
    "collapsed": false
   }
  },
  {
   "cell_type": "code",
   "execution_count": 9,
   "outputs": [],
   "source": [
    "tree_greed_search_params = {\n",
    "    'splitter': [\"best\", \"random\"],\n",
    "    'criterion' : [\"squared_error\", \"friedman_mse\", \"absolute_error\", \"poisson\"],\n",
    "}"
   ],
   "metadata": {
    "collapsed": false
   }
  },
  {
   "cell_type": "code",
   "execution_count": 10,
   "outputs": [
    {
     "name": "stdout",
     "output_type": "stream",
     "text": [
      "         dataset_name          |         r^2          |         rmse         |               best_params               \n",
      "bfill_ffill                    |  0.9757073522556675  | 0.02530875888086164  | {'criterion': 'poisson', 'splitter': 'best'}\n",
      "linear_interpolation           |  0.9351957363164844  | 0.041027574231159734 | {'criterion': 'absolute_error', 'splitter': 'best'}\n",
      "cubic_interpolation            |  0.9783995534258159  | 0.023951080493251734 | {'criterion': 'absolute_error', 'splitter': 'best'}\n",
      "quadratic_interpolation        |  0.9748538354846877  | 0.02588113522106923  | {'criterion': 'absolute_error', 'splitter': 'best'}\n",
      "polynomial_5_interpolation     |  0.8330751012617197  | 0.06814923336085207  | {'criterion': 'poisson', 'splitter': 'random'}\n",
      "polynomial_7_interpolation     |  0.9249456231984227  | 0.026553223456380774 | {'criterion': 'friedman_mse', 'splitter': 'best'}\n",
      "polynomial_9_interpolation     |  0.7301518064058589  | 0.030062146102732296 | {'criterion': 'squared_error', 'splitter': 'random'}\n",
      "polynomial_11_interpolation    | -2.9557552163146457  | 0.11972567823817831  | {'criterion': 'absolute_error', 'splitter': 'best'}\n"
     ]
    }
   ],
   "source": [
    "print(f'{\"dataset_name\".center(30)} | {\"r^2\".center(20)} | {\"rmse\".center(20)} | {\"best_params\".center(40)}')\n",
    "for dataset in splited_datasets:\n",
    "    tree_model = DecisionTreeRegressor()\n",
    "    grid_search = GridSearchCV(tree_model, tree_greed_search_params, n_jobs=7)\n",
    "    grid_search.fit(dataset.x_train, dataset.y_train)\n",
    "    best_params = grid_search.best_params_\n",
    "    best_tree_model = DecisionTreeRegressor(\n",
    "        splitter=best_params.get('splitter'),\n",
    "        criterion=best_params.get('criterion')\n",
    "    )\n",
    "    best_tree_model.fit(dataset.x_train, dataset.y_train)\n",
    "    test_predict = best_tree_model.predict(dataset.x_test)\n",
    "    rmse = np.sqrt(mean_squared_error(dataset.y_test, test_predict))\n",
    "    r2 = r2_score(dataset.y_test, test_predict)\n",
    "    print(f'{str(dataset.name).ljust(30)} | {str(r2).center(20)} | {str(rmse).center(20)} | {str(best_params).center(40)}')"
   ],
   "metadata": {
    "collapsed": false
   }
  }
 ],
 "metadata": {
  "kernelspec": {
   "display_name": "Python 3",
   "language": "python",
   "name": "python3"
  },
  "language_info": {
   "codemirror_mode": {
    "name": "ipython",
    "version": 2
   },
   "file_extension": ".py",
   "mimetype": "text/x-python",
   "name": "python",
   "nbconvert_exporter": "python",
   "pygments_lexer": "ipython2",
   "version": "2.7.6"
  }
 },
 "nbformat": 4,
 "nbformat_minor": 0
}
