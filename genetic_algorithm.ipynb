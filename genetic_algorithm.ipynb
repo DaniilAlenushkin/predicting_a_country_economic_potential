{
 "cells": [
  {
   "cell_type": "code",
   "execution_count": 2,
   "metadata": {
    "collapsed": true
   },
   "outputs": [],
   "source": [
    "import random\n",
    "from collections import namedtuple\n",
    "from pathlib import Path\n",
    "import warnings\n",
    "\n",
    "import pandas as pd\n",
    "from deap import base, creator, tools, algorithms\n",
    "from sklearn.ensemble import AdaBoostRegressor\n",
    "from sklearn.linear_model import LinearRegression\n",
    "from sklearn.metrics import r2_score\n",
    "from sklearn.model_selection import train_test_split\n",
    "\n",
    "warnings.filterwarnings(\"ignore\")"
   ]
  },
  {
   "cell_type": "code",
   "execution_count": 3,
   "outputs": [
    {
     "data": {
      "text/plain": "     Adjusted net national income (annual % growth)  \\\n0                                          0.689136   \n1                                          0.689147   \n2                                          0.689141   \n3                                          0.689034   \n4                                          0.689003   \n..                                              ...   \n249                                        0.688948   \n250                                        0.688995   \n251                                        0.688947   \n252                                        0.688959   \n253                                        0.688959   \n\n     Adjusted net national income (constant 2015 US$)  \\\n0                                            0.000857   \n1                                            0.000993   \n2                                            0.001141   \n3                                            0.001213   \n4                                            0.001259   \n..                                                ...   \n249                                          0.000591   \n250                                          0.000613   \n251                                          0.000610   \n252                                          0.000613   \n253                                          0.000613   \n\n     Adjusted net national income (current US$)  \\\n0                                      0.000130   \n1                                      0.000169   \n2                                      0.000254   \n3                                      0.000362   \n4                                      0.000435   \n..                                          ...   \n249                                    0.001035   \n250                                    0.001239   \n251                                    0.001302   \n252                                    0.001234   \n253                                    0.001234   \n\n     Adjusted net national income per capita (annual % growth)  \\\n0                                             0.692521           \n1                                             0.692533           \n2                                             0.692528           \n3                                             0.692423           \n4                                             0.692393           \n..                                                 ...           \n249                                           0.692353           \n250                                           0.692400           \n251                                           0.692354           \n252                                           0.692367           \n253                                           0.692367           \n\n     Adjusted net national income per capita (constant 2015 US$)  \\\n0                                             0.002794             \n1                                             0.003089             \n2                                             0.003403             \n3                                             0.003500             \n4                                             0.003530             \n..                                                 ...             \n249                                           0.003757             \n250                                           0.003806             \n251                                           0.003753             \n252                                           0.003712             \n253                                           0.003712             \n\n     Adjusted net national income per capita (current US$)  \\\n0                                             0.310620       \n1                                             0.311263       \n2                                             0.312697       \n3                                             0.314469       \n4                                             0.315559       \n..                                                 ...       \n249                                           0.343549       \n250                                           0.349701       \n251                                           0.351157       \n252                                           0.348408       \n253                                           0.348408       \n\n     Adjusted net savings, excluding particulate emission damage (current US$)  \\\n0                                             0.000531                           \n1                                             0.000531                           \n2                                             0.000531                           \n3                                             0.000531                           \n4                                             0.000531                           \n..                                                 ...                           \n249                                           0.000450                           \n250                                           0.000468                           \n251                                           0.000446                           \n252                                           0.000437                           \n253                                           0.000437                           \n\n     Adjusted net savings, including particulate emission damage (current US$)  \\\n0                                             0.066474                           \n1                                             0.066474                           \n2                                             0.066474                           \n3                                             0.066474                           \n4                                             0.066474                           \n..                                                 ...                           \n249                                           0.066226                           \n250                                           0.066242                           \n251                                           0.066221                           \n252                                           0.066213                           \n253                                           0.066213                           \n\n     Adjusted savings: carbon dioxide damage (current US$)  \\\n0                                             0.000099       \n1                                             0.000224       \n2                                             0.000421       \n3                                             0.000625       \n4                                             0.000836       \n..                                                 ...       \n249                                           0.038400       \n250                                           0.039675       \n251                                           0.040959       \n252                                           0.041808       \n253                                           0.041808       \n\n     Adjusted savings: consumption of fixed capital (current US$)  ...  \\\n0                                             0.962256             ...   \n1                                             0.962269             ...   \n2                                             0.962298             ...   \n3                                             0.962332             ...   \n4                                             0.962360             ...   \n..                                                 ...             ...   \n249                                           0.962863             ...   \n250                                           0.962956             ...   \n251                                           0.963005             ...   \n252                                           0.962978             ...   \n253                                           0.962978             ...   \n\n     Unemployment, youth male (% of male labor force ages 15-24) (modeled ILO estimate)  \\\n0                                             0.220160                                    \n1                                             0.220160                                    \n2                                             0.220160                                    \n3                                             0.220160                                    \n4                                             0.220160                                    \n..                                                 ...                                    \n249                                           0.228317                                    \n250                                           0.228362                                    \n251                                           0.228431                                    \n252                                           0.229280                                    \n253                                           0.229724                                    \n\n     Unemployment, youth male (% of male labor force ages 15-24) (national estimate)  \\\n0                                             0.028734                                 \n1                                             0.028734                                 \n2                                             0.028734                                 \n3                                             0.028734                                 \n4                                             0.028734                                 \n..                                                 ...                                 \n249                                           0.028757                                 \n250                                           0.028757                                 \n251                                           0.028757                                 \n252                                           0.028759                                 \n253                                           0.028760                                 \n\n     Unemployment, youth total (% of total labor force ages 15-24) (modeled ILO estimate)  \\\n0                                             0.280167                                      \n1                                             0.280167                                      \n2                                             0.280167                                      \n3                                             0.280167                                      \n4                                             0.280167                                      \n..                                                 ...                                      \n249                                           0.292249                                      \n250                                           0.292205                                      \n251                                           0.292267                                      \n252                                           0.293309                                      \n253                                           0.293951                                      \n\n     Unemployment, youth total (% of total labor force ages 15-24) (national estimate)  \\\n0                                             0.025974                                   \n1                                             0.025974                                   \n2                                             0.025974                                   \n3                                             0.025974                                   \n4                                             0.025974                                   \n..                                                 ...                                   \n249                                           0.026008                                   \n250                                           0.026008                                   \n251                                           0.026008                                   \n252                                           0.026010                                   \n253                                           0.026012                                   \n\n     Vulnerable employment, female (% of female employment) (modeled ILO estimate)  \\\n0                                             0.118821                               \n1                                             0.118821                               \n2                                             0.118821                               \n3                                             0.118821                               \n4                                             0.118821                               \n..                                                 ...                               \n249                                           0.114790                               \n250                                           0.114882                               \n251                                           0.114886                               \n252                                           0.114948                               \n253                                           0.114948                               \n\n     Vulnerable employment, male (% of male employment) (modeled ILO estimate)  \\\n0                                             0.207872                           \n1                                             0.207872                           \n2                                             0.207872                           \n3                                             0.207872                           \n4                                             0.207872                           \n..                                                 ...                           \n249                                           0.202871                           \n250                                           0.202909                           \n251                                           0.203049                           \n252                                           0.203117                           \n253                                           0.203117                           \n\n     Vulnerable employment, total (% of total employment) (modeled ILO estimate)  \\\n0                                             0.162652                             \n1                                             0.162652                             \n2                                             0.162652                             \n3                                             0.162652                             \n4                                             0.162652                             \n..                                                 ...                             \n249                                           0.158013                             \n250                                           0.158078                             \n251                                           0.158152                             \n252                                           0.158220                             \n253                                           0.158220                             \n\n     Wage and salaried workers, female (% of female employment) (modeled ILO estimate)  \\\n0                                             0.920258                                   \n1                                             0.920258                                   \n2                                             0.920258                                   \n3                                             0.920258                                   \n4                                             0.920258                                   \n..                                                 ...                                   \n249                                           0.923805                                   \n250                                           0.923701                                   \n251                                           0.923772                                   \n252                                           0.923647                                   \n253                                           0.923647                                   \n\n     Wage and salaried workers, male (% of male employment) (modeled ILO estimate)  \\\n0                                             0.865579                               \n1                                             0.865579                               \n2                                             0.865579                               \n3                                             0.865579                               \n4                                             0.865579                               \n..                                                 ...                               \n249                                           0.869330                               \n250                                           0.869301                               \n251                                           0.869209                               \n252                                           0.869076                               \n253                                           0.869076                               \n\n     Wage and salaried workers, total (% of total employment) (modeled ILO estimate)  \n0                                             0.895318                                \n1                                             0.895318                                \n2                                             0.895318                                \n3                                             0.895318                                \n4                                             0.895318                                \n..                                                 ...                                \n249                                           0.899066                                \n250                                           0.899008                                \n251                                           0.898991                                \n252                                           0.898862                                \n253                                           0.898862                                \n\n[254 rows x 1224 columns]",
      "text/html": "<div>\n<style scoped>\n    .dataframe tbody tr th:only-of-type {\n        vertical-align: middle;\n    }\n\n    .dataframe tbody tr th {\n        vertical-align: top;\n    }\n\n    .dataframe thead th {\n        text-align: right;\n    }\n</style>\n<table border=\"1\" class=\"dataframe\">\n  <thead>\n    <tr style=\"text-align: right;\">\n      <th></th>\n      <th>Adjusted net national income (annual % growth)</th>\n      <th>Adjusted net national income (constant 2015 US$)</th>\n      <th>Adjusted net national income (current US$)</th>\n      <th>Adjusted net national income per capita (annual % growth)</th>\n      <th>Adjusted net national income per capita (constant 2015 US$)</th>\n      <th>Adjusted net national income per capita (current US$)</th>\n      <th>Adjusted net savings, excluding particulate emission damage (current US$)</th>\n      <th>Adjusted net savings, including particulate emission damage (current US$)</th>\n      <th>Adjusted savings: carbon dioxide damage (current US$)</th>\n      <th>Adjusted savings: consumption of fixed capital (current US$)</th>\n      <th>...</th>\n      <th>Unemployment, youth male (% of male labor force ages 15-24) (modeled ILO estimate)</th>\n      <th>Unemployment, youth male (% of male labor force ages 15-24) (national estimate)</th>\n      <th>Unemployment, youth total (% of total labor force ages 15-24) (modeled ILO estimate)</th>\n      <th>Unemployment, youth total (% of total labor force ages 15-24) (national estimate)</th>\n      <th>Vulnerable employment, female (% of female employment) (modeled ILO estimate)</th>\n      <th>Vulnerable employment, male (% of male employment) (modeled ILO estimate)</th>\n      <th>Vulnerable employment, total (% of total employment) (modeled ILO estimate)</th>\n      <th>Wage and salaried workers, female (% of female employment) (modeled ILO estimate)</th>\n      <th>Wage and salaried workers, male (% of male employment) (modeled ILO estimate)</th>\n      <th>Wage and salaried workers, total (% of total employment) (modeled ILO estimate)</th>\n    </tr>\n  </thead>\n  <tbody>\n    <tr>\n      <th>0</th>\n      <td>0.689136</td>\n      <td>0.000857</td>\n      <td>0.000130</td>\n      <td>0.692521</td>\n      <td>0.002794</td>\n      <td>0.310620</td>\n      <td>0.000531</td>\n      <td>0.066474</td>\n      <td>0.000099</td>\n      <td>0.962256</td>\n      <td>...</td>\n      <td>0.220160</td>\n      <td>0.028734</td>\n      <td>0.280167</td>\n      <td>0.025974</td>\n      <td>0.118821</td>\n      <td>0.207872</td>\n      <td>0.162652</td>\n      <td>0.920258</td>\n      <td>0.865579</td>\n      <td>0.895318</td>\n    </tr>\n    <tr>\n      <th>1</th>\n      <td>0.689147</td>\n      <td>0.000993</td>\n      <td>0.000169</td>\n      <td>0.692533</td>\n      <td>0.003089</td>\n      <td>0.311263</td>\n      <td>0.000531</td>\n      <td>0.066474</td>\n      <td>0.000224</td>\n      <td>0.962269</td>\n      <td>...</td>\n      <td>0.220160</td>\n      <td>0.028734</td>\n      <td>0.280167</td>\n      <td>0.025974</td>\n      <td>0.118821</td>\n      <td>0.207872</td>\n      <td>0.162652</td>\n      <td>0.920258</td>\n      <td>0.865579</td>\n      <td>0.895318</td>\n    </tr>\n    <tr>\n      <th>2</th>\n      <td>0.689141</td>\n      <td>0.001141</td>\n      <td>0.000254</td>\n      <td>0.692528</td>\n      <td>0.003403</td>\n      <td>0.312697</td>\n      <td>0.000531</td>\n      <td>0.066474</td>\n      <td>0.000421</td>\n      <td>0.962298</td>\n      <td>...</td>\n      <td>0.220160</td>\n      <td>0.028734</td>\n      <td>0.280167</td>\n      <td>0.025974</td>\n      <td>0.118821</td>\n      <td>0.207872</td>\n      <td>0.162652</td>\n      <td>0.920258</td>\n      <td>0.865579</td>\n      <td>0.895318</td>\n    </tr>\n    <tr>\n      <th>3</th>\n      <td>0.689034</td>\n      <td>0.001213</td>\n      <td>0.000362</td>\n      <td>0.692423</td>\n      <td>0.003500</td>\n      <td>0.314469</td>\n      <td>0.000531</td>\n      <td>0.066474</td>\n      <td>0.000625</td>\n      <td>0.962332</td>\n      <td>...</td>\n      <td>0.220160</td>\n      <td>0.028734</td>\n      <td>0.280167</td>\n      <td>0.025974</td>\n      <td>0.118821</td>\n      <td>0.207872</td>\n      <td>0.162652</td>\n      <td>0.920258</td>\n      <td>0.865579</td>\n      <td>0.895318</td>\n    </tr>\n    <tr>\n      <th>4</th>\n      <td>0.689003</td>\n      <td>0.001259</td>\n      <td>0.000435</td>\n      <td>0.692393</td>\n      <td>0.003530</td>\n      <td>0.315559</td>\n      <td>0.000531</td>\n      <td>0.066474</td>\n      <td>0.000836</td>\n      <td>0.962360</td>\n      <td>...</td>\n      <td>0.220160</td>\n      <td>0.028734</td>\n      <td>0.280167</td>\n      <td>0.025974</td>\n      <td>0.118821</td>\n      <td>0.207872</td>\n      <td>0.162652</td>\n      <td>0.920258</td>\n      <td>0.865579</td>\n      <td>0.895318</td>\n    </tr>\n    <tr>\n      <th>...</th>\n      <td>...</td>\n      <td>...</td>\n      <td>...</td>\n      <td>...</td>\n      <td>...</td>\n      <td>...</td>\n      <td>...</td>\n      <td>...</td>\n      <td>...</td>\n      <td>...</td>\n      <td>...</td>\n      <td>...</td>\n      <td>...</td>\n      <td>...</td>\n      <td>...</td>\n      <td>...</td>\n      <td>...</td>\n      <td>...</td>\n      <td>...</td>\n      <td>...</td>\n      <td>...</td>\n    </tr>\n    <tr>\n      <th>249</th>\n      <td>0.688948</td>\n      <td>0.000591</td>\n      <td>0.001035</td>\n      <td>0.692353</td>\n      <td>0.003757</td>\n      <td>0.343549</td>\n      <td>0.000450</td>\n      <td>0.066226</td>\n      <td>0.038400</td>\n      <td>0.962863</td>\n      <td>...</td>\n      <td>0.228317</td>\n      <td>0.028757</td>\n      <td>0.292249</td>\n      <td>0.026008</td>\n      <td>0.114790</td>\n      <td>0.202871</td>\n      <td>0.158013</td>\n      <td>0.923805</td>\n      <td>0.869330</td>\n      <td>0.899066</td>\n    </tr>\n    <tr>\n      <th>250</th>\n      <td>0.688995</td>\n      <td>0.000613</td>\n      <td>0.001239</td>\n      <td>0.692400</td>\n      <td>0.003806</td>\n      <td>0.349701</td>\n      <td>0.000468</td>\n      <td>0.066242</td>\n      <td>0.039675</td>\n      <td>0.962956</td>\n      <td>...</td>\n      <td>0.228362</td>\n      <td>0.028757</td>\n      <td>0.292205</td>\n      <td>0.026008</td>\n      <td>0.114882</td>\n      <td>0.202909</td>\n      <td>0.158078</td>\n      <td>0.923701</td>\n      <td>0.869301</td>\n      <td>0.899008</td>\n    </tr>\n    <tr>\n      <th>251</th>\n      <td>0.688947</td>\n      <td>0.000610</td>\n      <td>0.001302</td>\n      <td>0.692354</td>\n      <td>0.003753</td>\n      <td>0.351157</td>\n      <td>0.000446</td>\n      <td>0.066221</td>\n      <td>0.040959</td>\n      <td>0.963005</td>\n      <td>...</td>\n      <td>0.228431</td>\n      <td>0.028757</td>\n      <td>0.292267</td>\n      <td>0.026008</td>\n      <td>0.114886</td>\n      <td>0.203049</td>\n      <td>0.158152</td>\n      <td>0.923772</td>\n      <td>0.869209</td>\n      <td>0.898991</td>\n    </tr>\n    <tr>\n      <th>252</th>\n      <td>0.688959</td>\n      <td>0.000613</td>\n      <td>0.001234</td>\n      <td>0.692367</td>\n      <td>0.003712</td>\n      <td>0.348408</td>\n      <td>0.000437</td>\n      <td>0.066213</td>\n      <td>0.041808</td>\n      <td>0.962978</td>\n      <td>...</td>\n      <td>0.229280</td>\n      <td>0.028759</td>\n      <td>0.293309</td>\n      <td>0.026010</td>\n      <td>0.114948</td>\n      <td>0.203117</td>\n      <td>0.158220</td>\n      <td>0.923647</td>\n      <td>0.869076</td>\n      <td>0.898862</td>\n    </tr>\n    <tr>\n      <th>253</th>\n      <td>0.688959</td>\n      <td>0.000613</td>\n      <td>0.001234</td>\n      <td>0.692367</td>\n      <td>0.003712</td>\n      <td>0.348408</td>\n      <td>0.000437</td>\n      <td>0.066213</td>\n      <td>0.041808</td>\n      <td>0.962978</td>\n      <td>...</td>\n      <td>0.229724</td>\n      <td>0.028760</td>\n      <td>0.293951</td>\n      <td>0.026012</td>\n      <td>0.114948</td>\n      <td>0.203117</td>\n      <td>0.158220</td>\n      <td>0.923647</td>\n      <td>0.869076</td>\n      <td>0.898862</td>\n    </tr>\n  </tbody>\n</table>\n<p>254 rows × 1224 columns</p>\n</div>"
     },
     "execution_count": 3,
     "metadata": {},
     "output_type": "execute_result"
    }
   ],
   "source": [
    "dataset_path = Path('dataset/dataset_versions/polynomial_11_interpolation_rescaled_dataset.xlsx')\n",
    "dataset = pd.read_excel(dataset_path)\n",
    "dataset = dataset.iloc[:, 1:]\n",
    "dataset"
   ],
   "metadata": {
    "collapsed": false
   }
  },
  {
   "cell_type": "code",
   "execution_count": 4,
   "outputs": [],
   "source": [
    "test_size = 0.2\n",
    "seed = 7\n",
    "target_feature_name = 'GDP per capita (current US$)'\n",
    "\n",
    "SplittedDataset = namedtuple('SplittedDataset', ['name', 'x_train', 'y_train', 'x_test', 'y_test'])\n",
    "model = dict()\n",
    "model['name'] = 'polynomial_11_interpolation'\n",
    "data_x = dataset.drop([target_feature_name], axis=1)\n",
    "data_y = dataset[target_feature_name]\n",
    "model['x_train'], model['x_test'], model['y_train'], model['y_test'] = train_test_split(data_x, data_y, test_size=test_size, random_state=seed)\n",
    "splitted_dataset = SplittedDataset(model['name'], model['x_train'],  model['y_train'], model['x_test'], model['y_test'])"
   ],
   "metadata": {
    "collapsed": false
   }
  },
  {
   "cell_type": "code",
   "execution_count": 38,
   "outputs": [
    {
     "name": "stdout",
     "output_type": "stream",
     "text": [
      "1 generation received. Best individual: n_estimators: 868, loss: exponential, learning_rate: 987.6468136822328. Fitness: 0.9961548516567726\n",
      "2 generation received. Best individual: n_estimators: 54, loss: exponential, learning_rate: 1.710823956187916. Fitness: 0.998778247734321\n",
      "3 generation received. Best individual: n_estimators: 54, loss: exponential, learning_rate: 1.710823956187916. Fitness: 0.9987863143181528\n",
      "4 generation received. Best individual: n_estimators: 54, loss: exponential, learning_rate: 1.710823956187916. Fitness: 0.9986471633448014\n",
      "5 generation received. Best individual: n_estimators: 54, loss: exponential, learning_rate: 1.710823956187916. Fitness: 0.9987972382967825\n",
      "6 generation received. Best individual: n_estimators: 54, loss: exponential, learning_rate: 1.710823956187916. Fitness: 0.9987268663862736\n",
      "7 generation received. Best individual: n_estimators: 54, loss: exponential, learning_rate: 1.710823956187916. Fitness: 0.9988369770209251\n",
      "8 generation received. Best individual: n_estimators: 513, loss: exponential, learning_rate: 730.9304414617241. Fitness: 0.997301299117415\n",
      "9 generation received. Best individual: n_estimators: 593, loss: exponential, learning_rate: 938.8818487531504. Fitness: 0.9970009030140241\n",
      "10 generation received. Best individual: n_estimators: 604, loss: exponential, learning_rate: 901.1377161313401. Fitness: 0.9975013879525468\n",
      "11 generation received. Best individual: n_estimators: 650, loss: exponential, learning_rate: 695.7039371422707. Fitness: 0.9979582264231133\n",
      "12 generation received. Best individual: n_estimators: 298, loss: exponential, learning_rate: 807.8327486390535. Fitness: 0.9974762745814052\n",
      "13 generation received. Best individual: n_estimators: 810, loss: exponential, learning_rate: 881.2363474142314. Fitness: 0.9968597514794532\n",
      "14 generation received. Best individual: n_estimators: 219, loss: exponential, learning_rate: 866.705301434443. Fitness: 0.9970439571235236\n",
      "15 generation received. Best individual: n_estimators: 54, loss: exponential, learning_rate: 821.0813090500584. Fitness: 0.9976009360775263\n",
      "16 generation received. Best individual: n_estimators: 769, loss: exponential, learning_rate: 917.8460875204659. Fitness: 0.9972304348364893\n",
      "17 generation received. Best individual: n_estimators: 1779, loss: exponential, learning_rate: 956.0493615207458. Fitness: 0.9975733747223393\n",
      "18 generation received. Best individual: n_estimators: 6, loss: exponential, learning_rate: 725.6278160958003. Fitness: 0.9972581842938226\n",
      "19 generation received. Best individual: n_estimators: 421, loss: exponential, learning_rate: 845.1985934358128. Fitness: 0.9979837569965306\n",
      "20 generation received. Best individual: n_estimators: 320, loss: exponential, learning_rate: 915.6075632684646. Fitness: 0.9985563447586585\n",
      "21 generation received. Best individual: n_estimators: 514, loss: exponential, learning_rate: 1308.0732929160313. Fitness: 0.9977783712302745\n",
      "22 generation received. Best individual: n_estimators: 209, loss: exponential, learning_rate: 828.6099476646037. Fitness: 0.9981092584816286\n",
      "23 generation received. Best individual: n_estimators: 568, loss: exponential, learning_rate: 837.6744324248494. Fitness: 0.9977062597063566\n",
      "24 generation received. Best individual: n_estimators: 809, loss: exponential, learning_rate: 760.1170146174456. Fitness: 0.9975388891741238\n",
      "25 generation received. Best individual: n_estimators: 563, loss: exponential, learning_rate: 951.6345820669959. Fitness: 0.9978925641066557\n",
      "26 generation received. Best individual: n_estimators: 897, loss: exponential, learning_rate: 688.4030748908699. Fitness: 0.998361815795815\n",
      "27 generation received. Best individual: n_estimators: 674, loss: exponential, learning_rate: 818.2293008362599. Fitness: 0.9982371267549607\n",
      "28 generation received. Best individual: n_estimators: 674, loss: exponential, learning_rate: 818.2293008362599. Fitness: 0.9983618625363044\n",
      "29 generation received. Best individual: n_estimators: 674, loss: exponential, learning_rate: 818.2293008362599. Fitness: 0.9985086464139247\n",
      "30 generation received. Best individual: n_estimators: 1668, loss: exponential, learning_rate: 959.6401314462144. Fitness: 0.9978226602116148\n",
      "31 generation received. Best individual: n_estimators: 135, loss: exponential, learning_rate: 806.8394224584617. Fitness: 0.9981382929944363\n",
      "32 generation received. Best individual: n_estimators: 2737, loss: exponential, learning_rate: 885.4419105966203. Fitness: 0.9980524680114649\n",
      "33 generation received. Best individual: n_estimators: 53, loss: exponential, learning_rate: 770.4929636739023. Fitness: 0.9973316064929513\n",
      "34 generation received. Best individual: n_estimators: 685, loss: exponential, learning_rate: 838.1547782798223. Fitness: 0.9983925797815804\n",
      "35 generation received. Best individual: n_estimators: 862, loss: exponential, learning_rate: 797.0534891045676. Fitness: 0.9977802597768776\n",
      "36 generation received. Best individual: n_estimators: 682, loss: exponential, learning_rate: 987.4998729530705. Fitness: 0.9980361822051599\n",
      "37 generation received. Best individual: n_estimators: 1658, loss: exponential, learning_rate: 944.3287799456274. Fitness: 0.9973937706559384\n",
      "38 generation received. Best individual: n_estimators: 533, loss: exponential, learning_rate: 924.5692302541827. Fitness: 0.9976470035300529\n",
      "39 generation received. Best individual: n_estimators: 1322, loss: exponential, learning_rate: 824.4018839297034. Fitness: 0.997455946102434\n",
      "40 generation received. Best individual: n_estimators: 2577, loss: exponential, learning_rate: 909.7320504093344. Fitness: 0.9983553711940213\n",
      "41 generation received. Best individual: n_estimators: 6, loss: exponential, learning_rate: 1532.1670090097018. Fitness: 0.996982037234011\n",
      "42 generation received. Best individual: n_estimators: 663, loss: exponential, learning_rate: 770.0024476316403. Fitness: 0.9969862506541478\n",
      "43 generation received. Best individual: n_estimators: 751, loss: exponential, learning_rate: 813.7278349686308. Fitness: 0.9983002645725206\n",
      "44 generation received. Best individual: n_estimators: 992, loss: exponential, learning_rate: 807.5049469646526. Fitness: 0.9977710191515285\n",
      "45 generation received. Best individual: n_estimators: 1690, loss: exponential, learning_rate: 967.8651983023565. Fitness: 0.9973995425877751\n",
      "46 generation received. Best individual: n_estimators: 822, loss: exponential, learning_rate: 786.7003161229743. Fitness: 0.9972201339299658\n",
      "47 generation received. Best individual: n_estimators: 3025, loss: exponential, learning_rate: 971.2392043445922. Fitness: 0.9977760330566796\n",
      "48 generation received. Best individual: n_estimators: 46, loss: exponential, learning_rate: 1257.6766595719505. Fitness: 0.9977126363031744\n",
      "49 generation received. Best individual: n_estimators: 1634, loss: exponential, learning_rate: 965.0663681049273. Fitness: 0.9977335056500787\n",
      "50 generation received. Best individual: n_estimators: 1697, loss: exponential, learning_rate: 811.1179949985676. Fitness: 0.9984569857462031\n"
     ]
    }
   ],
   "source": [
    "dataset = splitted_dataset\n",
    "loss_variants = ['linear', 'square', 'exponential']\n",
    "\n",
    "#  Genetic algorithm settings\n",
    "population_size = 100\n",
    "generation_size = 50\n",
    "crossing_prob = 0.7\n",
    "mutation_prob = 0.2\n",
    "\n",
    "def calculate_dest_ind_params(individual):\n",
    "    n_estimators = int(abs(individual[0]) % 10_000) or 1\n",
    "    loss = loss_variants[int(abs(individual[1]) % 3)]\n",
    "    learning_rate =  float(abs(individual[2]))\n",
    "    return n_estimators, loss, learning_rate\n",
    "\n",
    "\n",
    "def evaluate(individual):\n",
    "    n_estimators, loss, learning_rate =  calculate_dest_ind_params(individual)\n",
    "    model = AdaBoostRegressor(estimator=LinearRegression(),\n",
    "                              learning_rate=learning_rate,\n",
    "                              loss=loss,\n",
    "                              n_estimators=n_estimators)\n",
    "    model.fit(dataset.x_train, dataset.y_train)\n",
    "    return r2_score(dataset.y_test, model.predict(dataset.x_test)),\n",
    "\n",
    "\n",
    "creator.create(\"FitnessMax\", base.Fitness, weights=(1.0,))\n",
    "creator.create(\"Individual\", list, fitness=creator.FitnessMax)\n",
    "\n",
    "toolbox = base.Toolbox()\n",
    "toolbox.register(\"attr_float\", random.uniform, 1, 1000)\n",
    "toolbox.register(\"individual\", tools.initRepeat, creator.Individual, toolbox.attr_float, n=3)\n",
    "toolbox.register(\"population\", tools.initRepeat, list, toolbox.individual)\n",
    "toolbox.register(\"evaluate\", evaluate)\n",
    "toolbox.register(\"mate\", tools.cxBlend, alpha=0.5)\n",
    "toolbox.register(\"mutate\", tools.mutGaussian, mu=0, sigma=1, indpb=0.2)\n",
    "toolbox.register(\"select\", tools.selTournament, tournsize=3)\n",
    "\n",
    "population = toolbox.population(n=population_size)\n",
    "\n",
    "for gen in range(generation_size):\n",
    "    offspring = algorithms.varAnd(population, toolbox, cxpb=crossing_prob, mutpb=mutation_prob)\n",
    "    fits = toolbox.map(toolbox.evaluate, offspring)\n",
    "    for fit, ind in zip(fits, offspring):\n",
    "        ind.fitness.values = fit\n",
    "\n",
    "    population = toolbox.select(offspring, k=len(population))\n",
    "    best_ind = tools.selBest(population, k=1)[0]\n",
    "    best_ind_params = calculate_dest_ind_params(best_ind)\n",
    "    print(f'{gen+1} generation received. Best individual: n_estimators: {best_ind_params[0]}, loss: {best_ind_params[1]}, learning_rate: {best_ind_params[2]}. Fitness: {best_ind.fitness.values[0]}')"
   ],
   "metadata": {
    "collapsed": false
   }
  }
 ],
 "metadata": {
  "kernelspec": {
   "display_name": "Python 3",
   "language": "python",
   "name": "python3"
  },
  "language_info": {
   "codemirror_mode": {
    "name": "ipython",
    "version": 2
   },
   "file_extension": ".py",
   "mimetype": "text/x-python",
   "name": "python",
   "nbconvert_exporter": "python",
   "pygments_lexer": "ipython2",
   "version": "2.7.6"
  }
 },
 "nbformat": 4,
 "nbformat_minor": 0
}
