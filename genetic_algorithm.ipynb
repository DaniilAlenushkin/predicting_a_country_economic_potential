{
 "cells": [
  {
   "cell_type": "code",
   "execution_count": null,
   "metadata": {
    "collapsed": true
   },
   "outputs": [],
   "source": [
    "RandomForestRegressor()"
   ]
  },
  {
   "cell_type": "code",
   "execution_count": null,
   "outputs": [],
   "source": [
    "def create_model(filters, kernel_size, units, units_gru, dropout_rate, optimizer_model, lstm_act, gru_act, conv_act):\n",
    "    input_shape = (dataset.get('X_train').shape[1], 1)\n",
    "    model = Sequential()\n",
    "    model.add(Conv1D(filters=filters, kernel_size=kernel_size, activation=conv_act, input_shape=input_shape))\n",
    "    model.add(LSTM(units, activation=lstm_act, input_shape=input_shape, return_sequences=True))\n",
    "    model.add(GRU(units_gru, input_shape=input_shape, activation=gru_act))\n",
    "    model.add(Dropout(rate=dropout_rate))\n",
    "    model.add(Flatten())\n",
    "    model.add(Dense(1))\n",
    "    model.compile(optimizer=optimizer_model, loss='mean_squared_error')\n",
    "    return model\n",
    "\n",
    "best_params = []\n",
    "mse = []\n",
    "\n",
    "for dataset in datasets:\n",
    "    regressor = KerasRegressor(build_fn=create_model, filters=32, kernel_size=3, units=64, units_gru=64, dropout_rate=0.2, optimizer_model='adam', lstm_act='tanh', conv_act='relu', gru_act='relu', epochs=3, batch_size=32)\n",
    "    grid = GridSearchCV(estimator=regressor, param_grid=param_grid_gru_lstm, n_jobs=7)\n",
    "    grid_result = grid.fit(dataset.get('X_train'), dataset.get('Y_train'), validation_data = (dataset.get('X_test'), dataset.get('Y_test')))\n",
    "\n",
    "    best_params.append(grid_result.best_params_)\n",
    "    print(\"Лучшее значение параметров: \", grid_result.best_params_)\n",
    "\n",
    "    score = grid.score(dataset.get('X_test'), dataset.get('Y_test'))\n",
    "    mse.append(score)\n",
    "    print(\"MSE:\", score)\n",
    "\n",
    "print(best_params)\n",
    "print(mse)\n",
    "#TODO ген алгоритм на лучших, плюс поправить исходники в обоих ветках"
   ],
   "metadata": {
    "collapsed": false
   }
  }
 ],
 "metadata": {
  "kernelspec": {
   "display_name": "Python 3",
   "language": "python",
   "name": "python3"
  },
  "language_info": {
   "codemirror_mode": {
    "name": "ipython",
    "version": 2
   },
   "file_extension": ".py",
   "mimetype": "text/x-python",
   "name": "python",
   "nbconvert_exporter": "python",
   "pygments_lexer": "ipython2",
   "version": "2.7.6"
  }
 },
 "nbformat": 4,
 "nbformat_minor": 0
}
