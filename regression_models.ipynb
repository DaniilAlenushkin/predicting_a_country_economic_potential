{
 "cells": [
  {
   "cell_type": "code",
   "execution_count": 1,
   "outputs": [],
   "source": [
    "import numpy as np\n",
    "import pandas as pd\n",
    "from sklearn.ensemble import BaggingRegressor, RandomForestRegressor\n",
    "from sklearn.linear_model import LinearRegression\n",
    "from sklearn.metrics import mean_squared_error, r2_score\n",
    "from sklearn.model_selection import train_test_split, GridSearchCV\n",
    "from sklearn.preprocessing import PolynomialFeatures\n",
    "from sklearn.svm import SVR\n",
    "from sklearn.tree import DecisionTreeRegressor"
   ],
   "metadata": {
    "collapsed": false
   }
  },
  {
   "cell_type": "code",
   "execution_count": 2,
   "outputs": [
    {
     "data": {
      "text/plain": "      Adjusted net national income (annual % growth)  \\\n0                                           0.484076   \n1                                           0.468048   \n2                                           0.481640   \n3                                           0.453289   \n4                                           0.470644   \n...                                              ...   \n2027                                        0.355408   \n2028                                        0.355226   \n2029                                        0.355856   \n2030                                        0.356276   \n2031                                        0.356493   \n\n      Adjusted net national income (constant 2015 US$)  \\\n0                                             0.018315   \n1                                             0.014754   \n2                                             0.017279   \n3                                             0.016555   \n4                                             0.022188   \n...                                                ...   \n2027                                          0.021423   \n2028                                          0.015958   \n2029                                          0.020443   \n2030                                          0.017869   \n2031                                          0.017229   \n\n      Adjusted net national income (current US$)  \\\n0                                       0.001125   \n1                                       0.001301   \n2                                       0.000530   \n3                                       0.001096   \n4                                       0.000600   \n...                                          ...   \n2027                                    0.021071   \n2028                                    0.012176   \n2029                                    0.021131   \n2030                                    0.021781   \n2031                                    0.019374   \n\n      Adjusted net national income per capita (annual % growth)  \\\n0                                              0.493361           \n1                                              0.482257           \n2                                              0.473711           \n3                                              0.499597           \n4                                              0.508247           \n...                                                 ...           \n2027                                           0.376423           \n2028                                           0.379859           \n2029                                           0.377490           \n2030                                           0.377799           \n2031                                           0.377353           \n\n      Adjusted net national income per capita (constant 2015 US$)  \\\n0                                              0.232096             \n1                                              0.223844             \n2                                              0.250464             \n3                                              0.228257             \n4                                              0.202923             \n...                                                 ...             \n2027                                           0.394665             \n2028                                           0.443141             \n2029                                           0.433445             \n2030                                           0.392040             \n2031                                           0.349044             \n\n      Adjusted net national income per capita (current US$)  \\\n0                                              0.017700       \n1                                              0.014627       \n2                                              0.014431       \n3                                              0.023174       \n4                                              0.022862       \n...                                                 ...       \n2027                                           0.319516       \n2028                                           0.318189       \n2029                                           0.300040       \n2030                                           0.331834       \n2031                                           0.259787       \n\n      Adjusted net savings, excluding particulate emission damage (current US$)  \\\n0                                              0.025495                           \n1                                              0.026590                           \n2                                              0.026371                           \n3                                              0.026353                           \n4                                              0.026775                           \n...                                                 ...                           \n2027                                           0.022198                           \n2028                                           0.022149                           \n2029                                           0.022193                           \n2030                                           0.022217                           \n2031                                           0.022206                           \n\n      Adjusted net savings, including particulate emission damage (current US$)  \\\n0                                              0.037758                           \n1                                              0.037826                           \n2                                              0.038822                           \n3                                              0.034463                           \n4                                              0.030509                           \n...                                                 ...                           \n2027                                           0.021916                           \n2028                                           0.022046                           \n2029                                           0.021948                           \n2030                                           0.021949                           \n2031                                           0.021948                           \n\n      Adjusted savings: carbon dioxide damage (current US$)  \\\n0                                              0.000056       \n1                                              0.000128       \n2                                              0.000118       \n3                                              0.000179       \n4                                              0.000266       \n...                                                 ...       \n2027                                           0.046591       \n2028                                           0.043437       \n2029                                           0.045275       \n2030                                           0.036685       \n2031                                           0.035518       \n\n      Adjusted savings: consumption of fixed capital (current US$)  ...  \\\n0                                              0.000635             ...   \n1                                              0.000285             ...   \n2                                              0.000204             ...   \n3                                              0.000457             ...   \n4                                              0.000555             ...   \n...                                                 ...             ...   \n2027                                           0.021313             ...   \n2028                                           0.015338             ...   \n2029                                           0.021177             ...   \n2030                                           0.021008             ...   \n2031                                           0.018455             ...   \n\n      Unemployment, youth male (% of male labor force ages 15-24) (modeled ILO estimate)  \\\n0                                              0.108886                                    \n1                                              0.080654                                    \n2                                              0.091330                                    \n3                                              0.052015                                    \n4                                              0.044705                                    \n...                                                 ...                                    \n2027                                           0.786150                                    \n2028                                           0.525959                                    \n2029                                           0.470119                                    \n2030                                           0.553846                                    \n2031                                           0.762441                                    \n\n      Unemployment, youth male (% of male labor force ages 15-24) (national estimate)  \\\n0                                              0.023856                                 \n1                                              0.003790                                 \n2                                              0.033513                                 \n3                                              0.022731                                 \n4                                              0.007773                                 \n...                                                 ...                                 \n2027                                           0.826007                                 \n2028                                           0.723408                                 \n2029                                           0.819686                                 \n2030                                           0.799002                                 \n2031                                           0.678529                                 \n\n      Unemployment, youth total (% of total labor force ages 15-24) (modeled ILO estimate)  \\\n0                                              0.076645                                      \n1                                              0.109930                                      \n2                                              0.087172                                      \n3                                              0.091999                                      \n4                                              0.118308                                      \n...                                                 ...                                      \n2027                                           0.640357                                      \n2028                                           0.744625                                      \n2029                                           0.710154                                      \n2030                                           0.719372                                      \n2031                                           0.682693                                      \n\n      Unemployment, youth total (% of total labor force ages 15-24) (national estimate)  \\\n0                                              0.056228                                   \n1                                              0.043929                                   \n2                                              0.036492                                   \n3                                              0.035654                                   \n4                                              0.038628                                   \n...                                                 ...                                   \n2027                                           0.728138                                   \n2028                                           0.823676                                   \n2029                                           0.540721                                   \n2030                                           0.580822                                   \n2031                                           0.722125                                   \n\n      Vulnerable employment, female (% of female employment) (modeled ILO estimate)  \\\n0                                              0.279695                               \n1                                              0.193565                               \n2                                              0.235089                               \n3                                              0.245976                               \n4                                              0.240441                               \n...                                                 ...                               \n2027                                           0.083754                               \n2028                                           0.091201                               \n2029                                           0.085964                               \n2030                                           0.081256                               \n2031                                           0.078244                               \n\n      Vulnerable employment, male (% of male employment) (modeled ILO estimate)  \\\n0                                              0.201838                           \n1                                              0.248208                           \n2                                              0.298487                           \n3                                              0.240291                           \n4                                              0.223383                           \n...                                                 ...                           \n2027                                           0.051664                           \n2028                                           0.047630                           \n2029                                           0.065204                           \n2030                                           0.063866                           \n2031                                           0.086123                           \n\n      Vulnerable employment, total (% of total employment) (modeled ILO estimate)  \\\n0                                              0.156617                             \n1                                              0.176652                             \n2                                              0.198736                             \n3                                              0.310167                             \n4                                              0.363340                             \n...                                                 ...                             \n2027                                           0.078857                             \n2028                                           0.097655                             \n2029                                           0.085008                             \n2030                                           0.049129                             \n2031                                           0.081078                             \n\n      Wage and salaried workers, female (% of female employment) (modeled ILO estimate)  \\\n0                                              0.323412                                   \n1                                              0.378192                                   \n2                                              0.409490                                   \n3                                              0.292724                                   \n4                                              0.317195                                   \n...                                                 ...                                   \n2027                                           0.482987                                   \n2028                                           0.475970                                   \n2029                                           0.599174                                   \n2030                                           0.505235                                   \n2031                                           0.574066                                   \n\n      Wage and salaried workers, male (% of male employment) (modeled ILO estimate)  \\\n0                                              0.336784                               \n1                                              0.258009                               \n2                                              0.283037                               \n3                                              0.318325                               \n4                                              0.347051                               \n...                                                 ...                               \n2027                                           0.446748                               \n2028                                           0.344713                               \n2029                                           0.528091                               \n2030                                           0.456719                               \n2031                                           0.484016                               \n\n      Wage and salaried workers, total (% of total employment) (modeled ILO estimate)  \n0                                              0.355807                                \n1                                              0.438305                                \n2                                              0.495832                                \n3                                              0.516666                                \n4                                              0.452032                                \n...                                                 ...                                \n2027                                           0.472202                                \n2028                                           0.593125                                \n2029                                           0.484817                                \n2030                                           0.395095                                \n2031                                           0.543522                                \n\n[2032 rows x 1224 columns]",
      "text/html": "<div>\n<style scoped>\n    .dataframe tbody tr th:only-of-type {\n        vertical-align: middle;\n    }\n\n    .dataframe tbody tr th {\n        vertical-align: top;\n    }\n\n    .dataframe thead th {\n        text-align: right;\n    }\n</style>\n<table border=\"1\" class=\"dataframe\">\n  <thead>\n    <tr style=\"text-align: right;\">\n      <th></th>\n      <th>Adjusted net national income (annual % growth)</th>\n      <th>Adjusted net national income (constant 2015 US$)</th>\n      <th>Adjusted net national income (current US$)</th>\n      <th>Adjusted net national income per capita (annual % growth)</th>\n      <th>Adjusted net national income per capita (constant 2015 US$)</th>\n      <th>Adjusted net national income per capita (current US$)</th>\n      <th>Adjusted net savings, excluding particulate emission damage (current US$)</th>\n      <th>Adjusted net savings, including particulate emission damage (current US$)</th>\n      <th>Adjusted savings: carbon dioxide damage (current US$)</th>\n      <th>Adjusted savings: consumption of fixed capital (current US$)</th>\n      <th>...</th>\n      <th>Unemployment, youth male (% of male labor force ages 15-24) (modeled ILO estimate)</th>\n      <th>Unemployment, youth male (% of male labor force ages 15-24) (national estimate)</th>\n      <th>Unemployment, youth total (% of total labor force ages 15-24) (modeled ILO estimate)</th>\n      <th>Unemployment, youth total (% of total labor force ages 15-24) (national estimate)</th>\n      <th>Vulnerable employment, female (% of female employment) (modeled ILO estimate)</th>\n      <th>Vulnerable employment, male (% of male employment) (modeled ILO estimate)</th>\n      <th>Vulnerable employment, total (% of total employment) (modeled ILO estimate)</th>\n      <th>Wage and salaried workers, female (% of female employment) (modeled ILO estimate)</th>\n      <th>Wage and salaried workers, male (% of male employment) (modeled ILO estimate)</th>\n      <th>Wage and salaried workers, total (% of total employment) (modeled ILO estimate)</th>\n    </tr>\n  </thead>\n  <tbody>\n    <tr>\n      <th>0</th>\n      <td>0.484076</td>\n      <td>0.018315</td>\n      <td>0.001125</td>\n      <td>0.493361</td>\n      <td>0.232096</td>\n      <td>0.017700</td>\n      <td>0.025495</td>\n      <td>0.037758</td>\n      <td>0.000056</td>\n      <td>0.000635</td>\n      <td>...</td>\n      <td>0.108886</td>\n      <td>0.023856</td>\n      <td>0.076645</td>\n      <td>0.056228</td>\n      <td>0.279695</td>\n      <td>0.201838</td>\n      <td>0.156617</td>\n      <td>0.323412</td>\n      <td>0.336784</td>\n      <td>0.355807</td>\n    </tr>\n    <tr>\n      <th>1</th>\n      <td>0.468048</td>\n      <td>0.014754</td>\n      <td>0.001301</td>\n      <td>0.482257</td>\n      <td>0.223844</td>\n      <td>0.014627</td>\n      <td>0.026590</td>\n      <td>0.037826</td>\n      <td>0.000128</td>\n      <td>0.000285</td>\n      <td>...</td>\n      <td>0.080654</td>\n      <td>0.003790</td>\n      <td>0.109930</td>\n      <td>0.043929</td>\n      <td>0.193565</td>\n      <td>0.248208</td>\n      <td>0.176652</td>\n      <td>0.378192</td>\n      <td>0.258009</td>\n      <td>0.438305</td>\n    </tr>\n    <tr>\n      <th>2</th>\n      <td>0.481640</td>\n      <td>0.017279</td>\n      <td>0.000530</td>\n      <td>0.473711</td>\n      <td>0.250464</td>\n      <td>0.014431</td>\n      <td>0.026371</td>\n      <td>0.038822</td>\n      <td>0.000118</td>\n      <td>0.000204</td>\n      <td>...</td>\n      <td>0.091330</td>\n      <td>0.033513</td>\n      <td>0.087172</td>\n      <td>0.036492</td>\n      <td>0.235089</td>\n      <td>0.298487</td>\n      <td>0.198736</td>\n      <td>0.409490</td>\n      <td>0.283037</td>\n      <td>0.495832</td>\n    </tr>\n    <tr>\n      <th>3</th>\n      <td>0.453289</td>\n      <td>0.016555</td>\n      <td>0.001096</td>\n      <td>0.499597</td>\n      <td>0.228257</td>\n      <td>0.023174</td>\n      <td>0.026353</td>\n      <td>0.034463</td>\n      <td>0.000179</td>\n      <td>0.000457</td>\n      <td>...</td>\n      <td>0.052015</td>\n      <td>0.022731</td>\n      <td>0.091999</td>\n      <td>0.035654</td>\n      <td>0.245976</td>\n      <td>0.240291</td>\n      <td>0.310167</td>\n      <td>0.292724</td>\n      <td>0.318325</td>\n      <td>0.516666</td>\n    </tr>\n    <tr>\n      <th>4</th>\n      <td>0.470644</td>\n      <td>0.022188</td>\n      <td>0.000600</td>\n      <td>0.508247</td>\n      <td>0.202923</td>\n      <td>0.022862</td>\n      <td>0.026775</td>\n      <td>0.030509</td>\n      <td>0.000266</td>\n      <td>0.000555</td>\n      <td>...</td>\n      <td>0.044705</td>\n      <td>0.007773</td>\n      <td>0.118308</td>\n      <td>0.038628</td>\n      <td>0.240441</td>\n      <td>0.223383</td>\n      <td>0.363340</td>\n      <td>0.317195</td>\n      <td>0.347051</td>\n      <td>0.452032</td>\n    </tr>\n    <tr>\n      <th>...</th>\n      <td>...</td>\n      <td>...</td>\n      <td>...</td>\n      <td>...</td>\n      <td>...</td>\n      <td>...</td>\n      <td>...</td>\n      <td>...</td>\n      <td>...</td>\n      <td>...</td>\n      <td>...</td>\n      <td>...</td>\n      <td>...</td>\n      <td>...</td>\n      <td>...</td>\n      <td>...</td>\n      <td>...</td>\n      <td>...</td>\n      <td>...</td>\n      <td>...</td>\n      <td>...</td>\n    </tr>\n    <tr>\n      <th>2027</th>\n      <td>0.355408</td>\n      <td>0.021423</td>\n      <td>0.021071</td>\n      <td>0.376423</td>\n      <td>0.394665</td>\n      <td>0.319516</td>\n      <td>0.022198</td>\n      <td>0.021916</td>\n      <td>0.046591</td>\n      <td>0.021313</td>\n      <td>...</td>\n      <td>0.786150</td>\n      <td>0.826007</td>\n      <td>0.640357</td>\n      <td>0.728138</td>\n      <td>0.083754</td>\n      <td>0.051664</td>\n      <td>0.078857</td>\n      <td>0.482987</td>\n      <td>0.446748</td>\n      <td>0.472202</td>\n    </tr>\n    <tr>\n      <th>2028</th>\n      <td>0.355226</td>\n      <td>0.015958</td>\n      <td>0.012176</td>\n      <td>0.379859</td>\n      <td>0.443141</td>\n      <td>0.318189</td>\n      <td>0.022149</td>\n      <td>0.022046</td>\n      <td>0.043437</td>\n      <td>0.015338</td>\n      <td>...</td>\n      <td>0.525959</td>\n      <td>0.723408</td>\n      <td>0.744625</td>\n      <td>0.823676</td>\n      <td>0.091201</td>\n      <td>0.047630</td>\n      <td>0.097655</td>\n      <td>0.475970</td>\n      <td>0.344713</td>\n      <td>0.593125</td>\n    </tr>\n    <tr>\n      <th>2029</th>\n      <td>0.355856</td>\n      <td>0.020443</td>\n      <td>0.021131</td>\n      <td>0.377490</td>\n      <td>0.433445</td>\n      <td>0.300040</td>\n      <td>0.022193</td>\n      <td>0.021948</td>\n      <td>0.045275</td>\n      <td>0.021177</td>\n      <td>...</td>\n      <td>0.470119</td>\n      <td>0.819686</td>\n      <td>0.710154</td>\n      <td>0.540721</td>\n      <td>0.085964</td>\n      <td>0.065204</td>\n      <td>0.085008</td>\n      <td>0.599174</td>\n      <td>0.528091</td>\n      <td>0.484817</td>\n    </tr>\n    <tr>\n      <th>2030</th>\n      <td>0.356276</td>\n      <td>0.017869</td>\n      <td>0.021781</td>\n      <td>0.377799</td>\n      <td>0.392040</td>\n      <td>0.331834</td>\n      <td>0.022217</td>\n      <td>0.021949</td>\n      <td>0.036685</td>\n      <td>0.021008</td>\n      <td>...</td>\n      <td>0.553846</td>\n      <td>0.799002</td>\n      <td>0.719372</td>\n      <td>0.580822</td>\n      <td>0.081256</td>\n      <td>0.063866</td>\n      <td>0.049129</td>\n      <td>0.505235</td>\n      <td>0.456719</td>\n      <td>0.395095</td>\n    </tr>\n    <tr>\n      <th>2031</th>\n      <td>0.356493</td>\n      <td>0.017229</td>\n      <td>0.019374</td>\n      <td>0.377353</td>\n      <td>0.349044</td>\n      <td>0.259787</td>\n      <td>0.022206</td>\n      <td>0.021948</td>\n      <td>0.035518</td>\n      <td>0.018455</td>\n      <td>...</td>\n      <td>0.762441</td>\n      <td>0.678529</td>\n      <td>0.682693</td>\n      <td>0.722125</td>\n      <td>0.078244</td>\n      <td>0.086123</td>\n      <td>0.081078</td>\n      <td>0.574066</td>\n      <td>0.484016</td>\n      <td>0.543522</td>\n    </tr>\n  </tbody>\n</table>\n<p>2032 rows × 1224 columns</p>\n</div>"
     },
     "execution_count": 2,
     "metadata": {},
     "output_type": "execute_result"
    }
   ],
   "source": [
    "cleared_data_all = pd.read_excel(r'dataset/cleared_dataset/BRICS_all_areas_cleared_dataset.xlsx')\n",
    "cleared_data_all = cleared_data_all.iloc[:, 1:]\n",
    "cleared_data_all"
   ],
   "metadata": {
    "collapsed": false
   }
  },
  {
   "cell_type": "code",
   "execution_count": 3,
   "outputs": [
    {
     "data": {
      "text/plain": "      Adjusted net national income (annual % growth)  \\\n0                                           0.457406   \n1                                           0.457128   \n2                                           0.513473   \n3                                           0.524539   \n4                                           0.539012   \n...                                              ...   \n2027                                        0.380864   \n2028                                        0.379569   \n2029                                        0.379445   \n2030                                        0.379651   \n2031                                        0.380535   \n\n      Adjusted net national income per capita (annual % growth)  \\\n0                                              0.453062           \n1                                              0.470747           \n2                                              0.452032           \n3                                              0.472299           \n4                                              0.476936           \n...                                                 ...           \n2027                                           0.344909           \n2028                                           0.343628           \n2029                                           0.345375           \n2030                                           0.341619           \n2031                                           0.347130           \n\n      Agriculture, forestry, and fishing, value added (annual % growth)  \\\n0                                              0.569723                   \n1                                              0.605518                   \n2                                              0.639689                   \n3                                              0.610210                   \n4                                              0.619483                   \n...                                                 ...                   \n2027                                           0.564977                   \n2028                                           0.611090                   \n2029                                           0.617299                   \n2030                                           0.688184                   \n2031                                           0.710340                   \n\n      Chemicals (% of value added in manufacturing)  \\\n0                                          0.657691   \n1                                          0.697599   \n2                                          0.574743   \n3                                          0.573498   \n4                                          0.490571   \n...                                             ...   \n2027                                       0.023685   \n2028                                       0.088613   \n2029                                       0.077532   \n2030                                       0.069574   \n2031                                       0.102443   \n\n      Communications, computer, etc. (% of service exports, BoP)  \\\n0                                              0.204321            \n1                                              0.379046            \n2                                              0.386501            \n3                                              0.448555            \n4                                              0.540174            \n...                                                 ...            \n2027                                           0.367445            \n2028                                           0.421711            \n2029                                           0.320089            \n2030                                           0.398203            \n2031                                           0.409968            \n\n      Communications, computer, etc. (% of service imports, BoP)  \\\n0                                              0.303860            \n1                                              0.277715            \n2                                              0.228170            \n3                                              0.245257            \n4                                              0.403026            \n...                                                 ...            \n2027                                           0.537930            \n2028                                           0.715505            \n2029                                           0.629314            \n2030                                           0.801984            \n2031                                           0.632586            \n\n      Debt service (PPG and IMF only, % of exports of goods, services and primary income)  \\\n0                                              0.342552                                     \n1                                              0.326866                                     \n2                                              0.400955                                     \n3                                              0.407111                                     \n4                                              0.375958                                     \n...                                                 ...                                     \n2027                                           0.142920                                     \n2028                                           0.217099                                     \n2029                                           0.220856                                     \n2030                                           0.253660                                     \n2031                                           0.198880                                     \n\n      Exports of goods and services (annual % growth)  \\\n0                                            0.572192   \n1                                            0.571897   \n2                                            0.559396   \n3                                            0.549325   \n4                                            0.539631   \n...                                               ...   \n2027                                         0.388038   \n2028                                         0.386017   \n2029                                         0.357104   \n2030                                         0.367616   \n2031                                         0.336541   \n\n      Final consumption expenditure (annual % growth)  \\\n0                                            0.932416   \n1                                            0.970064   \n2                                            0.916655   \n3                                            0.827048   \n4                                            0.742310   \n...                                               ...   \n2027                                         0.306280   \n2028                                         0.277552   \n2029                                         0.256545   \n2030                                         0.194880   \n2031                                         0.194275   \n\n      Food, beverages and tobacco (% of value added in manufacturing)  ...  \\\n0                                              0.255100                ...   \n1                                              0.291585                ...   \n2                                              0.282468                ...   \n3                                              0.278518                ...   \n4                                              0.354712                ...   \n...                                                 ...                ...   \n2027                                           0.802443                ...   \n2028                                           0.943814                ...   \n2029                                           0.750134                ...   \n2030                                           0.752336                ...   \n2031                                           0.610155                ...   \n\n      Unemployment, youth male (% of male labor force ages 15-24) (modeled ILO estimate)  \\\n0                                              0.068611                                    \n1                                              0.067162                                    \n2                                              0.084913                                    \n3                                              0.105380                                    \n4                                              0.105057                                    \n...                                                 ...                                    \n2027                                           0.575320                                    \n2028                                           0.423149                                    \n2029                                           0.654935                                    \n2030                                           0.528392                                    \n2031                                           0.726686                                    \n\n      Unemployment, youth male (% of male labor force ages 15-24) (national estimate)  \\\n0                                              0.047416                                 \n1                                              0.054393                                 \n2                                              0.062121                                 \n3                                              0.039375                                 \n4                                              0.038862                                 \n...                                                 ...                                 \n2027                                           0.676519                                 \n2028                                           0.647875                                 \n2029                                           0.719199                                 \n2030                                           0.576105                                 \n2031                                           0.697730                                 \n\n      Unemployment, youth total (% of total labor force ages 15-24) (modeled ILO estimate)  \\\n0                                              0.111070                                      \n1                                              0.083389                                      \n2                                              0.088835                                      \n3                                              0.094489                                      \n4                                              0.093814                                      \n...                                                 ...                                      \n2027                                           0.781112                                      \n2028                                           0.941687                                      \n2029                                           0.776202                                      \n2030                                           0.519103                                      \n2031                                           0.634831                                      \n\n      Unemployment, youth total (% of total labor force ages 15-24) (national estimate)  \\\n0                                              0.056180                                   \n1                                              0.069938                                   \n2                                              0.078727                                   \n3                                              0.041022                                   \n4                                              0.024142                                   \n...                                                 ...                                   \n2027                                           0.671105                                   \n2028                                           0.748946                                   \n2029                                           0.660155                                   \n2030                                           0.780148                                   \n2031                                           0.790045                                   \n\n      Vulnerable employment, female (% of female employment) (modeled ILO estimate)  \\\n0                                              0.229610                               \n1                                              0.260012                               \n2                                              0.228531                               \n3                                              0.202504                               \n4                                              0.306630                               \n...                                                 ...                               \n2027                                           0.093923                               \n2028                                           0.091576                               \n2029                                           0.096665                               \n2030                                           0.092425                               \n2031                                           0.075364                               \n\n      Vulnerable employment, male (% of male employment) (modeled ILO estimate)  \\\n0                                              0.294200                           \n1                                              0.235632                           \n2                                              0.239684                           \n3                                              0.259351                           \n4                                              0.265141                           \n...                                                 ...                           \n2027                                           0.071851                           \n2028                                           0.075240                           \n2029                                           0.074015                           \n2030                                           0.074955                           \n2031                                           0.087549                           \n\n      Vulnerable employment, total (% of total employment) (modeled ILO estimate)  \\\n0                                              0.233323                             \n1                                              0.294720                             \n2                                              0.268762                             \n3                                              0.266026                             \n4                                              0.229772                             \n...                                                 ...                             \n2027                                           0.056182                             \n2028                                           0.075146                             \n2029                                           0.083483                             \n2030                                           0.063195                             \n2031                                           0.070909                             \n\n      Wage and salaried workers, female (% of female employment) (modeled ILO estimate)  \\\n0                                              0.343718                                   \n1                                              0.268808                                   \n2                                              0.360262                                   \n3                                              0.298337                                   \n4                                              0.354893                                   \n...                                                 ...                                   \n2027                                           0.350254                                   \n2028                                           0.441824                                   \n2029                                           0.422319                                   \n2030                                           0.507861                                   \n2031                                           0.515435                                   \n\n      Wage and salaried workers, male (% of male employment) (modeled ILO estimate)  \\\n0                                              0.338674                               \n1                                              0.404593                               \n2                                              0.354494                               \n3                                              0.474548                               \n4                                              0.295688                               \n...                                                 ...                               \n2027                                           0.506756                               \n2028                                           0.619265                               \n2029                                           0.487406                               \n2030                                           0.401599                               \n2031                                           0.534479                               \n\n      Wage and salaried workers, total (% of total employment) (modeled ILO estimate)  \n0                                              0.365386                                \n1                                              0.345781                                \n2                                              0.379005                                \n3                                              0.358246                                \n4                                              0.201926                                \n...                                                 ...                                \n2027                                           0.504535                                \n2028                                           0.562003                                \n2029                                           0.472707                                \n2030                                           0.612767                                \n2031                                           0.557567                                \n\n[2032 rows x 655 columns]",
      "text/html": "<div>\n<style scoped>\n    .dataframe tbody tr th:only-of-type {\n        vertical-align: middle;\n    }\n\n    .dataframe tbody tr th {\n        vertical-align: top;\n    }\n\n    .dataframe thead th {\n        text-align: right;\n    }\n</style>\n<table border=\"1\" class=\"dataframe\">\n  <thead>\n    <tr style=\"text-align: right;\">\n      <th></th>\n      <th>Adjusted net national income (annual % growth)</th>\n      <th>Adjusted net national income per capita (annual % growth)</th>\n      <th>Agriculture, forestry, and fishing, value added (annual % growth)</th>\n      <th>Chemicals (% of value added in manufacturing)</th>\n      <th>Communications, computer, etc. (% of service exports, BoP)</th>\n      <th>Communications, computer, etc. (% of service imports, BoP)</th>\n      <th>Debt service (PPG and IMF only, % of exports of goods, services and primary income)</th>\n      <th>Exports of goods and services (annual % growth)</th>\n      <th>Final consumption expenditure (annual % growth)</th>\n      <th>Food, beverages and tobacco (% of value added in manufacturing)</th>\n      <th>...</th>\n      <th>Unemployment, youth male (% of male labor force ages 15-24) (modeled ILO estimate)</th>\n      <th>Unemployment, youth male (% of male labor force ages 15-24) (national estimate)</th>\n      <th>Unemployment, youth total (% of total labor force ages 15-24) (modeled ILO estimate)</th>\n      <th>Unemployment, youth total (% of total labor force ages 15-24) (national estimate)</th>\n      <th>Vulnerable employment, female (% of female employment) (modeled ILO estimate)</th>\n      <th>Vulnerable employment, male (% of male employment) (modeled ILO estimate)</th>\n      <th>Vulnerable employment, total (% of total employment) (modeled ILO estimate)</th>\n      <th>Wage and salaried workers, female (% of female employment) (modeled ILO estimate)</th>\n      <th>Wage and salaried workers, male (% of male employment) (modeled ILO estimate)</th>\n      <th>Wage and salaried workers, total (% of total employment) (modeled ILO estimate)</th>\n    </tr>\n  </thead>\n  <tbody>\n    <tr>\n      <th>0</th>\n      <td>0.457406</td>\n      <td>0.453062</td>\n      <td>0.569723</td>\n      <td>0.657691</td>\n      <td>0.204321</td>\n      <td>0.303860</td>\n      <td>0.342552</td>\n      <td>0.572192</td>\n      <td>0.932416</td>\n      <td>0.255100</td>\n      <td>...</td>\n      <td>0.068611</td>\n      <td>0.047416</td>\n      <td>0.111070</td>\n      <td>0.056180</td>\n      <td>0.229610</td>\n      <td>0.294200</td>\n      <td>0.233323</td>\n      <td>0.343718</td>\n      <td>0.338674</td>\n      <td>0.365386</td>\n    </tr>\n    <tr>\n      <th>1</th>\n      <td>0.457128</td>\n      <td>0.470747</td>\n      <td>0.605518</td>\n      <td>0.697599</td>\n      <td>0.379046</td>\n      <td>0.277715</td>\n      <td>0.326866</td>\n      <td>0.571897</td>\n      <td>0.970064</td>\n      <td>0.291585</td>\n      <td>...</td>\n      <td>0.067162</td>\n      <td>0.054393</td>\n      <td>0.083389</td>\n      <td>0.069938</td>\n      <td>0.260012</td>\n      <td>0.235632</td>\n      <td>0.294720</td>\n      <td>0.268808</td>\n      <td>0.404593</td>\n      <td>0.345781</td>\n    </tr>\n    <tr>\n      <th>2</th>\n      <td>0.513473</td>\n      <td>0.452032</td>\n      <td>0.639689</td>\n      <td>0.574743</td>\n      <td>0.386501</td>\n      <td>0.228170</td>\n      <td>0.400955</td>\n      <td>0.559396</td>\n      <td>0.916655</td>\n      <td>0.282468</td>\n      <td>...</td>\n      <td>0.084913</td>\n      <td>0.062121</td>\n      <td>0.088835</td>\n      <td>0.078727</td>\n      <td>0.228531</td>\n      <td>0.239684</td>\n      <td>0.268762</td>\n      <td>0.360262</td>\n      <td>0.354494</td>\n      <td>0.379005</td>\n    </tr>\n    <tr>\n      <th>3</th>\n      <td>0.524539</td>\n      <td>0.472299</td>\n      <td>0.610210</td>\n      <td>0.573498</td>\n      <td>0.448555</td>\n      <td>0.245257</td>\n      <td>0.407111</td>\n      <td>0.549325</td>\n      <td>0.827048</td>\n      <td>0.278518</td>\n      <td>...</td>\n      <td>0.105380</td>\n      <td>0.039375</td>\n      <td>0.094489</td>\n      <td>0.041022</td>\n      <td>0.202504</td>\n      <td>0.259351</td>\n      <td>0.266026</td>\n      <td>0.298337</td>\n      <td>0.474548</td>\n      <td>0.358246</td>\n    </tr>\n    <tr>\n      <th>4</th>\n      <td>0.539012</td>\n      <td>0.476936</td>\n      <td>0.619483</td>\n      <td>0.490571</td>\n      <td>0.540174</td>\n      <td>0.403026</td>\n      <td>0.375958</td>\n      <td>0.539631</td>\n      <td>0.742310</td>\n      <td>0.354712</td>\n      <td>...</td>\n      <td>0.105057</td>\n      <td>0.038862</td>\n      <td>0.093814</td>\n      <td>0.024142</td>\n      <td>0.306630</td>\n      <td>0.265141</td>\n      <td>0.229772</td>\n      <td>0.354893</td>\n      <td>0.295688</td>\n      <td>0.201926</td>\n    </tr>\n    <tr>\n      <th>...</th>\n      <td>...</td>\n      <td>...</td>\n      <td>...</td>\n      <td>...</td>\n      <td>...</td>\n      <td>...</td>\n      <td>...</td>\n      <td>...</td>\n      <td>...</td>\n      <td>...</td>\n      <td>...</td>\n      <td>...</td>\n      <td>...</td>\n      <td>...</td>\n      <td>...</td>\n      <td>...</td>\n      <td>...</td>\n      <td>...</td>\n      <td>...</td>\n      <td>...</td>\n      <td>...</td>\n    </tr>\n    <tr>\n      <th>2027</th>\n      <td>0.380864</td>\n      <td>0.344909</td>\n      <td>0.564977</td>\n      <td>0.023685</td>\n      <td>0.367445</td>\n      <td>0.537930</td>\n      <td>0.142920</td>\n      <td>0.388038</td>\n      <td>0.306280</td>\n      <td>0.802443</td>\n      <td>...</td>\n      <td>0.575320</td>\n      <td>0.676519</td>\n      <td>0.781112</td>\n      <td>0.671105</td>\n      <td>0.093923</td>\n      <td>0.071851</td>\n      <td>0.056182</td>\n      <td>0.350254</td>\n      <td>0.506756</td>\n      <td>0.504535</td>\n    </tr>\n    <tr>\n      <th>2028</th>\n      <td>0.379569</td>\n      <td>0.343628</td>\n      <td>0.611090</td>\n      <td>0.088613</td>\n      <td>0.421711</td>\n      <td>0.715505</td>\n      <td>0.217099</td>\n      <td>0.386017</td>\n      <td>0.277552</td>\n      <td>0.943814</td>\n      <td>...</td>\n      <td>0.423149</td>\n      <td>0.647875</td>\n      <td>0.941687</td>\n      <td>0.748946</td>\n      <td>0.091576</td>\n      <td>0.075240</td>\n      <td>0.075146</td>\n      <td>0.441824</td>\n      <td>0.619265</td>\n      <td>0.562003</td>\n    </tr>\n    <tr>\n      <th>2029</th>\n      <td>0.379445</td>\n      <td>0.345375</td>\n      <td>0.617299</td>\n      <td>0.077532</td>\n      <td>0.320089</td>\n      <td>0.629314</td>\n      <td>0.220856</td>\n      <td>0.357104</td>\n      <td>0.256545</td>\n      <td>0.750134</td>\n      <td>...</td>\n      <td>0.654935</td>\n      <td>0.719199</td>\n      <td>0.776202</td>\n      <td>0.660155</td>\n      <td>0.096665</td>\n      <td>0.074015</td>\n      <td>0.083483</td>\n      <td>0.422319</td>\n      <td>0.487406</td>\n      <td>0.472707</td>\n    </tr>\n    <tr>\n      <th>2030</th>\n      <td>0.379651</td>\n      <td>0.341619</td>\n      <td>0.688184</td>\n      <td>0.069574</td>\n      <td>0.398203</td>\n      <td>0.801984</td>\n      <td>0.253660</td>\n      <td>0.367616</td>\n      <td>0.194880</td>\n      <td>0.752336</td>\n      <td>...</td>\n      <td>0.528392</td>\n      <td>0.576105</td>\n      <td>0.519103</td>\n      <td>0.780148</td>\n      <td>0.092425</td>\n      <td>0.074955</td>\n      <td>0.063195</td>\n      <td>0.507861</td>\n      <td>0.401599</td>\n      <td>0.612767</td>\n    </tr>\n    <tr>\n      <th>2031</th>\n      <td>0.380535</td>\n      <td>0.347130</td>\n      <td>0.710340</td>\n      <td>0.102443</td>\n      <td>0.409968</td>\n      <td>0.632586</td>\n      <td>0.198880</td>\n      <td>0.336541</td>\n      <td>0.194275</td>\n      <td>0.610155</td>\n      <td>...</td>\n      <td>0.726686</td>\n      <td>0.697730</td>\n      <td>0.634831</td>\n      <td>0.790045</td>\n      <td>0.075364</td>\n      <td>0.087549</td>\n      <td>0.070909</td>\n      <td>0.515435</td>\n      <td>0.534479</td>\n      <td>0.557567</td>\n    </tr>\n  </tbody>\n</table>\n<p>2032 rows × 655 columns</p>\n</div>"
     },
     "execution_count": 3,
     "metadata": {},
     "output_type": "execute_result"
    }
   ],
   "source": [
    "cleared_data_only_percent = pd.read_excel(r'dataset/cleared_dataset/BRICS_all_areas_cleared_dataset_only_%.xlsx')\n",
    "cleared_data_only_percent = cleared_data_only_percent.iloc[:, 1:]\n",
    "cleared_data_only_percent"
   ],
   "metadata": {
    "collapsed": false
   }
  },
  {
   "cell_type": "markdown",
   "source": [
    "Division into training and test samples"
   ],
   "metadata": {
    "collapsed": false
   }
  },
  {
   "cell_type": "code",
   "execution_count": 4,
   "outputs": [],
   "source": [
    "test_size = 0.2\n",
    "seed = 7\n",
    "target_feature_name = 'GDP per capita (current US$)'\n",
    "\n",
    "data_X_all = cleared_data_all.drop([target_feature_name], axis=1)\n",
    "data_Y_all = cleared_data_all[target_feature_name]\n",
    "data_X_train_all, data_X_test_all, data_Y_train_all, data_Y_test_all = train_test_split(data_X_all, data_Y_all, test_size=test_size, random_state=seed)\n",
    "\n",
    "data_X_only_percent = cleared_data_only_percent.drop([target_feature_name], axis=1)\n",
    "data_Y_only_percent = cleared_data_only_percent[target_feature_name]\n",
    "data_X_train_only_percent, data_X_test_only_percent, data_Y_train_only_percent, data_Y_test_only_percent = train_test_split(data_X_only_percent, data_Y_only_percent, test_size=test_size, random_state=seed)\n",
    "\n",
    "datasets = [{'X_train': data_X_train_only_percent, 'X_test': data_X_test_only_percent, 'Y_train': data_Y_train_only_percent,\n",
    "             'Y_test': data_Y_test_only_percent, 'name': 'only_percent_dataset'},\n",
    "            {'X_train': data_X_train_all, 'X_test': data_X_test_all,\n",
    "             'Y_train': data_Y_train_all, 'Y_test':data_Y_test_all, 'name': 'original_data'}]"
   ],
   "metadata": {
    "collapsed": false
   }
  },
  {
   "cell_type": "markdown",
   "source": [
    "SVR model"
   ],
   "metadata": {
    "collapsed": false
   }
  },
  {
   "cell_type": "markdown",
   "source": [
    "Define grid search params for SVR"
   ],
   "metadata": {
    "collapsed": false
   }
  },
  {
   "cell_type": "code",
   "execution_count": 5,
   "outputs": [],
   "source": [
    "SVR_greed_search_params = {\n",
    "    'C': [i for i in np.linspace(0.1, 100, num=20)],\n",
    "    'kernel': ['linear', 'poly', 'rbf'],\n",
    "    'degree': [i for i in range(2, 20)],\n",
    "    'gamma' : ['scale', 'auto']\n",
    "}"
   ],
   "metadata": {
    "collapsed": false
   }
  },
  {
   "cell_type": "code",
   "execution_count": 6,
   "outputs": [
    {
     "name": "stdout",
     "output_type": "stream",
     "text": [
      "dataset: only_percent_dataset\n",
      "Best hyper parameters: {'C': 0.1, 'degree': 3, 'gamma': 'scale', 'kernel': 'poly'}\n",
      "RMSE for SVR:  0.059422630844167774\n",
      "R2_score for SVR:  0.8603970590781945\n",
      "\n",
      "dataset: original_data\n",
      "Best hyper parameters: {'C': 0.1, 'degree': 3, 'gamma': 'scale', 'kernel': 'poly'}\n",
      "RMSE for SVR:  0.053753498402619324\n",
      "R2_score for SVR:  0.9055023742080813\n",
      "\n"
     ]
    }
   ],
   "source": [
    "for dataset in datasets:\n",
    "    print(f'dataset: {dataset.get(\"name\")}')\n",
    "    svr_model = SVR()\n",
    "    grid_search = GridSearchCV(svr_model, SVR_greed_search_params, n_jobs=7)\n",
    "    grid_search.fit(dataset.get(\"X_train\"), dataset.get(\"Y_train\"))\n",
    "\n",
    "    best_params = grid_search.best_params_\n",
    "    print(f'Best hyper parameters: {best_params}')\n",
    "\n",
    "    best_svr_model = SVR(\n",
    "        C=best_params.get('C'),\n",
    "        kernel=best_params.get('kernel'),\n",
    "        degree=best_params.get('degree'),\n",
    "        gamma=best_params.get('gamma')\n",
    "    )\n",
    "    best_svr_model.fit(dataset.get(\"X_train\"), dataset.get(\"Y_train\"))\n",
    "\n",
    "    test_predict = best_svr_model.predict(dataset.get(\"X_test\"))\n",
    "    rmse = np.sqrt(mean_squared_error(dataset.get(\"Y_test\"), test_predict))\n",
    "    r2 = r2_score(dataset.get(\"Y_test\"), test_predict)\n",
    "    print(f'RMSE for SVR: ', rmse)\n",
    "    print(f'R2_score for SVR: ', r2)\n",
    "    print()"
   ],
   "metadata": {
    "collapsed": false
   }
  },
  {
   "cell_type": "markdown",
   "source": [
    "Random forest model"
   ],
   "metadata": {
    "collapsed": false
   }
  },
  {
   "cell_type": "markdown",
   "source": [
    "Define grid search params for Random forest model"
   ],
   "metadata": {
    "collapsed": false
   }
  },
  {
   "cell_type": "code",
   "execution_count": 7,
   "outputs": [],
   "source": [
    "random_forest_greed_search_params = {\n",
    "    'n_estimators': [i for i in range(501, 1002, 250)],\n",
    "    'criterion' : [\"squared_error\", \"friedman_mse\"],\n",
    "}"
   ],
   "metadata": {
    "collapsed": false
   }
  },
  {
   "cell_type": "code",
   "execution_count": 8,
   "outputs": [
    {
     "name": "stdout",
     "output_type": "stream",
     "text": [
      "dataset: only_percent_dataset\n",
      "Best hyper parameters: {'criterion': 'squared_error', 'n_estimators': 501}\n",
      "RMSE for SVR:  0.044803395865270886\n",
      "R2_score for SVR:  0.9206379858792111\n",
      "dataset: original_data\n",
      "Best hyper parameters: {'criterion': 'friedman_mse', 'n_estimators': 501}\n",
      "RMSE for SVR:  0.03621971822831626\n",
      "R2_score for SVR:  0.9570960218099002\n"
     ]
    }
   ],
   "source": [
    "for dataset in datasets:\n",
    "    print(f'dataset: {dataset.get(\"name\")}')\n",
    "    random_forest_model = RandomForestRegressor()\n",
    "    grid_search = GridSearchCV(random_forest_model, random_forest_greed_search_params, n_jobs=7)\n",
    "    grid_search.fit(dataset.get(\"X_train\"), dataset.get(\"Y_train\"))\n",
    "\n",
    "    best_params = grid_search.best_params_\n",
    "    print(f'Best hyper parameters: {best_params}')\n",
    "\n",
    "    best_random_forest_model = RandomForestRegressor(\n",
    "        n_estimators=best_params.get('n_estimators'),\n",
    "        criterion=best_params.get('criterion')\n",
    "    )\n",
    "    best_random_forest_model.fit(dataset.get(\"X_train\"), dataset.get(\"Y_train\"))\n",
    "\n",
    "    test_predict = best_random_forest_model.predict(dataset.get(\"X_test\"))\n",
    "    rmse = np.sqrt(mean_squared_error(dataset.get(\"Y_test\"), test_predict))\n",
    "    r2 = r2_score(dataset.get(\"Y_test\"), test_predict)\n",
    "    print(f'RMSE for SVR: ', rmse)\n",
    "    print(f'R2_score for SVR: ', r2)"
   ],
   "metadata": {
    "collapsed": false
   }
  },
  {
   "cell_type": "markdown",
   "source": [
    "Linear Regression"
   ],
   "metadata": {
    "collapsed": false
   }
  },
  {
   "cell_type": "code",
   "execution_count": 9,
   "outputs": [
    {
     "name": "stdout",
     "output_type": "stream",
     "text": [
      "dataset: only_percent_dataset\n",
      "RMSE for Linear Regression: 0.05202448544945905\n",
      "R2_score for Linear Regression 0.8929944254671817\n",
      "\n",
      "dataset: original_data\n",
      "RMSE for Linear Regression: 0.07341650230248918\n",
      "R2_score for Linear Regression 0.8237233418607327\n",
      "\n"
     ]
    }
   ],
   "source": [
    "for dataset in datasets:\n",
    "    print(f'dataset: {dataset.get(\"name\")}')\n",
    "    linear_model = LinearRegression()\n",
    "    linear_model.fit(dataset.get(\"X_train\"), dataset.get(\"Y_train\"))\n",
    "    test_predict = linear_model.predict(dataset.get(\"X_test\"))\n",
    "    rmse = np.sqrt(mean_squared_error(dataset.get(\"Y_test\"), test_predict))\n",
    "    r2 = r2_score(dataset.get(\"Y_test\"), test_predict)\n",
    "    print(\"RMSE for Linear Regression:\", rmse)\n",
    "    print(\"R2_score for Linear Regression\", r2)\n",
    "    print()"
   ],
   "metadata": {
    "collapsed": false
   }
  },
  {
   "cell_type": "markdown",
   "source": [
    "Polynomial Regression (Not working, memory error)"
   ],
   "metadata": {
    "collapsed": false
   }
  },
  {
   "cell_type": "code",
   "execution_count": 10,
   "outputs": [
    {
     "name": "stdout",
     "output_type": "stream",
     "text": [
      "dataset: only_percent_dataset\n"
     ]
    },
    {
     "ename": "MemoryError",
     "evalue": "Unable to allocate 570. GiB for an array with shape (1625, 47049960) and data type float64",
     "output_type": "error",
     "traceback": [
      "\u001B[1;31m---------------------------------------------------------------------------\u001B[0m",
      "\u001B[1;31mMemoryError\u001B[0m                               Traceback (most recent call last)",
      "Cell \u001B[1;32mIn[10], line 7\u001B[0m\n\u001B[0;32m      5\u001B[0m \u001B[38;5;28;01mfor\u001B[39;00m degree \u001B[38;5;129;01min\u001B[39;00m \u001B[38;5;28mrange\u001B[39m(\u001B[38;5;241m2\u001B[39m, \u001B[38;5;241m20\u001B[39m): \u001B[38;5;66;03m#  working only with degree=2\u001B[39;00m\n\u001B[0;32m      6\u001B[0m     polynomial_features \u001B[38;5;241m=\u001B[39m PolynomialFeatures(degree\u001B[38;5;241m=\u001B[39mdegree)\n\u001B[1;32m----> 7\u001B[0m     X_train_poly \u001B[38;5;241m=\u001B[39m \u001B[43mpolynomial_features\u001B[49m\u001B[38;5;241;43m.\u001B[39;49m\u001B[43mfit_transform\u001B[49m\u001B[43m(\u001B[49m\u001B[43mdataset\u001B[49m\u001B[38;5;241;43m.\u001B[39;49m\u001B[43mget\u001B[49m\u001B[43m(\u001B[49m\u001B[38;5;124;43m\"\u001B[39;49m\u001B[38;5;124;43mX_train\u001B[39;49m\u001B[38;5;124;43m\"\u001B[39;49m\u001B[43m)\u001B[49m\u001B[43m)\u001B[49m\n\u001B[0;32m      8\u001B[0m     model \u001B[38;5;241m=\u001B[39m LinearRegression()\n\u001B[0;32m      9\u001B[0m     model\u001B[38;5;241m.\u001B[39mfit(X_train_poly, dataset\u001B[38;5;241m.\u001B[39mget(\u001B[38;5;124m\"\u001B[39m\u001B[38;5;124mY_train\u001B[39m\u001B[38;5;124m\"\u001B[39m))\n",
      "File \u001B[1;32m~\\Desktop\\SUAI\\Magistracy_09.04.04\\predicting_a_country_economic_potential\\env\\lib\\site-packages\\sklearn\\utils\\_set_output.py:157\u001B[0m, in \u001B[0;36m_wrap_method_output.<locals>.wrapped\u001B[1;34m(self, X, *args, **kwargs)\u001B[0m\n\u001B[0;32m    155\u001B[0m \u001B[38;5;129m@wraps\u001B[39m(f)\n\u001B[0;32m    156\u001B[0m \u001B[38;5;28;01mdef\u001B[39;00m \u001B[38;5;21mwrapped\u001B[39m(\u001B[38;5;28mself\u001B[39m, X, \u001B[38;5;241m*\u001B[39margs, \u001B[38;5;241m*\u001B[39m\u001B[38;5;241m*\u001B[39mkwargs):\n\u001B[1;32m--> 157\u001B[0m     data_to_wrap \u001B[38;5;241m=\u001B[39m f(\u001B[38;5;28mself\u001B[39m, X, \u001B[38;5;241m*\u001B[39margs, \u001B[38;5;241m*\u001B[39m\u001B[38;5;241m*\u001B[39mkwargs)\n\u001B[0;32m    158\u001B[0m     \u001B[38;5;28;01mif\u001B[39;00m \u001B[38;5;28misinstance\u001B[39m(data_to_wrap, \u001B[38;5;28mtuple\u001B[39m):\n\u001B[0;32m    159\u001B[0m         \u001B[38;5;66;03m# only wrap the first output for cross decomposition\u001B[39;00m\n\u001B[0;32m    160\u001B[0m         return_tuple \u001B[38;5;241m=\u001B[39m (\n\u001B[0;32m    161\u001B[0m             _wrap_data_with_container(method, data_to_wrap[\u001B[38;5;241m0\u001B[39m], X, \u001B[38;5;28mself\u001B[39m),\n\u001B[0;32m    162\u001B[0m             \u001B[38;5;241m*\u001B[39mdata_to_wrap[\u001B[38;5;241m1\u001B[39m:],\n\u001B[0;32m    163\u001B[0m         )\n",
      "File \u001B[1;32m~\\Desktop\\SUAI\\Magistracy_09.04.04\\predicting_a_country_economic_potential\\env\\lib\\site-packages\\sklearn\\base.py:916\u001B[0m, in \u001B[0;36mTransformerMixin.fit_transform\u001B[1;34m(self, X, y, **fit_params)\u001B[0m\n\u001B[0;32m    912\u001B[0m \u001B[38;5;66;03m# non-optimized default implementation; override when a better\u001B[39;00m\n\u001B[0;32m    913\u001B[0m \u001B[38;5;66;03m# method is possible for a given clustering algorithm\u001B[39;00m\n\u001B[0;32m    914\u001B[0m \u001B[38;5;28;01mif\u001B[39;00m y \u001B[38;5;129;01mis\u001B[39;00m \u001B[38;5;28;01mNone\u001B[39;00m:\n\u001B[0;32m    915\u001B[0m     \u001B[38;5;66;03m# fit method of arity 1 (unsupervised transformation)\u001B[39;00m\n\u001B[1;32m--> 916\u001B[0m     \u001B[38;5;28;01mreturn\u001B[39;00m \u001B[38;5;28;43mself\u001B[39;49m\u001B[38;5;241;43m.\u001B[39;49m\u001B[43mfit\u001B[49m\u001B[43m(\u001B[49m\u001B[43mX\u001B[49m\u001B[43m,\u001B[49m\u001B[43m \u001B[49m\u001B[38;5;241;43m*\u001B[39;49m\u001B[38;5;241;43m*\u001B[39;49m\u001B[43mfit_params\u001B[49m\u001B[43m)\u001B[49m\u001B[38;5;241;43m.\u001B[39;49m\u001B[43mtransform\u001B[49m\u001B[43m(\u001B[49m\u001B[43mX\u001B[49m\u001B[43m)\u001B[49m\n\u001B[0;32m    917\u001B[0m \u001B[38;5;28;01melse\u001B[39;00m:\n\u001B[0;32m    918\u001B[0m     \u001B[38;5;66;03m# fit method of arity 2 (supervised transformation)\u001B[39;00m\n\u001B[0;32m    919\u001B[0m     \u001B[38;5;28;01mreturn\u001B[39;00m \u001B[38;5;28mself\u001B[39m\u001B[38;5;241m.\u001B[39mfit(X, y, \u001B[38;5;241m*\u001B[39m\u001B[38;5;241m*\u001B[39mfit_params)\u001B[38;5;241m.\u001B[39mtransform(X)\n",
      "File \u001B[1;32m~\\Desktop\\SUAI\\Magistracy_09.04.04\\predicting_a_country_economic_potential\\env\\lib\\site-packages\\sklearn\\utils\\_set_output.py:157\u001B[0m, in \u001B[0;36m_wrap_method_output.<locals>.wrapped\u001B[1;34m(self, X, *args, **kwargs)\u001B[0m\n\u001B[0;32m    155\u001B[0m \u001B[38;5;129m@wraps\u001B[39m(f)\n\u001B[0;32m    156\u001B[0m \u001B[38;5;28;01mdef\u001B[39;00m \u001B[38;5;21mwrapped\u001B[39m(\u001B[38;5;28mself\u001B[39m, X, \u001B[38;5;241m*\u001B[39margs, \u001B[38;5;241m*\u001B[39m\u001B[38;5;241m*\u001B[39mkwargs):\n\u001B[1;32m--> 157\u001B[0m     data_to_wrap \u001B[38;5;241m=\u001B[39m f(\u001B[38;5;28mself\u001B[39m, X, \u001B[38;5;241m*\u001B[39margs, \u001B[38;5;241m*\u001B[39m\u001B[38;5;241m*\u001B[39mkwargs)\n\u001B[0;32m    158\u001B[0m     \u001B[38;5;28;01mif\u001B[39;00m \u001B[38;5;28misinstance\u001B[39m(data_to_wrap, \u001B[38;5;28mtuple\u001B[39m):\n\u001B[0;32m    159\u001B[0m         \u001B[38;5;66;03m# only wrap the first output for cross decomposition\u001B[39;00m\n\u001B[0;32m    160\u001B[0m         return_tuple \u001B[38;5;241m=\u001B[39m (\n\u001B[0;32m    161\u001B[0m             _wrap_data_with_container(method, data_to_wrap[\u001B[38;5;241m0\u001B[39m], X, \u001B[38;5;28mself\u001B[39m),\n\u001B[0;32m    162\u001B[0m             \u001B[38;5;241m*\u001B[39mdata_to_wrap[\u001B[38;5;241m1\u001B[39m:],\n\u001B[0;32m    163\u001B[0m         )\n",
      "File \u001B[1;32m~\\Desktop\\SUAI\\Magistracy_09.04.04\\predicting_a_country_economic_potential\\env\\lib\\site-packages\\sklearn\\preprocessing\\_polynomial.py:507\u001B[0m, in \u001B[0;36mPolynomialFeatures.transform\u001B[1;34m(self, X)\u001B[0m\n\u001B[0;32m    503\u001B[0m     XP \u001B[38;5;241m=\u001B[39m sparse\u001B[38;5;241m.\u001B[39mhstack(columns, dtype\u001B[38;5;241m=\u001B[39mX\u001B[38;5;241m.\u001B[39mdtype)\u001B[38;5;241m.\u001B[39mtocsc()\n\u001B[0;32m    504\u001B[0m \u001B[38;5;28;01melse\u001B[39;00m:\n\u001B[0;32m    505\u001B[0m     \u001B[38;5;66;03m# Do as if _min_degree = 0 and cut down array after the\u001B[39;00m\n\u001B[0;32m    506\u001B[0m     \u001B[38;5;66;03m# computation, i.e. use _n_out_full instead of n_output_features_.\u001B[39;00m\n\u001B[1;32m--> 507\u001B[0m     XP \u001B[38;5;241m=\u001B[39m \u001B[43mnp\u001B[49m\u001B[38;5;241;43m.\u001B[39;49m\u001B[43mempty\u001B[49m\u001B[43m(\u001B[49m\n\u001B[0;32m    508\u001B[0m \u001B[43m        \u001B[49m\u001B[43mshape\u001B[49m\u001B[38;5;241;43m=\u001B[39;49m\u001B[43m(\u001B[49m\u001B[43mn_samples\u001B[49m\u001B[43m,\u001B[49m\u001B[43m \u001B[49m\u001B[38;5;28;43mself\u001B[39;49m\u001B[38;5;241;43m.\u001B[39;49m\u001B[43m_n_out_full\u001B[49m\u001B[43m)\u001B[49m\u001B[43m,\u001B[49m\u001B[43m \u001B[49m\u001B[43mdtype\u001B[49m\u001B[38;5;241;43m=\u001B[39;49m\u001B[43mX\u001B[49m\u001B[38;5;241;43m.\u001B[39;49m\u001B[43mdtype\u001B[49m\u001B[43m,\u001B[49m\u001B[43m \u001B[49m\u001B[43morder\u001B[49m\u001B[38;5;241;43m=\u001B[39;49m\u001B[38;5;28;43mself\u001B[39;49m\u001B[38;5;241;43m.\u001B[39;49m\u001B[43morder\u001B[49m\n\u001B[0;32m    509\u001B[0m \u001B[43m    \u001B[49m\u001B[43m)\u001B[49m\n\u001B[0;32m    511\u001B[0m     \u001B[38;5;66;03m# What follows is a faster implementation of:\u001B[39;00m\n\u001B[0;32m    512\u001B[0m     \u001B[38;5;66;03m# for i, comb in enumerate(combinations):\u001B[39;00m\n\u001B[0;32m    513\u001B[0m     \u001B[38;5;66;03m#     XP[:, i] = X[:, comb].prod(1)\u001B[39;00m\n\u001B[1;32m   (...)\u001B[0m\n\u001B[0;32m    523\u001B[0m \n\u001B[0;32m    524\u001B[0m     \u001B[38;5;66;03m# degree 0 term\u001B[39;00m\n\u001B[0;32m    525\u001B[0m     \u001B[38;5;28;01mif\u001B[39;00m \u001B[38;5;28mself\u001B[39m\u001B[38;5;241m.\u001B[39minclude_bias:\n",
      "\u001B[1;31mMemoryError\u001B[0m: Unable to allocate 570. GiB for an array with shape (1625, 47049960) and data type float64"
     ]
    }
   ],
   "source": [
    "for dataset in datasets:\n",
    "    r2_scores = []\n",
    "    rmse_values = []\n",
    "    print(f'dataset: {dataset.get(\"name\")}')\n",
    "    for degree in range(2, 20): #  working only with degree=2\n",
    "        polynomial_features = PolynomialFeatures(degree=degree)\n",
    "        X_train_poly = polynomial_features.fit_transform(dataset.get(\"X_train\"))\n",
    "        model = LinearRegression()\n",
    "        model.fit(X_train_poly, dataset.get(\"Y_train\"))\n",
    "\n",
    "        test_predict = model.predict(polynomial_features.fit_transform(dataset.get(\"X_test\")))\n",
    "        rmse_values.append(np.sqrt(mean_squared_error(test_predict, dataset.get(\"Y_test\"))))\n",
    "        r2_scores.append(r2_score(test_predict, dataset.get(\"Y_test\")))\n",
    "\n",
    "    max_r2_scores_degree = r2_scores.index(max(r2_scores))\n",
    "    print(f'Degree with maximum r2: {max_r2_scores_degree+2}')\n",
    "    print(f\"RMSE for Polynomial Regression with degree {max_r2_scores_degree+2}:\", r2_scores[max_r2_scores_degree])\n",
    "    print(f\"R2_score for Polynomial Regression with degree {max_r2_scores_degree+2}:\", rmse_values[max_r2_scores_degree])\n",
    "    print()\n",
    "\n",
    "    max_rmse_degree = rmse_values.index(max(rmse_values))\n",
    "    print(f'Degree with minimum rmse: {max_rmse_degree+2}')\n",
    "    print(f\"RMSE for Polynomial Regression with degree {max_rmse_degree+2}:\", r2_scores[max_rmse_degree])\n",
    "    print(f\"R2_score for Polynomial Regression with degree {max_rmse_degree+2}:\", rmse_values[max_rmse_degree])\n",
    "    print()"
   ],
   "metadata": {
    "collapsed": false
   }
  },
  {
   "cell_type": "code",
   "execution_count": 11,
   "outputs": [],
   "source": [
    "tree_greed_search_params = {\n",
    "    'splitter': [\"best\", \"random\"],\n",
    "    'criterion' : [\"squared_error\", \"friedman_mse\", \"absolute_error\", \"poisson\"],\n",
    "}"
   ],
   "metadata": {
    "collapsed": false
   }
  },
  {
   "cell_type": "code",
   "execution_count": 12,
   "outputs": [
    {
     "name": "stdout",
     "output_type": "stream",
     "text": [
      "dataset: only_percent_dataset\n",
      "Best hyper parameters: {'criterion': 'friedman_mse', 'splitter': 'random'}\n",
      "RMSE for tree:  0.05580004046803804\n",
      "R2_score for tree:  0.8768994923312178\n",
      "dataset: original_data\n",
      "Best hyper parameters: {'criterion': 'squared_error', 'splitter': 'best'}\n",
      "RMSE for tree:  0.057037827184225995\n",
      "R2_score for tree:  0.8936020220536308\n"
     ]
    }
   ],
   "source": [
    "for dataset in datasets:\n",
    "    print(f'dataset: {dataset.get(\"name\")}')\n",
    "    tree_model = DecisionTreeRegressor()\n",
    "\n",
    "    grid_search = GridSearchCV(tree_model, tree_greed_search_params, n_jobs=7)\n",
    "    grid_search.fit(dataset.get(\"X_train\"), dataset.get(\"Y_train\"))\n",
    "\n",
    "    best_params = grid_search.best_params_\n",
    "    print(f'Best hyper parameters: {best_params}')\n",
    "\n",
    "    best_tree_model = DecisionTreeRegressor(\n",
    "        splitter=best_params.get('splitter'),\n",
    "        criterion=best_params.get('criterion')\n",
    "    )\n",
    "\n",
    "    best_tree_model.fit(dataset.get(\"X_train\"), dataset.get(\"Y_train\"))\n",
    "    test_predict = best_tree_model.predict(dataset.get(\"X_test\"))\n",
    "    rmse = np.sqrt(mean_squared_error(dataset.get(\"Y_test\"), test_predict))\n",
    "    r2 = r2_score(dataset.get(\"Y_test\"), test_predict)\n",
    "    print(f'RMSE for tree: ', rmse)\n",
    "    print(f'R2_score for tree: ', r2)"
   ],
   "metadata": {
    "collapsed": false
   }
  },
  {
   "cell_type": "markdown",
   "source": [
    "Bagging for regression models"
   ],
   "metadata": {
    "collapsed": false
   }
  },
  {
   "cell_type": "code",
   "execution_count": 13,
   "outputs": [
    {
     "name": "stdout",
     "output_type": "stream",
     "text": [
      "dataset: only_percent_dataset\n",
      "RMSE for Bagging svr_model: 0.0756793031665327\n",
      "R2_score for Bagging svr_model: 0.7735642133413327\n",
      "\n",
      "RMSE for Bagging linear_model: 0.04872251779606758\n",
      "R2_score for Bagging linear_model: 0.9061465456108543\n",
      "\n",
      "RMSE for Bagging tree: 0.0532003277993874\n",
      "R2_score for Bagging tree: 0.888102745029903\n",
      "\n",
      "dataset: original_data\n",
      "RMSE for Bagging svr_model: 0.07076365151355261\n",
      "R2_score for Bagging svr_model: 0.8362324324155682\n",
      "\n",
      "RMSE for Bagging linear_model: 0.0383915687476038\n",
      "R2_score for Bagging linear_model: 0.9517964364627444\n",
      "\n",
      "RMSE for Bagging tree: 0.043905995982801975\n",
      "R2_score for Bagging tree: 0.9369543545876134\n",
      "\n"
     ]
    }
   ],
   "source": [
    "best_models = [\n",
    "    [\n",
    "        {'model': SVR(C=0.1, degree=3, gamma='scale', kernel='poly'), 'name': 'svr_model'},\n",
    "        {'model': LinearRegression(), 'name': 'linear_model'},\n",
    "        {'model': DecisionTreeRegressor(criterion=\"friedman_mse\", splitter='random'), 'name': 'tree'}\n",
    "    ],\n",
    "    [\n",
    "        {'model': SVR(C=0.1, degree=3, gamma='scale', kernel='poly'), 'name': 'svr_model'},\n",
    "        {'model': LinearRegression(), 'name': 'linear_model'},\n",
    "        {'model': DecisionTreeRegressor(criterion=\"squared_error\", splitter='best'), 'name': 'tree'}\n",
    "    ]\n",
    "]\n",
    "\n",
    "for models, dataset in zip(best_models, datasets):\n",
    "    print(f'dataset: {dataset.get(\"name\")}')\n",
    "    for model in models:\n",
    "        bagging_model = BaggingRegressor(model.get('model'), max_samples=200, n_estimators=300)\n",
    "        bagging_model.fit(dataset.get(\"X_train\"), dataset.get(\"Y_train\"))\n",
    "        test_predict = bagging_model.predict(dataset.get(\"X_test\"))\n",
    "        rmse = np.sqrt(mean_squared_error(dataset.get(\"Y_test\"), test_predict))\n",
    "        r2 = r2_score(dataset.get(\"Y_test\"), test_predict)\n",
    "        print(f'RMSE for Bagging {model.get(\"name\")}:', rmse)\n",
    "        print(f'R2_score for Bagging {model.get(\"name\")}:', r2)\n",
    "        print()"
   ],
   "metadata": {
    "collapsed": false
   }
  }
 ],
 "metadata": {
  "kernelspec": {
   "display_name": "Python 3",
   "language": "python",
   "name": "python3"
  },
  "language_info": {
   "codemirror_mode": {
    "name": "ipython",
    "version": 2
   },
   "file_extension": ".py",
   "mimetype": "text/x-python",
   "name": "python",
   "nbconvert_exporter": "python",
   "pygments_lexer": "ipython2",
   "version": "2.7.6"
  }
 },
 "nbformat": 4,
 "nbformat_minor": 0
}
