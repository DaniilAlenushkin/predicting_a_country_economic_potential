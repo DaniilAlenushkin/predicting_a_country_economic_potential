{
 "cells": [
  {
   "cell_type": "code",
   "execution_count": 1,
   "metadata": {
    "collapsed": true
   },
   "outputs": [],
   "source": [
    "import pandas as pd\n",
    "import numpy as np\n",
    "from sklearn.ensemble import BaggingRegressor\n",
    "from sklearn.metrics import mean_squared_error, r2_score\n",
    "from sklearn.model_selection import train_test_split, GridSearchCV\n",
    "from sklearn.svm import SVR\n",
    "from sklearn.ensemble import RandomForestRegressor"
   ]
  },
  {
   "cell_type": "code",
   "execution_count": 2,
   "outputs": [
    {
     "data": {
      "text/plain": "     Adjusted net national income (annual % growth)  \\\n0                                          0.466468   \n1                                          0.474331   \n2                                          0.470348   \n3                                          0.392740   \n4                                          0.370858   \n..                                              ...   \n249                                        0.331415   \n250                                        0.364604   \n251                                        0.330632   \n252                                        0.339407   \n253                                        0.339407   \n\n     Adjusted net national income (constant 2015 US$)  \\\n0                                            0.023250   \n1                                            0.026944   \n2                                            0.030977   \n3                                            0.032909   \n4                                            0.034175   \n..                                                ...   \n249                                          0.016029   \n250                                          0.016629   \n251                                          0.016546   \n252                                          0.016643   \n253                                          0.016643   \n\n     Adjusted net national income (current US$)  \\\n0                                      0.002405   \n1                                      0.003136   \n2                                      0.004704   \n3                                      0.006695   \n4                                      0.008052   \n..                                          ...   \n249                                    0.019158   \n250                                    0.022937   \n251                                    0.024108   \n252                                    0.022847   \n253                                    0.022847   \n\n     Adjusted net national income per capita (annual % growth)  \\\n0                                             0.457415           \n1                                             0.465886           \n2                                             0.462350           \n3                                             0.385312           \n4                                             0.363500           \n..                                                 ...           \n249                                           0.334386           \n250                                           0.368325           \n251                                           0.334825           \n252                                           0.344179           \n253                                           0.344179           \n\n     Adjusted net national income per capita (constant 2015 US$)  \\\n0                                             0.404815             \n1                                             0.447581             \n2                                             0.492994             \n3                                             0.507183             \n4                                             0.511439             \n..                                                 ...             \n249                                           0.544406             \n250                                           0.551393             \n251                                           0.543768             \n252                                           0.537904             \n253                                           0.537904             \n\n     Adjusted net national income per capita (current US$)  \\\n0                                             0.029051       \n1                                             0.035074       \n2                                             0.048522       \n3                                             0.065131       \n4                                             0.075355       \n..                                                 ...       \n249                                           0.337768       \n250                                           0.395443       \n251                                           0.409095       \n252                                           0.383322       \n253                                           0.383322       \n\n     Adjusted net savings, excluding particulate emission damage (current US$)  \\\n0                                             0.032175                           \n1                                             0.032175                           \n2                                             0.032175                           \n3                                             0.032175                           \n4                                             0.032175                           \n..                                                 ...                           \n249                                           0.027293                           \n250                                           0.028351                           \n251                                           0.027044                           \n252                                           0.026512                           \n253                                           0.026512                           \n\n     Adjusted net savings, including particulate emission damage (current US$)  \\\n0                                             0.044063                           \n1                                             0.044063                           \n2                                             0.044063                           \n3                                             0.044063                           \n4                                             0.044063                           \n..                                                 ...                           \n249                                           0.027860                           \n250                                           0.028878                           \n251                                           0.027525                           \n252                                           0.027018                           \n253                                           0.027018                           \n\n     Adjusted savings: carbon dioxide damage (current US$)  \\\n0                                             0.000099       \n1                                             0.000224       \n2                                             0.000421       \n3                                             0.000625       \n4                                             0.000836       \n..                                                 ...       \n249                                           0.038400       \n250                                           0.039675       \n251                                           0.040959       \n252                                           0.041808       \n253                                           0.041808       \n\n     Adjusted savings: consumption of fixed capital (current US$)  ...  \\\n0                                             0.000515             ...   \n1                                             0.000844             ...   \n2                                             0.001627             ...   \n3                                             0.002527             ...   \n4                                             0.003249             ...   \n..                                                 ...             ...   \n249                                           0.016573             ...   \n250                                           0.019051             ...   \n251                                           0.020352             ...   \n252                                           0.019620             ...   \n253                                           0.019620             ...   \n\n     Unemployment, youth male (% of male labor force ages 15-24) (modeled ILO estimate)  \\\n0                                             0.097264                                    \n1                                             0.097264                                    \n2                                             0.097264                                    \n3                                             0.097264                                    \n4                                             0.097264                                    \n..                                                 ...                                    \n249                                           0.867180                                    \n250                                           0.871438                                    \n251                                           0.877922                                    \n252                                           0.958079                                    \n253                                           1.000000                                    \n\n     Unemployment, youth male (% of male labor force ages 15-24) (national estimate)  \\\n0                                             0.034784                                 \n1                                             0.034784                                 \n2                                             0.034784                                 \n3                                             0.034784                                 \n4                                             0.034784                                 \n..                                                 ...                                 \n249                                           0.844326                                 \n250                                           0.848698                                 \n251                                           0.854971                                 \n252                                           0.932332                                 \n253                                           0.974340                                 \n\n     Unemployment, youth total (% of total labor force ages 15-24) (modeled ILO estimate)  \\\n0                                             0.128246                                      \n1                                             0.128246                                      \n2                                             0.128246                                      \n3                                             0.128246                                      \n4                                             0.128246                                      \n..                                                 ...                                      \n249                                           0.879691                                      \n250                                           0.876980                                      \n251                                           0.880779                                      \n252                                           0.945598                                      \n253                                           0.985552                                      \n\n     Unemployment, youth total (% of total labor force ages 15-24) (national estimate)  \\\n0                                             0.031900                                   \n1                                             0.031900                                   \n2                                             0.031900                                   \n3                                             0.031900                                   \n4                                             0.031900                                   \n..                                                 ...                                   \n249                                           0.860416                                   \n250                                           0.857772                                   \n251                                           0.861473                                   \n252                                           0.925626                                   \n253                                           0.966338                                   \n\n     Vulnerable employment, female (% of female employment) (modeled ILO estimate)  \\\n0                                             0.353787                               \n1                                             0.353787                               \n2                                             0.353787                               \n3                                             0.353787                               \n4                                             0.353787                               \n..                                                 ...                               \n249                                           0.102488                               \n250                                           0.108237                               \n251                                           0.108458                               \n252                                           0.112327                               \n253                                           0.112327                               \n\n     Vulnerable employment, male (% of male employment) (modeled ILO estimate)  \\\n0                                             0.417618                           \n1                                             0.417618                           \n2                                             0.417618                           \n3                                             0.417618                           \n4                                             0.417618                           \n..                                                 ...                           \n249                                           0.107444                           \n250                                           0.109801                           \n251                                           0.118486                           \n252                                           0.122705                           \n253                                           0.122705                           \n\n     Vulnerable employment, total (% of total employment) (modeled ILO estimate)  \\\n0                                             0.399133                             \n1                                             0.399133                             \n2                                             0.399133                             \n3                                             0.399133                             \n4                                             0.399133                             \n..                                                 ...                             \n249                                           0.107727                             \n250                                           0.111820                             \n251                                           0.116514                             \n252                                           0.120727                             \n253                                           0.120727                             \n\n     Wage and salaried workers, female (% of female employment) (modeled ILO estimate)  \\\n0                                             0.630320                                   \n1                                             0.630320                                   \n2                                             0.630320                                   \n3                                             0.630320                                   \n4                                             0.630320                                   \n..                                                 ...                                   \n249                                           0.869680                                   \n250                                           0.862659                                   \n251                                           0.867486                                   \n252                                           0.859039                                   \n253                                           0.859039                                   \n\n     Wage and salaried workers, male (% of male employment) (modeled ILO estimate)  \\\n0                                             0.535293                               \n1                                             0.535293                               \n2                                             0.535293                               \n3                                             0.535293                               \n4                                             0.535293                               \n..                                                 ...                               \n249                                           0.802576                               \n250                                           0.800510                               \n251                                           0.793950                               \n252                                           0.784473                               \n253                                           0.784473                               \n\n     Wage and salaried workers, total (% of total employment) (modeled ILO estimate)  \n0                                             0.565233                                \n1                                             0.565233                                \n2                                             0.565233                                \n3                                             0.565233                                \n4                                             0.565233                                \n..                                                 ...                                \n249                                           0.830064                                \n250                                           0.825928                                \n251                                           0.824746                                \n252                                           0.815646                                \n253                                           0.815646                                \n\n[254 rows x 1224 columns]",
      "text/html": "<div>\n<style scoped>\n    .dataframe tbody tr th:only-of-type {\n        vertical-align: middle;\n    }\n\n    .dataframe tbody tr th {\n        vertical-align: top;\n    }\n\n    .dataframe thead th {\n        text-align: right;\n    }\n</style>\n<table border=\"1\" class=\"dataframe\">\n  <thead>\n    <tr style=\"text-align: right;\">\n      <th></th>\n      <th>Adjusted net national income (annual % growth)</th>\n      <th>Adjusted net national income (constant 2015 US$)</th>\n      <th>Adjusted net national income (current US$)</th>\n      <th>Adjusted net national income per capita (annual % growth)</th>\n      <th>Adjusted net national income per capita (constant 2015 US$)</th>\n      <th>Adjusted net national income per capita (current US$)</th>\n      <th>Adjusted net savings, excluding particulate emission damage (current US$)</th>\n      <th>Adjusted net savings, including particulate emission damage (current US$)</th>\n      <th>Adjusted savings: carbon dioxide damage (current US$)</th>\n      <th>Adjusted savings: consumption of fixed capital (current US$)</th>\n      <th>...</th>\n      <th>Unemployment, youth male (% of male labor force ages 15-24) (modeled ILO estimate)</th>\n      <th>Unemployment, youth male (% of male labor force ages 15-24) (national estimate)</th>\n      <th>Unemployment, youth total (% of total labor force ages 15-24) (modeled ILO estimate)</th>\n      <th>Unemployment, youth total (% of total labor force ages 15-24) (national estimate)</th>\n      <th>Vulnerable employment, female (% of female employment) (modeled ILO estimate)</th>\n      <th>Vulnerable employment, male (% of male employment) (modeled ILO estimate)</th>\n      <th>Vulnerable employment, total (% of total employment) (modeled ILO estimate)</th>\n      <th>Wage and salaried workers, female (% of female employment) (modeled ILO estimate)</th>\n      <th>Wage and salaried workers, male (% of male employment) (modeled ILO estimate)</th>\n      <th>Wage and salaried workers, total (% of total employment) (modeled ILO estimate)</th>\n    </tr>\n  </thead>\n  <tbody>\n    <tr>\n      <th>0</th>\n      <td>0.466468</td>\n      <td>0.023250</td>\n      <td>0.002405</td>\n      <td>0.457415</td>\n      <td>0.404815</td>\n      <td>0.029051</td>\n      <td>0.032175</td>\n      <td>0.044063</td>\n      <td>0.000099</td>\n      <td>0.000515</td>\n      <td>...</td>\n      <td>0.097264</td>\n      <td>0.034784</td>\n      <td>0.128246</td>\n      <td>0.031900</td>\n      <td>0.353787</td>\n      <td>0.417618</td>\n      <td>0.399133</td>\n      <td>0.630320</td>\n      <td>0.535293</td>\n      <td>0.565233</td>\n    </tr>\n    <tr>\n      <th>1</th>\n      <td>0.474331</td>\n      <td>0.026944</td>\n      <td>0.003136</td>\n      <td>0.465886</td>\n      <td>0.447581</td>\n      <td>0.035074</td>\n      <td>0.032175</td>\n      <td>0.044063</td>\n      <td>0.000224</td>\n      <td>0.000844</td>\n      <td>...</td>\n      <td>0.097264</td>\n      <td>0.034784</td>\n      <td>0.128246</td>\n      <td>0.031900</td>\n      <td>0.353787</td>\n      <td>0.417618</td>\n      <td>0.399133</td>\n      <td>0.630320</td>\n      <td>0.535293</td>\n      <td>0.565233</td>\n    </tr>\n    <tr>\n      <th>2</th>\n      <td>0.470348</td>\n      <td>0.030977</td>\n      <td>0.004704</td>\n      <td>0.462350</td>\n      <td>0.492994</td>\n      <td>0.048522</td>\n      <td>0.032175</td>\n      <td>0.044063</td>\n      <td>0.000421</td>\n      <td>0.001627</td>\n      <td>...</td>\n      <td>0.097264</td>\n      <td>0.034784</td>\n      <td>0.128246</td>\n      <td>0.031900</td>\n      <td>0.353787</td>\n      <td>0.417618</td>\n      <td>0.399133</td>\n      <td>0.630320</td>\n      <td>0.535293</td>\n      <td>0.565233</td>\n    </tr>\n    <tr>\n      <th>3</th>\n      <td>0.392740</td>\n      <td>0.032909</td>\n      <td>0.006695</td>\n      <td>0.385312</td>\n      <td>0.507183</td>\n      <td>0.065131</td>\n      <td>0.032175</td>\n      <td>0.044063</td>\n      <td>0.000625</td>\n      <td>0.002527</td>\n      <td>...</td>\n      <td>0.097264</td>\n      <td>0.034784</td>\n      <td>0.128246</td>\n      <td>0.031900</td>\n      <td>0.353787</td>\n      <td>0.417618</td>\n      <td>0.399133</td>\n      <td>0.630320</td>\n      <td>0.535293</td>\n      <td>0.565233</td>\n    </tr>\n    <tr>\n      <th>4</th>\n      <td>0.370858</td>\n      <td>0.034175</td>\n      <td>0.008052</td>\n      <td>0.363500</td>\n      <td>0.511439</td>\n      <td>0.075355</td>\n      <td>0.032175</td>\n      <td>0.044063</td>\n      <td>0.000836</td>\n      <td>0.003249</td>\n      <td>...</td>\n      <td>0.097264</td>\n      <td>0.034784</td>\n      <td>0.128246</td>\n      <td>0.031900</td>\n      <td>0.353787</td>\n      <td>0.417618</td>\n      <td>0.399133</td>\n      <td>0.630320</td>\n      <td>0.535293</td>\n      <td>0.565233</td>\n    </tr>\n    <tr>\n      <th>...</th>\n      <td>...</td>\n      <td>...</td>\n      <td>...</td>\n      <td>...</td>\n      <td>...</td>\n      <td>...</td>\n      <td>...</td>\n      <td>...</td>\n      <td>...</td>\n      <td>...</td>\n      <td>...</td>\n      <td>...</td>\n      <td>...</td>\n      <td>...</td>\n      <td>...</td>\n      <td>...</td>\n      <td>...</td>\n      <td>...</td>\n      <td>...</td>\n      <td>...</td>\n      <td>...</td>\n    </tr>\n    <tr>\n      <th>249</th>\n      <td>0.331415</td>\n      <td>0.016029</td>\n      <td>0.019158</td>\n      <td>0.334386</td>\n      <td>0.544406</td>\n      <td>0.337768</td>\n      <td>0.027293</td>\n      <td>0.027860</td>\n      <td>0.038400</td>\n      <td>0.016573</td>\n      <td>...</td>\n      <td>0.867180</td>\n      <td>0.844326</td>\n      <td>0.879691</td>\n      <td>0.860416</td>\n      <td>0.102488</td>\n      <td>0.107444</td>\n      <td>0.107727</td>\n      <td>0.869680</td>\n      <td>0.802576</td>\n      <td>0.830064</td>\n    </tr>\n    <tr>\n      <th>250</th>\n      <td>0.364604</td>\n      <td>0.016629</td>\n      <td>0.022937</td>\n      <td>0.368325</td>\n      <td>0.551393</td>\n      <td>0.395443</td>\n      <td>0.028351</td>\n      <td>0.028878</td>\n      <td>0.039675</td>\n      <td>0.019051</td>\n      <td>...</td>\n      <td>0.871438</td>\n      <td>0.848698</td>\n      <td>0.876980</td>\n      <td>0.857772</td>\n      <td>0.108237</td>\n      <td>0.109801</td>\n      <td>0.111820</td>\n      <td>0.862659</td>\n      <td>0.800510</td>\n      <td>0.825928</td>\n    </tr>\n    <tr>\n      <th>251</th>\n      <td>0.330632</td>\n      <td>0.016546</td>\n      <td>0.024108</td>\n      <td>0.334825</td>\n      <td>0.543768</td>\n      <td>0.409095</td>\n      <td>0.027044</td>\n      <td>0.027525</td>\n      <td>0.040959</td>\n      <td>0.020352</td>\n      <td>...</td>\n      <td>0.877922</td>\n      <td>0.854971</td>\n      <td>0.880779</td>\n      <td>0.861473</td>\n      <td>0.108458</td>\n      <td>0.118486</td>\n      <td>0.116514</td>\n      <td>0.867486</td>\n      <td>0.793950</td>\n      <td>0.824746</td>\n    </tr>\n    <tr>\n      <th>252</th>\n      <td>0.339407</td>\n      <td>0.016643</td>\n      <td>0.022847</td>\n      <td>0.344179</td>\n      <td>0.537904</td>\n      <td>0.383322</td>\n      <td>0.026512</td>\n      <td>0.027018</td>\n      <td>0.041808</td>\n      <td>0.019620</td>\n      <td>...</td>\n      <td>0.958079</td>\n      <td>0.932332</td>\n      <td>0.945598</td>\n      <td>0.925626</td>\n      <td>0.112327</td>\n      <td>0.122705</td>\n      <td>0.120727</td>\n      <td>0.859039</td>\n      <td>0.784473</td>\n      <td>0.815646</td>\n    </tr>\n    <tr>\n      <th>253</th>\n      <td>0.339407</td>\n      <td>0.016643</td>\n      <td>0.022847</td>\n      <td>0.344179</td>\n      <td>0.537904</td>\n      <td>0.383322</td>\n      <td>0.026512</td>\n      <td>0.027018</td>\n      <td>0.041808</td>\n      <td>0.019620</td>\n      <td>...</td>\n      <td>1.000000</td>\n      <td>0.974340</td>\n      <td>0.985552</td>\n      <td>0.966338</td>\n      <td>0.112327</td>\n      <td>0.122705</td>\n      <td>0.120727</td>\n      <td>0.859039</td>\n      <td>0.784473</td>\n      <td>0.815646</td>\n    </tr>\n  </tbody>\n</table>\n<p>254 rows × 1224 columns</p>\n</div>"
     },
     "execution_count": 2,
     "metadata": {},
     "output_type": "execute_result"
    }
   ],
   "source": [
    "cleared_data = pd.read_excel(r'dataset/cleared_dataset/BRICS_all_areas_cleared_dataset.xlsx')\n",
    "cleared_data = cleared_data.iloc[:, 1:]\n",
    "cleared_data"
   ],
   "metadata": {
    "collapsed": false
   }
  },
  {
   "cell_type": "markdown",
   "source": [
    "Division into training and test samples"
   ],
   "metadata": {
    "collapsed": false
   }
  },
  {
   "cell_type": "code",
   "execution_count": 3,
   "outputs": [],
   "source": [
    "test_size = 0.2\n",
    "seed = 7\n",
    "target_feature_name = 'GDP per capita (current US$)'\n",
    "\n",
    "data_X = cleared_data.drop([target_feature_name], axis=1)\n",
    "data_Y = cleared_data[target_feature_name]\n",
    "\n",
    "data_X_train, data_X_test, data_Y_train, data_Y_test = train_test_split(data_X, data_Y, test_size=test_size, random_state=seed)"
   ],
   "metadata": {
    "collapsed": false
   }
  },
  {
   "cell_type": "markdown",
   "source": [
    "SVR model"
   ],
   "metadata": {
    "collapsed": false
   }
  },
  {
   "cell_type": "markdown",
   "source": [
    "Define grid search params for SVR"
   ],
   "metadata": {
    "collapsed": false
   }
  },
  {
   "cell_type": "code",
   "execution_count": 4,
   "outputs": [],
   "source": [
    "SVR_greed_search_params = {\n",
    "    'C': [i for i in np.linspace(0.1, 50, num=100)],\n",
    "    'kernel': ['linear', 'poly'],\n",
    "    'degree': [i for i in range(2, 20)],\n",
    "    'gamma' : ['scale', 'auto']\n",
    "}"
   ],
   "metadata": {
    "collapsed": false
   }
  },
  {
   "cell_type": "code",
   "execution_count": 5,
   "outputs": [
    {
     "name": "stdout",
     "output_type": "stream",
     "text": [
      "Best hyper parameters: {'C': 0.1, 'degree': 2, 'gamma': 'scale', 'kernel': 'linear'}\n",
      "RMSE for SVR:  0.05613233798100877\n",
      "R2_score for SVR:  0.8805023350012436\n"
     ]
    }
   ],
   "source": [
    "svr_model = SVR()\n",
    "\n",
    "grid_search = GridSearchCV(svr_model, SVR_greed_search_params, n_jobs=4)\n",
    "grid_search.fit(data_X_train, data_Y_train)\n",
    "\n",
    "best_params = grid_search.best_params_\n",
    "print(f'Best hyper parameters: {best_params}')\n",
    "\n",
    "best_svr_model = SVR(\n",
    "    C=best_params.get('C'),\n",
    "    kernel=best_params.get('kernel')\n",
    ")\n",
    "best_svr_model.fit(data_X_train, data_Y_train)\n",
    "\n",
    "test_predict = best_svr_model.predict(data_X_test)\n",
    "rmse = np.sqrt(mean_squared_error(data_Y_test, test_predict))\n",
    "r2 = r2_score(data_Y_test, test_predict)\n",
    "print(f'RMSE for SVR: ', rmse)\n",
    "print(f'R2_score for SVR: ', r2)"
   ],
   "metadata": {
    "collapsed": false
   }
  },
  {
   "cell_type": "markdown",
   "source": [
    "Random forest model"
   ],
   "metadata": {
    "collapsed": false
   }
  },
  {
   "cell_type": "markdown",
   "source": [
    "Define grid search params for Random forest model"
   ],
   "metadata": {
    "collapsed": false
   }
  },
  {
   "cell_type": "code",
   "execution_count": 6,
   "outputs": [],
   "source": [
    "random_forest_greed_search_params = {\n",
    "    'n_estimators': [i for i in range(100, 1001, 100)],\n",
    "    'criterion' : [\"squared_error\", \"absolute_error\", \"friedman_mse\", \"poisson\"],\n",
    "}"
   ],
   "metadata": {
    "collapsed": false
   }
  },
  {
   "cell_type": "code",
   "execution_count": 7,
   "outputs": [
    {
     "name": "stdout",
     "output_type": "stream",
     "text": [
      "Best hyper parameters: {'criterion': 'friedman_mse', 'n_estimators': 100}\n",
      "RMSE for SVR:  0.01543556635792298\n",
      "R2_score for SVR:  0.990963956884972\n"
     ]
    }
   ],
   "source": [
    "random_forest_model = RandomForestRegressor()\n",
    "\n",
    "grid_search = GridSearchCV(random_forest_model, random_forest_greed_search_params, n_jobs=4)\n",
    "grid_search.fit(data_X_train, data_Y_train)\n",
    "\n",
    "best_params = grid_search.best_params_\n",
    "print(f'Best hyper parameters: {best_params}')\n",
    "\n",
    "best_random_forest_model = RandomForestRegressor(\n",
    "    n_estimators=best_params.get('n_estimators'),\n",
    "    criterion=best_params.get('criterion')\n",
    ")\n",
    "best_random_forest_model.fit(data_X_train, data_Y_train)\n",
    "\n",
    "test_predict = best_random_forest_model.predict(data_X_test)\n",
    "rmse = np.sqrt(mean_squared_error(data_Y_test, test_predict))\n",
    "r2 = r2_score(data_Y_test, test_predict)\n",
    "print(f'RMSE for SVR: ', rmse)\n",
    "print(f'R2_score for SVR: ', r2)"
   ],
   "metadata": {
    "collapsed": false
   }
  },
  {
   "cell_type": "code",
   "execution_count": 7,
   "outputs": [],
   "source": [],
   "metadata": {
    "collapsed": false
   }
  }
 ],
 "metadata": {
  "kernelspec": {
   "display_name": "Python 3",
   "language": "python",
   "name": "python3"
  },
  "language_info": {
   "codemirror_mode": {
    "name": "ipython",
    "version": 2
   },
   "file_extension": ".py",
   "mimetype": "text/x-python",
   "name": "python",
   "nbconvert_exporter": "python",
   "pygments_lexer": "ipython2",
   "version": "2.7.6"
  }
 },
 "nbformat": 4,
 "nbformat_minor": 0
}
