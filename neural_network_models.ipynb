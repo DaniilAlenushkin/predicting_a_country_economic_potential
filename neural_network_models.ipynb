{
 "cells": [
  {
   "cell_type": "code",
   "execution_count": 1,
   "outputs": [],
   "source": [
    "import pandas as pd\n",
    "from keras.layers import Conv1D, GRU, Dense, Dropout, Flatten, LSTM\n",
    "from keras.models import Sequential\n",
    "from scikeras.wrappers import KerasRegressor\n",
    "from sklearn.model_selection import train_test_split, GridSearchCV"
   ],
   "metadata": {
    "collapsed": false
   }
  },
  {
   "cell_type": "code",
   "execution_count": 2,
   "outputs": [],
   "source": [
    "import warnings\n",
    "warnings.filterwarnings(\"ignore\")"
   ],
   "metadata": {
    "collapsed": false
   }
  },
  {
   "cell_type": "code",
   "execution_count": 3,
   "metadata": {
    "collapsed": true
   },
   "outputs": [
    {
     "data": {
      "text/plain": "      Adjusted net national income (annual % growth)  \\\n0                                           0.541305   \n1                                           0.542030   \n2                                           0.532645   \n3                                           0.529905   \n4                                           0.523391   \n...                                              ...   \n2027                                        0.430820   \n2028                                        0.431366   \n2029                                        0.430798   \n2030                                        0.430458   \n2031                                        0.430401   \n\n      Adjusted net national income (constant 2015 US$)  \\\n0                                             0.018580   \n1                                             0.011485   \n2                                             0.013996   \n3                                             0.021782   \n4                                             0.015874   \n...                                                ...   \n2027                                          0.016480   \n2028                                          0.016379   \n2029                                          0.016389   \n2030                                          0.016307   \n2031                                          0.015079   \n\n      Adjusted net national income (current US$)  \\\n0                                       0.001411   \n1                                       0.001591   \n2                                       0.002015   \n3                                       0.001641   \n4                                       0.001086   \n...                                          ...   \n2027                                    0.019676   \n2028                                    0.015311   \n2029                                    0.017261   \n2030                                    0.023369   \n2031                                    0.019343   \n\n      Adjusted net national income per capita (annual % growth)  \\\n0                                              0.493338           \n1                                              0.497128           \n2                                              0.486800           \n3                                              0.513873           \n4                                              0.505739           \n...                                                 ...           \n2027                                           0.381147           \n2028                                           0.380339           \n2029                                           0.382386           \n2030                                           0.381875           \n2031                                           0.380873           \n\n      Adjusted net national income per capita (constant 2015 US$)  \\\n0                                              0.255733             \n1                                              0.257579             \n2                                              0.309672             \n3                                              0.335287             \n4                                              0.319546             \n...                                                 ...             \n2027                                           0.222597             \n2028                                           0.222985             \n2029                                           0.324990             \n2030                                           0.328690             \n2031                                           0.402310             \n\n      Adjusted net national income per capita (current US$)  \\\n0                                              0.024477       \n1                                              0.031381       \n2                                              0.028568       \n3                                              0.027832       \n4                                              0.025767       \n...                                                 ...       \n2027                                           0.355406       \n2028                                           0.235515       \n2029                                           0.292323       \n2030                                           0.283576       \n2031                                           0.328394       \n\n      Adjusted net savings, excluding particulate emission damage (current US$)  \\\n0                                              0.042788                           \n1                                              0.043985                           \n2                                              0.042789                           \n3                                              0.042536                           \n4                                              0.042422                           \n...                                                 ...                           \n2027                                           0.037475                           \n2028                                           0.037528                           \n2029                                           0.037512                           \n2030                                           0.037511                           \n2031                                           0.037498                           \n\n      Adjusted net savings, including particulate emission damage (current US$)  \\\n0                                              0.041910                           \n1                                              0.044182                           \n2                                              0.046088                           \n3                                              0.043784                           \n4                                              0.048538                           \n...                                                 ...                           \n2027                                           0.030756                           \n2028                                           0.030807                           \n2029                                           0.030619                           \n2030                                           0.030659                           \n2031                                           0.030852                           \n\n      Adjusted savings: carbon dioxide damage (current US$)  \\\n0                                          7.641349e-07       \n1                                          1.141130e-04       \n2                                          4.111755e-05       \n3                                          1.076366e-04       \n4                                          1.100043e-04       \n...                                                 ...       \n2027                                       3.170770e-02       \n2028                                       2.144808e-02       \n2029                                       2.867491e-02       \n2030                                       3.792288e-02       \n2031                                       3.555562e-02       \n\n      Adjusted savings: consumption of fixed capital (current US$)  ...  \\\n0                                              0.000160             ...   \n1                                              0.000511             ...   \n2                                              0.000642             ...   \n3                                              0.000626             ...   \n4                                              0.000375             ...   \n...                                                 ...             ...   \n2027                                           0.018601             ...   \n2028                                           0.015013             ...   \n2029                                           0.019105             ...   \n2030                                           0.022233             ...   \n2031                                           0.018344             ...   \n\n      Unemployment, youth male (% of male labor force ages 15-24) (modeled ILO estimate)  \\\n0                                              0.109494                                    \n1                                              0.061274                                    \n2                                              0.056934                                    \n3                                              0.073445                                    \n4                                              0.052960                                    \n...                                                 ...                                    \n2027                                           0.598647                                    \n2028                                           0.581060                                    \n2029                                           0.652924                                    \n2030                                           0.623938                                    \n2031                                           0.660172                                    \n\n      Unemployment, youth male (% of male labor force ages 15-24) (national estimate)  \\\n0                                              0.006858                                 \n1                                              0.036062                                 \n2                                              0.048997                                 \n3                                              0.042937                                 \n4                                              0.027781                                 \n...                                                 ...                                 \n2027                                           0.633237                                 \n2028                                           0.480167                                 \n2029                                           0.659372                                 \n2030                                           0.697836                                 \n2031                                           0.668659                                 \n\n      Unemployment, youth total (% of total labor force ages 15-24) (modeled ILO estimate)  \\\n0                                              0.098921                                      \n1                                              0.090457                                      \n2                                              0.112458                                      \n3                                              0.100149                                      \n4                                              0.075377                                      \n...                                                 ...                                      \n2027                                           0.791004                                      \n2028                                           0.845445                                      \n2029                                           0.775232                                      \n2030                                           0.750916                                      \n2031                                           0.694234                                      \n\n      Unemployment, youth total (% of total labor force ages 15-24) (national estimate)  \\\n0                                              0.047494                                   \n1                                              0.054871                                   \n2                                              0.038223                                   \n3                                              0.045912                                   \n4                                              0.038749                                   \n...                                                 ...                                   \n2027                                           0.608203                                   \n2028                                           0.906866                                   \n2029                                           0.769994                                   \n2030                                           0.541441                                   \n2031                                           0.579209                                   \n\n      Vulnerable employment, female (% of female employment) (modeled ILO estimate)  \\\n0                                              0.284959                               \n1                                              0.267499                               \n2                                              0.235780                               \n3                                              0.309495                               \n4                                              0.300016                               \n...                                                 ...                               \n2027                                           0.052758                               \n2028                                           0.054837                               \n2029                                           0.060454                               \n2030                                           0.071787                               \n2031                                           0.069470                               \n\n      Vulnerable employment, male (% of male employment) (modeled ILO estimate)  \\\n0                                              0.366300                           \n1                                              0.335687                           \n2                                              0.293609                           \n3                                              0.269240                           \n4                                              0.216947                           \n...                                                 ...                           \n2027                                           0.094311                           \n2028                                           0.096322                           \n2029                                           0.098751                           \n2030                                           0.080619                           \n2031                                           0.086521                           \n\n      Vulnerable employment, total (% of total employment) (modeled ILO estimate)  \\\n0                                              0.211988                             \n1                                              0.295060                             \n2                                              0.236735                             \n3                                              0.292649                             \n4                                              0.173194                             \n...                                                 ...                             \n2027                                           0.103817                             \n2028                                           0.085744                             \n2029                                           0.085432                             \n2030                                           0.092265                             \n2031                                           0.088486                             \n\n      Wage and salaried workers, female (% of female employment) (modeled ILO estimate)  \\\n0                                              0.381785                                   \n1                                              0.331167                                   \n2                                              0.276357                                   \n3                                              0.269380                                   \n4                                              0.303925                                   \n...                                                 ...                                   \n2027                                           0.493570                                   \n2028                                           0.495072                                   \n2029                                           0.472306                                   \n2030                                           0.654687                                   \n2031                                           0.541432                                   \n\n      Wage and salaried workers, male (% of male employment) (modeled ILO estimate)  \\\n0                                              0.440389                               \n1                                              0.353970                               \n2                                              0.283570                               \n3                                              0.402339                               \n4                                              0.367756                               \n...                                                 ...                               \n2027                                           0.648812                               \n2028                                           0.788197                               \n2029                                           0.549884                               \n2030                                           0.516524                               \n2031                                           0.525323                               \n\n      Wage and salaried workers, total (% of total employment) (modeled ILO estimate)  \n0                                              0.443970                                \n1                                              0.359865                                \n2                                              0.325602                                \n3                                              0.451430                                \n4                                              0.463100                                \n...                                                 ...                                \n2027                                           0.429089                                \n2028                                           0.621088                                \n2029                                           0.540978                                \n2030                                           0.400289                                \n2031                                           0.526098                                \n\n[2032 rows x 1224 columns]",
      "text/html": "<div>\n<style scoped>\n    .dataframe tbody tr th:only-of-type {\n        vertical-align: middle;\n    }\n\n    .dataframe tbody tr th {\n        vertical-align: top;\n    }\n\n    .dataframe thead th {\n        text-align: right;\n    }\n</style>\n<table border=\"1\" class=\"dataframe\">\n  <thead>\n    <tr style=\"text-align: right;\">\n      <th></th>\n      <th>Adjusted net national income (annual % growth)</th>\n      <th>Adjusted net national income (constant 2015 US$)</th>\n      <th>Adjusted net national income (current US$)</th>\n      <th>Adjusted net national income per capita (annual % growth)</th>\n      <th>Adjusted net national income per capita (constant 2015 US$)</th>\n      <th>Adjusted net national income per capita (current US$)</th>\n      <th>Adjusted net savings, excluding particulate emission damage (current US$)</th>\n      <th>Adjusted net savings, including particulate emission damage (current US$)</th>\n      <th>Adjusted savings: carbon dioxide damage (current US$)</th>\n      <th>Adjusted savings: consumption of fixed capital (current US$)</th>\n      <th>...</th>\n      <th>Unemployment, youth male (% of male labor force ages 15-24) (modeled ILO estimate)</th>\n      <th>Unemployment, youth male (% of male labor force ages 15-24) (national estimate)</th>\n      <th>Unemployment, youth total (% of total labor force ages 15-24) (modeled ILO estimate)</th>\n      <th>Unemployment, youth total (% of total labor force ages 15-24) (national estimate)</th>\n      <th>Vulnerable employment, female (% of female employment) (modeled ILO estimate)</th>\n      <th>Vulnerable employment, male (% of male employment) (modeled ILO estimate)</th>\n      <th>Vulnerable employment, total (% of total employment) (modeled ILO estimate)</th>\n      <th>Wage and salaried workers, female (% of female employment) (modeled ILO estimate)</th>\n      <th>Wage and salaried workers, male (% of male employment) (modeled ILO estimate)</th>\n      <th>Wage and salaried workers, total (% of total employment) (modeled ILO estimate)</th>\n    </tr>\n  </thead>\n  <tbody>\n    <tr>\n      <th>0</th>\n      <td>0.541305</td>\n      <td>0.018580</td>\n      <td>0.001411</td>\n      <td>0.493338</td>\n      <td>0.255733</td>\n      <td>0.024477</td>\n      <td>0.042788</td>\n      <td>0.041910</td>\n      <td>7.641349e-07</td>\n      <td>0.000160</td>\n      <td>...</td>\n      <td>0.109494</td>\n      <td>0.006858</td>\n      <td>0.098921</td>\n      <td>0.047494</td>\n      <td>0.284959</td>\n      <td>0.366300</td>\n      <td>0.211988</td>\n      <td>0.381785</td>\n      <td>0.440389</td>\n      <td>0.443970</td>\n    </tr>\n    <tr>\n      <th>1</th>\n      <td>0.542030</td>\n      <td>0.011485</td>\n      <td>0.001591</td>\n      <td>0.497128</td>\n      <td>0.257579</td>\n      <td>0.031381</td>\n      <td>0.043985</td>\n      <td>0.044182</td>\n      <td>1.141130e-04</td>\n      <td>0.000511</td>\n      <td>...</td>\n      <td>0.061274</td>\n      <td>0.036062</td>\n      <td>0.090457</td>\n      <td>0.054871</td>\n      <td>0.267499</td>\n      <td>0.335687</td>\n      <td>0.295060</td>\n      <td>0.331167</td>\n      <td>0.353970</td>\n      <td>0.359865</td>\n    </tr>\n    <tr>\n      <th>2</th>\n      <td>0.532645</td>\n      <td>0.013996</td>\n      <td>0.002015</td>\n      <td>0.486800</td>\n      <td>0.309672</td>\n      <td>0.028568</td>\n      <td>0.042789</td>\n      <td>0.046088</td>\n      <td>4.111755e-05</td>\n      <td>0.000642</td>\n      <td>...</td>\n      <td>0.056934</td>\n      <td>0.048997</td>\n      <td>0.112458</td>\n      <td>0.038223</td>\n      <td>0.235780</td>\n      <td>0.293609</td>\n      <td>0.236735</td>\n      <td>0.276357</td>\n      <td>0.283570</td>\n      <td>0.325602</td>\n    </tr>\n    <tr>\n      <th>3</th>\n      <td>0.529905</td>\n      <td>0.021782</td>\n      <td>0.001641</td>\n      <td>0.513873</td>\n      <td>0.335287</td>\n      <td>0.027832</td>\n      <td>0.042536</td>\n      <td>0.043784</td>\n      <td>1.076366e-04</td>\n      <td>0.000626</td>\n      <td>...</td>\n      <td>0.073445</td>\n      <td>0.042937</td>\n      <td>0.100149</td>\n      <td>0.045912</td>\n      <td>0.309495</td>\n      <td>0.269240</td>\n      <td>0.292649</td>\n      <td>0.269380</td>\n      <td>0.402339</td>\n      <td>0.451430</td>\n    </tr>\n    <tr>\n      <th>4</th>\n      <td>0.523391</td>\n      <td>0.015874</td>\n      <td>0.001086</td>\n      <td>0.505739</td>\n      <td>0.319546</td>\n      <td>0.025767</td>\n      <td>0.042422</td>\n      <td>0.048538</td>\n      <td>1.100043e-04</td>\n      <td>0.000375</td>\n      <td>...</td>\n      <td>0.052960</td>\n      <td>0.027781</td>\n      <td>0.075377</td>\n      <td>0.038749</td>\n      <td>0.300016</td>\n      <td>0.216947</td>\n      <td>0.173194</td>\n      <td>0.303925</td>\n      <td>0.367756</td>\n      <td>0.463100</td>\n    </tr>\n    <tr>\n      <th>...</th>\n      <td>...</td>\n      <td>...</td>\n      <td>...</td>\n      <td>...</td>\n      <td>...</td>\n      <td>...</td>\n      <td>...</td>\n      <td>...</td>\n      <td>...</td>\n      <td>...</td>\n      <td>...</td>\n      <td>...</td>\n      <td>...</td>\n      <td>...</td>\n      <td>...</td>\n      <td>...</td>\n      <td>...</td>\n      <td>...</td>\n      <td>...</td>\n      <td>...</td>\n      <td>...</td>\n    </tr>\n    <tr>\n      <th>2027</th>\n      <td>0.430820</td>\n      <td>0.016480</td>\n      <td>0.019676</td>\n      <td>0.381147</td>\n      <td>0.222597</td>\n      <td>0.355406</td>\n      <td>0.037475</td>\n      <td>0.030756</td>\n      <td>3.170770e-02</td>\n      <td>0.018601</td>\n      <td>...</td>\n      <td>0.598647</td>\n      <td>0.633237</td>\n      <td>0.791004</td>\n      <td>0.608203</td>\n      <td>0.052758</td>\n      <td>0.094311</td>\n      <td>0.103817</td>\n      <td>0.493570</td>\n      <td>0.648812</td>\n      <td>0.429089</td>\n    </tr>\n    <tr>\n      <th>2028</th>\n      <td>0.431366</td>\n      <td>0.016379</td>\n      <td>0.015311</td>\n      <td>0.380339</td>\n      <td>0.222985</td>\n      <td>0.235515</td>\n      <td>0.037528</td>\n      <td>0.030807</td>\n      <td>2.144808e-02</td>\n      <td>0.015013</td>\n      <td>...</td>\n      <td>0.581060</td>\n      <td>0.480167</td>\n      <td>0.845445</td>\n      <td>0.906866</td>\n      <td>0.054837</td>\n      <td>0.096322</td>\n      <td>0.085744</td>\n      <td>0.495072</td>\n      <td>0.788197</td>\n      <td>0.621088</td>\n    </tr>\n    <tr>\n      <th>2029</th>\n      <td>0.430798</td>\n      <td>0.016389</td>\n      <td>0.017261</td>\n      <td>0.382386</td>\n      <td>0.324990</td>\n      <td>0.292323</td>\n      <td>0.037512</td>\n      <td>0.030619</td>\n      <td>2.867491e-02</td>\n      <td>0.019105</td>\n      <td>...</td>\n      <td>0.652924</td>\n      <td>0.659372</td>\n      <td>0.775232</td>\n      <td>0.769994</td>\n      <td>0.060454</td>\n      <td>0.098751</td>\n      <td>0.085432</td>\n      <td>0.472306</td>\n      <td>0.549884</td>\n      <td>0.540978</td>\n    </tr>\n    <tr>\n      <th>2030</th>\n      <td>0.430458</td>\n      <td>0.016307</td>\n      <td>0.023369</td>\n      <td>0.381875</td>\n      <td>0.328690</td>\n      <td>0.283576</td>\n      <td>0.037511</td>\n      <td>0.030659</td>\n      <td>3.792288e-02</td>\n      <td>0.022233</td>\n      <td>...</td>\n      <td>0.623938</td>\n      <td>0.697836</td>\n      <td>0.750916</td>\n      <td>0.541441</td>\n      <td>0.071787</td>\n      <td>0.080619</td>\n      <td>0.092265</td>\n      <td>0.654687</td>\n      <td>0.516524</td>\n      <td>0.400289</td>\n    </tr>\n    <tr>\n      <th>2031</th>\n      <td>0.430401</td>\n      <td>0.015079</td>\n      <td>0.019343</td>\n      <td>0.380873</td>\n      <td>0.402310</td>\n      <td>0.328394</td>\n      <td>0.037498</td>\n      <td>0.030852</td>\n      <td>3.555562e-02</td>\n      <td>0.018344</td>\n      <td>...</td>\n      <td>0.660172</td>\n      <td>0.668659</td>\n      <td>0.694234</td>\n      <td>0.579209</td>\n      <td>0.069470</td>\n      <td>0.086521</td>\n      <td>0.088486</td>\n      <td>0.541432</td>\n      <td>0.525323</td>\n      <td>0.526098</td>\n    </tr>\n  </tbody>\n</table>\n<p>2032 rows × 1224 columns</p>\n</div>"
     },
     "execution_count": 3,
     "metadata": {},
     "output_type": "execute_result"
    }
   ],
   "source": [
    "cleared_data_all = pd.read_excel(r'dataset/cleared_dataset/BRICS_all_areas_cleared_dataset.xlsx')\n",
    "cleared_data_all = cleared_data_all.iloc[:, 1:]\n",
    "cleared_data_all"
   ]
  },
  {
   "cell_type": "code",
   "execution_count": 5,
   "outputs": [
    {
     "data": {
      "text/plain": "      Adjusted net national income (annual % growth)  \\\n0                                           0.553663   \n1                                           0.540093   \n2                                           0.535596   \n3                                           0.526273   \n4                                           0.549766   \n...                                              ...   \n2027                                        0.422859   \n2028                                        0.422482   \n2029                                        0.422558   \n2030                                        0.423154   \n2031                                        0.422827   \n\n      Adjusted net national income per capita (annual % growth)  \\\n0                                              0.493048           \n1                                              0.520842           \n2                                              0.540533           \n3                                              0.508690           \n4                                              0.500511           \n...                                                 ...           \n2027                                           0.408177           \n2028                                           0.407757           \n2029                                           0.409683           \n2030                                           0.409955           \n2031                                           0.409658           \n\n      Agriculture, forestry, and fishing, value added (annual % growth)  \\\n0                                              0.550624                   \n1                                              0.572925                   \n2                                              0.599002                   \n3                                              0.638806                   \n4                                              0.690262                   \n...                                                 ...                   \n2027                                           0.546620                   \n2028                                           0.569233                   \n2029                                           0.625547                   \n2030                                           0.650208                   \n2031                                           0.708714                   \n\n      Chemicals (% of value added in manufacturing)  \\\n0                                          0.659424   \n1                                          0.515892   \n2                                          0.593352   \n3                                          0.523286   \n4                                          0.515493   \n...                                             ...   \n2027                                       0.209895   \n2028                                       0.023101   \n2029                                       0.099384   \n2030                                       0.126015   \n2031                                       0.107571   \n\n      Communications, computer, etc. (% of service exports, BoP)  \\\n0                                              0.482240            \n1                                              0.579728            \n2                                              0.517354            \n3                                              0.468628            \n4                                              0.394821            \n...                                                 ...            \n2027                                           0.347769            \n2028                                           0.358500            \n2029                                           0.356030            \n2030                                           0.461726            \n2031                                           0.395985            \n\n      Communications, computer, etc. (% of service imports, BoP)  \\\n0                                              0.204614            \n1                                              0.170912            \n2                                              0.204310            \n3                                              0.196385            \n4                                              0.132378            \n...                                                 ...            \n2027                                           0.502068            \n2028                                           0.622407            \n2029                                           0.667137            \n2030                                           0.585527            \n2031                                           0.567790            \n\n      Debt service (PPG and IMF only, % of exports of goods, services and primary income)  \\\n0                                              0.370799                                     \n1                                              0.409697                                     \n2                                              0.433730                                     \n3                                              0.342814                                     \n4                                              0.330198                                     \n...                                                 ...                                     \n2027                                           0.172372                                     \n2028                                           0.193755                                     \n2029                                           0.170789                                     \n2030                                           0.200973                                     \n2031                                           0.193176                                     \n\n      Exports of goods and services (annual % growth)  \\\n0                                            0.527068   \n1                                            0.533898   \n2                                            0.517269   \n3                                            0.533692   \n4                                            0.532333   \n...                                               ...   \n2027                                         0.378021   \n2028                                         0.358328   \n2029                                         0.352184   \n2030                                         0.345227   \n2031                                         0.334775   \n\n      Final consumption expenditure (annual % growth)  \\\n0                                            1.000000   \n1                                            0.949101   \n2                                            0.943975   \n3                                            0.838995   \n4                                            0.961634   \n...                                               ...   \n2027                                         0.333544   \n2028                                         0.317363   \n2029                                         0.282537   \n2030                                         0.228218   \n2031                                         0.205346   \n\n      Food, beverages and tobacco (% of value added in manufacturing)  ...  \\\n0                                              0.332565                ...   \n1                                              0.361794                ...   \n2                                              0.278636                ...   \n3                                              0.384575                ...   \n4                                              0.409441                ...   \n...                                                 ...                ...   \n2027                                           0.478746                ...   \n2028                                           0.507215                ...   \n2029                                           0.640014                ...   \n2030                                           0.798934                ...   \n2031                                           0.594025                ...   \n\n      Unemployment, youth male (% of male labor force ages 15-24) (modeled ILO estimate)  \\\n0                                              0.092583                                    \n1                                              0.080344                                    \n2                                              0.073603                                    \n3                                              0.077985                                    \n4                                              0.068681                                    \n...                                                 ...                                    \n2027                                           0.842023                                    \n2028                                           0.957228                                    \n2029                                           0.841818                                    \n2030                                           0.757523                                    \n2031                                           0.650374                                    \n\n      Unemployment, youth male (% of male labor force ages 15-24) (national estimate)  \\\n0                                              0.044941                                 \n1                                              0.045471                                 \n2                                              0.050711                                 \n3                                              0.041490                                 \n4                                              0.047989                                 \n...                                                 ...                                 \n2027                                           0.675799                                 \n2028                                           0.608725                                 \n2029                                           0.642024                                 \n2030                                           0.588630                                 \n2031                                           0.641251                                 \n\n      Unemployment, youth total (% of total labor force ages 15-24) (modeled ILO estimate)  \\\n0                                              0.116194                                      \n1                                              0.119967                                      \n2                                              0.072459                                      \n3                                              0.144534                                      \n4                                              0.115199                                      \n...                                                 ...                                      \n2027                                           0.880286                                      \n2028                                           0.816423                                      \n2029                                           0.733566                                      \n2030                                           0.698973                                      \n2031                                           0.707973                                      \n\n      Unemployment, youth total (% of total labor force ages 15-24) (national estimate)  \\\n0                                              0.058954                                   \n1                                              0.067618                                   \n2                                              0.041396                                   \n3                                              0.034277                                   \n4                                              0.022896                                   \n...                                                 ...                                   \n2027                                           0.653719                                   \n2028                                           0.536649                                   \n2029                                           0.716802                                   \n2030                                           0.602522                                   \n2031                                           0.692880                                   \n\n      Vulnerable employment, female (% of female employment) (modeled ILO estimate)  \\\n0                                              0.271638                               \n1                                              0.240226                               \n2                                              0.288064                               \n3                                              0.245759                               \n4                                              0.237920                               \n...                                                 ...                               \n2027                                           0.101137                               \n2028                                           0.112019                               \n2029                                           0.087615                               \n2030                                           0.068091                               \n2031                                           0.073984                               \n\n      Vulnerable employment, male (% of male employment) (modeled ILO estimate)  \\\n0                                              0.256557                           \n1                                              0.257459                           \n2                                              0.289370                           \n3                                              0.284184                           \n4                                              0.279386                           \n...                                                 ...                           \n2027                                           0.068454                           \n2028                                           0.073421                           \n2029                                           0.078230                           \n2030                                           0.081960                           \n2031                                           0.078149                           \n\n      Vulnerable employment, total (% of total employment) (modeled ILO estimate)  \\\n0                                              0.236409                             \n1                                              0.168916                             \n2                                              0.211341                             \n3                                              0.213594                             \n4                                              0.248200                             \n...                                                 ...                             \n2027                                           0.085621                             \n2028                                           0.059600                             \n2029                                           0.059868                             \n2030                                           0.074794                             \n2031                                           0.075000                             \n\n      Wage and salaried workers, female (% of female employment) (modeled ILO estimate)  \\\n0                                              0.340039                                   \n1                                              0.451473                                   \n2                                              0.448748                                   \n3                                              0.461372                                   \n4                                              0.383103                                   \n...                                                 ...                                   \n2027                                           0.401947                                   \n2028                                           0.339091                                   \n2029                                           0.450768                                   \n2030                                           0.579578                                   \n2031                                           0.592568                                   \n\n      Wage and salaried workers, male (% of male employment) (modeled ILO estimate)  \\\n0                                              0.213734                               \n1                                              0.356074                               \n2                                              0.419979                               \n3                                              0.347358                               \n4                                              0.306070                               \n...                                                 ...                               \n2027                                           0.498277                               \n2028                                           0.414780                               \n2029                                           0.445414                               \n2030                                           0.441237                               \n2031                                           0.420533                               \n\n      Wage and salaried workers, total (% of total employment) (modeled ILO estimate)  \n0                                              0.288946                                \n1                                              0.258655                                \n2                                              0.258733                                \n3                                              0.254320                                \n4                                              0.305546                                \n...                                                 ...                                \n2027                                           0.469291                                \n2028                                           0.576167                                \n2029                                           0.564287                                \n2030                                           0.553940                                \n2031                                           0.530149                                \n\n[2032 rows x 655 columns]",
      "text/html": "<div>\n<style scoped>\n    .dataframe tbody tr th:only-of-type {\n        vertical-align: middle;\n    }\n\n    .dataframe tbody tr th {\n        vertical-align: top;\n    }\n\n    .dataframe thead th {\n        text-align: right;\n    }\n</style>\n<table border=\"1\" class=\"dataframe\">\n  <thead>\n    <tr style=\"text-align: right;\">\n      <th></th>\n      <th>Adjusted net national income (annual % growth)</th>\n      <th>Adjusted net national income per capita (annual % growth)</th>\n      <th>Agriculture, forestry, and fishing, value added (annual % growth)</th>\n      <th>Chemicals (% of value added in manufacturing)</th>\n      <th>Communications, computer, etc. (% of service exports, BoP)</th>\n      <th>Communications, computer, etc. (% of service imports, BoP)</th>\n      <th>Debt service (PPG and IMF only, % of exports of goods, services and primary income)</th>\n      <th>Exports of goods and services (annual % growth)</th>\n      <th>Final consumption expenditure (annual % growth)</th>\n      <th>Food, beverages and tobacco (% of value added in manufacturing)</th>\n      <th>...</th>\n      <th>Unemployment, youth male (% of male labor force ages 15-24) (modeled ILO estimate)</th>\n      <th>Unemployment, youth male (% of male labor force ages 15-24) (national estimate)</th>\n      <th>Unemployment, youth total (% of total labor force ages 15-24) (modeled ILO estimate)</th>\n      <th>Unemployment, youth total (% of total labor force ages 15-24) (national estimate)</th>\n      <th>Vulnerable employment, female (% of female employment) (modeled ILO estimate)</th>\n      <th>Vulnerable employment, male (% of male employment) (modeled ILO estimate)</th>\n      <th>Vulnerable employment, total (% of total employment) (modeled ILO estimate)</th>\n      <th>Wage and salaried workers, female (% of female employment) (modeled ILO estimate)</th>\n      <th>Wage and salaried workers, male (% of male employment) (modeled ILO estimate)</th>\n      <th>Wage and salaried workers, total (% of total employment) (modeled ILO estimate)</th>\n    </tr>\n  </thead>\n  <tbody>\n    <tr>\n      <th>0</th>\n      <td>0.553663</td>\n      <td>0.493048</td>\n      <td>0.550624</td>\n      <td>0.659424</td>\n      <td>0.482240</td>\n      <td>0.204614</td>\n      <td>0.370799</td>\n      <td>0.527068</td>\n      <td>1.000000</td>\n      <td>0.332565</td>\n      <td>...</td>\n      <td>0.092583</td>\n      <td>0.044941</td>\n      <td>0.116194</td>\n      <td>0.058954</td>\n      <td>0.271638</td>\n      <td>0.256557</td>\n      <td>0.236409</td>\n      <td>0.340039</td>\n      <td>0.213734</td>\n      <td>0.288946</td>\n    </tr>\n    <tr>\n      <th>1</th>\n      <td>0.540093</td>\n      <td>0.520842</td>\n      <td>0.572925</td>\n      <td>0.515892</td>\n      <td>0.579728</td>\n      <td>0.170912</td>\n      <td>0.409697</td>\n      <td>0.533898</td>\n      <td>0.949101</td>\n      <td>0.361794</td>\n      <td>...</td>\n      <td>0.080344</td>\n      <td>0.045471</td>\n      <td>0.119967</td>\n      <td>0.067618</td>\n      <td>0.240226</td>\n      <td>0.257459</td>\n      <td>0.168916</td>\n      <td>0.451473</td>\n      <td>0.356074</td>\n      <td>0.258655</td>\n    </tr>\n    <tr>\n      <th>2</th>\n      <td>0.535596</td>\n      <td>0.540533</td>\n      <td>0.599002</td>\n      <td>0.593352</td>\n      <td>0.517354</td>\n      <td>0.204310</td>\n      <td>0.433730</td>\n      <td>0.517269</td>\n      <td>0.943975</td>\n      <td>0.278636</td>\n      <td>...</td>\n      <td>0.073603</td>\n      <td>0.050711</td>\n      <td>0.072459</td>\n      <td>0.041396</td>\n      <td>0.288064</td>\n      <td>0.289370</td>\n      <td>0.211341</td>\n      <td>0.448748</td>\n      <td>0.419979</td>\n      <td>0.258733</td>\n    </tr>\n    <tr>\n      <th>3</th>\n      <td>0.526273</td>\n      <td>0.508690</td>\n      <td>0.638806</td>\n      <td>0.523286</td>\n      <td>0.468628</td>\n      <td>0.196385</td>\n      <td>0.342814</td>\n      <td>0.533692</td>\n      <td>0.838995</td>\n      <td>0.384575</td>\n      <td>...</td>\n      <td>0.077985</td>\n      <td>0.041490</td>\n      <td>0.144534</td>\n      <td>0.034277</td>\n      <td>0.245759</td>\n      <td>0.284184</td>\n      <td>0.213594</td>\n      <td>0.461372</td>\n      <td>0.347358</td>\n      <td>0.254320</td>\n    </tr>\n    <tr>\n      <th>4</th>\n      <td>0.549766</td>\n      <td>0.500511</td>\n      <td>0.690262</td>\n      <td>0.515493</td>\n      <td>0.394821</td>\n      <td>0.132378</td>\n      <td>0.330198</td>\n      <td>0.532333</td>\n      <td>0.961634</td>\n      <td>0.409441</td>\n      <td>...</td>\n      <td>0.068681</td>\n      <td>0.047989</td>\n      <td>0.115199</td>\n      <td>0.022896</td>\n      <td>0.237920</td>\n      <td>0.279386</td>\n      <td>0.248200</td>\n      <td>0.383103</td>\n      <td>0.306070</td>\n      <td>0.305546</td>\n    </tr>\n    <tr>\n      <th>...</th>\n      <td>...</td>\n      <td>...</td>\n      <td>...</td>\n      <td>...</td>\n      <td>...</td>\n      <td>...</td>\n      <td>...</td>\n      <td>...</td>\n      <td>...</td>\n      <td>...</td>\n      <td>...</td>\n      <td>...</td>\n      <td>...</td>\n      <td>...</td>\n      <td>...</td>\n      <td>...</td>\n      <td>...</td>\n      <td>...</td>\n      <td>...</td>\n      <td>...</td>\n      <td>...</td>\n    </tr>\n    <tr>\n      <th>2027</th>\n      <td>0.422859</td>\n      <td>0.408177</td>\n      <td>0.546620</td>\n      <td>0.209895</td>\n      <td>0.347769</td>\n      <td>0.502068</td>\n      <td>0.172372</td>\n      <td>0.378021</td>\n      <td>0.333544</td>\n      <td>0.478746</td>\n      <td>...</td>\n      <td>0.842023</td>\n      <td>0.675799</td>\n      <td>0.880286</td>\n      <td>0.653719</td>\n      <td>0.101137</td>\n      <td>0.068454</td>\n      <td>0.085621</td>\n      <td>0.401947</td>\n      <td>0.498277</td>\n      <td>0.469291</td>\n    </tr>\n    <tr>\n      <th>2028</th>\n      <td>0.422482</td>\n      <td>0.407757</td>\n      <td>0.569233</td>\n      <td>0.023101</td>\n      <td>0.358500</td>\n      <td>0.622407</td>\n      <td>0.193755</td>\n      <td>0.358328</td>\n      <td>0.317363</td>\n      <td>0.507215</td>\n      <td>...</td>\n      <td>0.957228</td>\n      <td>0.608725</td>\n      <td>0.816423</td>\n      <td>0.536649</td>\n      <td>0.112019</td>\n      <td>0.073421</td>\n      <td>0.059600</td>\n      <td>0.339091</td>\n      <td>0.414780</td>\n      <td>0.576167</td>\n    </tr>\n    <tr>\n      <th>2029</th>\n      <td>0.422558</td>\n      <td>0.409683</td>\n      <td>0.625547</td>\n      <td>0.099384</td>\n      <td>0.356030</td>\n      <td>0.667137</td>\n      <td>0.170789</td>\n      <td>0.352184</td>\n      <td>0.282537</td>\n      <td>0.640014</td>\n      <td>...</td>\n      <td>0.841818</td>\n      <td>0.642024</td>\n      <td>0.733566</td>\n      <td>0.716802</td>\n      <td>0.087615</td>\n      <td>0.078230</td>\n      <td>0.059868</td>\n      <td>0.450768</td>\n      <td>0.445414</td>\n      <td>0.564287</td>\n    </tr>\n    <tr>\n      <th>2030</th>\n      <td>0.423154</td>\n      <td>0.409955</td>\n      <td>0.650208</td>\n      <td>0.126015</td>\n      <td>0.461726</td>\n      <td>0.585527</td>\n      <td>0.200973</td>\n      <td>0.345227</td>\n      <td>0.228218</td>\n      <td>0.798934</td>\n      <td>...</td>\n      <td>0.757523</td>\n      <td>0.588630</td>\n      <td>0.698973</td>\n      <td>0.602522</td>\n      <td>0.068091</td>\n      <td>0.081960</td>\n      <td>0.074794</td>\n      <td>0.579578</td>\n      <td>0.441237</td>\n      <td>0.553940</td>\n    </tr>\n    <tr>\n      <th>2031</th>\n      <td>0.422827</td>\n      <td>0.409658</td>\n      <td>0.708714</td>\n      <td>0.107571</td>\n      <td>0.395985</td>\n      <td>0.567790</td>\n      <td>0.193176</td>\n      <td>0.334775</td>\n      <td>0.205346</td>\n      <td>0.594025</td>\n      <td>...</td>\n      <td>0.650374</td>\n      <td>0.641251</td>\n      <td>0.707973</td>\n      <td>0.692880</td>\n      <td>0.073984</td>\n      <td>0.078149</td>\n      <td>0.075000</td>\n      <td>0.592568</td>\n      <td>0.420533</td>\n      <td>0.530149</td>\n    </tr>\n  </tbody>\n</table>\n<p>2032 rows × 655 columns</p>\n</div>"
     },
     "execution_count": 6,
     "metadata": {},
     "output_type": "execute_result"
    }
   ],
   "source": [
    "cleared_data_only_percent = pd.read_excel(r'dataset/cleared_dataset/BRICS_all_areas_cleared_dataset_only_%.xlsx')\n",
    "cleared_data_only_percent = cleared_data_only_percent.iloc[:, 1:]\n",
    "cleared_data_only_percent"
   ],
   "metadata": {
    "collapsed": false
   }
  },
  {
   "cell_type": "markdown",
   "source": [
    "Division into training and test samples"
   ],
   "metadata": {
    "collapsed": false
   }
  },
  {
   "cell_type": "code",
   "execution_count": 7,
   "outputs": [],
   "source": [
    "test_size = 0.2\n",
    "seed = 7\n",
    "target_feature_name = 'GDP per capita (current US$)'\n",
    "\n",
    "data_X_all = cleared_data_all.drop([target_feature_name], axis=1)\n",
    "data_Y_all = cleared_data_all[target_feature_name]\n",
    "data_X_train_all, data_X_test_all, data_Y_train_all, data_Y_test_all = train_test_split(data_X_all, data_Y_all, test_size=test_size, random_state=seed)\n",
    "\n",
    "data_X_only_percent = cleared_data_only_percent.drop([target_feature_name], axis=1)\n",
    "data_Y_only_percent = cleared_data_only_percent[target_feature_name]\n",
    "data_X_train_only_percent, data_X_test_only_percent, data_Y_train_only_percent, data_Y_test_only_percent = train_test_split(data_X_only_percent, data_Y_only_percent, test_size=test_size, random_state=seed)\n",
    "\n",
    "datasets = [{'X_train': data_X_train_only_percent, 'X_test': data_X_test_only_percent, 'Y_train': data_Y_train_only_percent,\n",
    "             'Y_test': data_Y_test_only_percent, 'name': 'only_percent_dataset'},\n",
    "            {'X_train': data_X_train_all, 'X_test': data_X_test_all,\n",
    "             'Y_train': data_Y_train_all, 'Y_test':data_Y_test_all, 'name': 'original_data'}]"
   ],
   "metadata": {
    "collapsed": false
   }
  },
  {
   "cell_type": "markdown",
   "source": [
    "Serial connection one-dimensional convolutional and recurrent GRU neural network layers with a fully connected classifier"
   ],
   "metadata": {
    "collapsed": false
   }
  },
  {
   "cell_type": "code",
   "execution_count": 8,
   "outputs": [],
   "source": [
    "param_grid_1d_gru = {\n",
    "    'filters': [8, 32],\n",
    "    'kernel_size': [1, 3],\n",
    "    'units': [16, 64],\n",
    "    'optimizer' : [\"adam\", \"rmsprop\"],\n",
    "    'dropout_rate': [0.1, 0.2, 0.3],\n",
    "    'gru_act': ['tanh', 'relu'],\n",
    "    'conv_act': ['tanh', 'relu']\n",
    "}"
   ],
   "metadata": {
    "collapsed": false
   }
  },
  {
   "cell_type": "code",
   "execution_count": 9,
   "outputs": [
    {
     "name": "stdout",
     "output_type": "stream",
     "text": [
      "Epoch 1/3\n",
      "51/51 [==============================] - 13s 225ms/step - loss: 0.0280 - val_loss: 0.0192\n",
      "Epoch 2/3\n",
      "51/51 [==============================] - 11s 220ms/step - loss: 0.0216 - val_loss: 0.0168\n",
      "Epoch 3/3\n",
      "51/51 [==============================] - 11s 221ms/step - loss: 0.0203 - val_loss: 0.0168\n",
      "dataset: only_percent_dataset\n",
      "Best hyper parameters:  {'conv_act': 'relu', 'dropout_rate': 0.1, 'filters': 8, 'gru_act': 'relu', 'kernel_size': 3, 'optimizer': 'rmsprop', 'units': 64}\n",
      "13/13 [==============================] - 1s 69ms/step\n",
      "MSE: 0.32211055795821064\n",
      "\n",
      "Epoch 1/3\n",
      "51/51 [==============================] - 27s 500ms/step - loss: 0.0284 - val_loss: 0.0229\n",
      "Epoch 2/3\n",
      "51/51 [==============================] - 25s 487ms/step - loss: 0.0256 - val_loss: 0.0222\n",
      "Epoch 3/3\n",
      "51/51 [==============================] - 25s 490ms/step - loss: 0.0246 - val_loss: 0.0211\n",
      "dataset: original_data\n",
      "Best hyper parameters:   {'conv_act': 'tanh', 'dropout_rate': 0.2, 'filters': 8, 'gru_act': 'relu', 'kernel_size': 3, 'optimizer': 'adam', 'units': 64}\n",
      "13/13 [==============================] - 2s 125ms/step\n",
      "MSE: 0.3549903756538161\n"
     ]
    }
   ],
   "source": [
    "def create_model(filters, kernel_size, units, dropout_rate, optimizer_model, gru_act, conv_act):\n",
    "    input_shape = (dataset.get('X_train').shape[1], 1)\n",
    "    model = Sequential()\n",
    "    model.add(Conv1D(filters=filters, kernel_size=kernel_size, activation=conv_act, input_shape=input_shape))\n",
    "    model.add(GRU(units, input_shape=input_shape, activation=gru_act))\n",
    "    model.add(Dropout(rate=dropout_rate))\n",
    "    model.add(Flatten())\n",
    "    model.add(Dense(1))\n",
    "    model.compile(optimizer=optimizer_model, loss='mean_squared_error')\n",
    "    return model\n",
    "\n",
    "for dataset in datasets:\n",
    "    regressor = KerasRegressor(build_fn=create_model, filters=32, kernel_size=3, units=64, dropout_rate=0.2, optimizer_model='adam', gru_act='tanh', conv_act='relu', epochs=3, batch_size=32)\n",
    "    grid = GridSearchCV(estimator=regressor, param_grid=param_grid_1d_gru, n_jobs=7)\n",
    "    grid_result = grid.fit(dataset.get('X_train'), dataset.get('Y_train'), validation_data = (dataset.get('X_test'), dataset.get('Y_test')))\n",
    "    print(f'dataset: {dataset.get(\"name\")}')\n",
    "    print(\"Best hyper parameters: \", grid_result.best_params_)\n",
    "    print(\"MSE:\", grid.score(dataset.get('X_test'), dataset.get('Y_test')))\n",
    "    print()"
   ],
   "metadata": {
    "collapsed": false
   }
  },
  {
   "cell_type": "code",
   "execution_count": 18,
   "outputs": [],
   "source": [
    "param_grid_1d_lstm = {\n",
    "    'filters': [8, 32],\n",
    "    'kernel_size': [1, 3],\n",
    "    'units': [16, 64],\n",
    "    'optimizer' : [\"adam\", \"rmsprop\"],\n",
    "    'dropout_rate': [0.1, 0.2, 0.3],\n",
    "    'lstm_act': ['tanh', 'relu'],\n",
    "    'conv_act': ['tanh', 'relu']\n",
    "}"
   ],
   "metadata": {
    "collapsed": false
   }
  },
  {
   "cell_type": "code",
   "execution_count": 19,
   "outputs": [
    {
     "name": "stdout",
     "output_type": "stream",
     "text": [
      "Epoch 1/3\n",
      "51/51 [==============================] - 15s 261ms/step - loss: 0.0252 - val_loss: 0.0179\n",
      "Epoch 2/3\n",
      "51/51 [==============================] - 13s 262ms/step - loss: 0.0215 - val_loss: 0.0164\n",
      "Epoch 3/3\n",
      "51/51 [==============================] - 13s 259ms/step - loss: 0.0212 - val_loss: 0.0157\n",
      "dataset: only_percent_dataset\n",
      "Best hyper parameters: {'conv_act': 'tanh', 'dropout_rate': 0.3, 'filters': 32, 'kernel_size': 3, 'lstm_act': 'relu', 'optimizer': 'rmsprop', 'units': 64}\n",
      "13/13 [==============================] - 1s 79ms/step\n",
      "MSE: 0.3658389029515866\n",
      "\n",
      "Epoch 1/3\n",
      "51/51 [==============================] - 30s 540ms/step - loss: 0.0329 - val_loss: 0.0263\n",
      "Epoch 2/3\n",
      "51/51 [==============================] - 27s 540ms/step - loss: 0.0262 - val_loss: 0.0222\n",
      "Epoch 3/3\n",
      "51/51 [==============================] - 28s 542ms/step - loss: 0.0248 - val_loss: 0.0221\n",
      "dataset: original_data\n",
      "Best hyper parameters: {'conv_act': 'tanh', 'dropout_rate': 0.1, 'filters': 32, 'kernel_size': 1, 'lstm_act': 'relu', 'optimizer': 'adam', 'units': 64}\n",
      "13/13 [==============================] - 2s 158ms/step\n",
      "MSE: 0.32444082352535886\n"
     ]
    }
   ],
   "source": [
    "def create_model(filters, kernel_size, units, dropout_rate, optimizer_model, lstm_act, conv_act):\n",
    "    input_shape = (dataset.get('X_train').shape[1], 1)\n",
    "    model = Sequential()\n",
    "    model.add(Conv1D(filters=filters, kernel_size=kernel_size, activation=conv_act, input_shape=input_shape))\n",
    "    model.add(LSTM(units, activation=lstm_act, input_shape=input_shape))\n",
    "    model.add(Dropout(rate=dropout_rate))\n",
    "    model.add(Flatten())\n",
    "    model.add(Dense(1))\n",
    "    model.compile(optimizer=optimizer_model, loss='mean_squared_error')\n",
    "    return model\n",
    "\n",
    "\n",
    "for dataset in datasets:\n",
    "    regressor = KerasRegressor(build_fn=create_model, filters=32, kernel_size=3, units=64, dropout_rate=0.2, optimizer_model='adam', lstm_act='tanh', conv_act='relu', epochs=3, batch_size=32)\n",
    "    grid = GridSearchCV(estimator=regressor, param_grid=param_grid_1d_lstm, n_jobs=7)\n",
    "    grid_result = grid.fit(dataset.get('X_train'), dataset.get('Y_train'), validation_data = (dataset.get('X_test'), dataset.get('Y_test')))\n",
    "    print(f'dataset: {dataset.get(\"name\")}')\n",
    "    print(\"Best hyper parameters: \", grid_result.best_params_)\n",
    "    print(\"MSE:\", grid.score(dataset.get('X_test'), dataset.get('Y_test')))\n",
    "    print()\n"
   ],
   "metadata": {
    "collapsed": false
   }
  },
  {
   "cell_type": "code",
   "execution_count": 24,
   "outputs": [],
   "source": [
    "param_grid_gru_lstm = {\n",
    "    'filters': [8, 32],\n",
    "    'kernel_size': [1, 3],\n",
    "    'units': [16, 64],\n",
    "    'units_gru': [16, 64],\n",
    "    'optimizer' : [\"adam\", \"rmsprop\"],\n",
    "    'dropout_rate': [0.1, 0.2, 0.3],\n",
    "    'lstm_act': ['relu'],\n",
    "    'conv_act': ['relu'],\n",
    "    'gru_act': ['relu']\n",
    "}"
   ],
   "metadata": {
    "collapsed": false
   }
  },
  {
   "cell_type": "code",
   "execution_count": 25,
   "outputs": [
    {
     "name": "stdout",
     "output_type": "stream",
     "text": [
      "Epoch 1/3\n",
      "51/51 [==============================] - 23s 411ms/step - loss: 0.0307 - val_loss: 0.0234\n",
      "Epoch 2/3\n",
      "51/51 [==============================] - 20s 403ms/step - loss: 0.0252 - val_loss: 0.0188\n",
      "Epoch 3/3\n",
      "51/51 [==============================] - 21s 403ms/step - loss: 0.0213 - val_loss: 0.0168\n",
      "dataset: only_percent_dataset\n",
      "Best hyper parameters: {'conv_act': 'relu', 'dropout_rate': 0.1, 'filters': 32, 'gru_act': 'relu', 'kernel_size': 3, 'lstm_act': 'relu', 'optimizer': 'rmsprop', 'units': 64, 'units_gru': 16}\n",
      "13/13 [==============================] - 2s 113ms/step\n",
      "MSE: 0.32369279000082507\n",
      "\n",
      "Epoch 1/3\n",
      "51/51 [==============================] - 56s 1s/step - loss: 0.0363 - val_loss: 0.0300\n",
      "Epoch 2/3\n",
      "51/51 [==============================] - 54s 1s/step - loss: 0.0287 - val_loss: 0.0217\n",
      "Epoch 3/3\n",
      "51/51 [==============================] - 54s 1s/step - loss: 0.0242 - val_loss: 0.0203\n",
      "dataset: original_data\n",
      "Best hyper parameters: {'conv_act': 'relu', 'dropout_rate': 0.2, 'filters': 32, 'gru_act': 'relu', 'kernel_size': 3, 'lstm_act': 'relu', 'optimizer': 'adam', 'units': 64, 'units_gru': 64}\n",
      "13/13 [==============================] - 4s 256ms/step\n",
      "MSE: 0.37896665971742893\n"
     ]
    }
   ],
   "source": [
    "def create_model(filters, kernel_size, units, units_gru, dropout_rate, optimizer_model, lstm_act, gru_act, conv_act):\n",
    "    input_shape = (dataset.get('X_train').shape[1], 1)\n",
    "    model = Sequential()\n",
    "    model.add(Conv1D(filters=filters, kernel_size=kernel_size, activation=conv_act, input_shape=input_shape))\n",
    "    model.add(LSTM(units, activation=lstm_act, input_shape=input_shape, return_sequences=True))\n",
    "    model.add(GRU(units_gru, input_shape=input_shape, activation=gru_act))\n",
    "    model.add(Dropout(rate=dropout_rate))\n",
    "    model.add(Flatten())\n",
    "    model.add(Dense(1))\n",
    "    model.compile(optimizer=optimizer_model, loss='mean_squared_error')\n",
    "    return model\n",
    "\n",
    "for dataset in datasets:\n",
    "    regressor = KerasRegressor(build_fn=create_model, filters=32, kernel_size=3, units=64, units_gru=64, dropout_rate=0.2, optimizer_model='adam', lstm_act='tanh', conv_act='relu', gru_act='relu', epochs=3, batch_size=32)\n",
    "    grid = GridSearchCV(estimator=regressor, param_grid=param_grid_gru_lstm, n_jobs=7)\n",
    "    grid_result = grid.fit(dataset.get('X_train'), dataset.get('Y_train'), validation_data = (dataset.get('X_test'), dataset.get('Y_test')))\n",
    "    print(f'dataset: {dataset.get(\"name\")}')\n",
    "    print(\"Best hyper parameters: \", grid_result.best_params_)\n",
    "    print(\"MSE:\", grid.score(dataset.get('X_test'), dataset.get('Y_test')))\n",
    "    print()"
   ],
   "metadata": {
    "collapsed": false
   }
  }
 ],
 "metadata": {
  "kernelspec": {
   "display_name": "Python 3",
   "language": "python",
   "name": "python3"
  },
  "language_info": {
   "codemirror_mode": {
    "name": "ipython",
    "version": 2
   },
   "file_extension": ".py",
   "mimetype": "text/x-python",
   "name": "python",
   "nbconvert_exporter": "python",
   "pygments_lexer": "ipython2",
   "version": "2.7.6"
  }
 },
 "nbformat": 4,
 "nbformat_minor": 0
}
