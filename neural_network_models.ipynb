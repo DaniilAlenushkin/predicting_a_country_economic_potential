{
 "cells": [
  {
   "cell_type": "code",
   "execution_count": 26,
   "outputs": [],
   "source": [
    "import pandas as pd\n",
    "from keras.layers import Conv1D, GRU, Dense, Dropout, Flatten, LSTM\n",
    "from keras.models import Sequential\n",
    "from scikeras.wrappers import KerasRegressor\n",
    "from sklearn.model_selection import train_test_split, GridSearchCV"
   ],
   "metadata": {
    "collapsed": false
   }
  },
  {
   "cell_type": "code",
   "execution_count": 27,
   "outputs": [],
   "source": [
    "import warnings\n",
    "warnings.filterwarnings(\"ignore\")"
   ],
   "metadata": {
    "collapsed": false
   }
  },
  {
   "cell_type": "code",
   "execution_count": 28,
   "metadata": {
    "collapsed": true
   },
   "outputs": [
    {
     "data": {
      "text/plain": "      Adjusted net national income (annual % growth)  \\\n0                                           0.484076   \n1                                           0.468048   \n2                                           0.481640   \n3                                           0.453289   \n4                                           0.470644   \n...                                              ...   \n2027                                        0.355408   \n2028                                        0.355226   \n2029                                        0.355856   \n2030                                        0.356276   \n2031                                        0.356493   \n\n      Adjusted net national income (constant 2015 US$)  \\\n0                                             0.018315   \n1                                             0.014754   \n2                                             0.017279   \n3                                             0.016555   \n4                                             0.022188   \n...                                                ...   \n2027                                          0.021423   \n2028                                          0.015958   \n2029                                          0.020443   \n2030                                          0.017869   \n2031                                          0.017229   \n\n      Adjusted net national income (current US$)  \\\n0                                       0.001125   \n1                                       0.001301   \n2                                       0.000530   \n3                                       0.001096   \n4                                       0.000600   \n...                                          ...   \n2027                                    0.021071   \n2028                                    0.012176   \n2029                                    0.021131   \n2030                                    0.021781   \n2031                                    0.019374   \n\n      Adjusted net national income per capita (annual % growth)  \\\n0                                              0.493361           \n1                                              0.482257           \n2                                              0.473711           \n3                                              0.499597           \n4                                              0.508247           \n...                                                 ...           \n2027                                           0.376423           \n2028                                           0.379859           \n2029                                           0.377490           \n2030                                           0.377799           \n2031                                           0.377353           \n\n      Adjusted net national income per capita (constant 2015 US$)  \\\n0                                              0.232096             \n1                                              0.223844             \n2                                              0.250464             \n3                                              0.228257             \n4                                              0.202923             \n...                                                 ...             \n2027                                           0.394665             \n2028                                           0.443141             \n2029                                           0.433445             \n2030                                           0.392040             \n2031                                           0.349044             \n\n      Adjusted net national income per capita (current US$)  \\\n0                                              0.017700       \n1                                              0.014627       \n2                                              0.014431       \n3                                              0.023174       \n4                                              0.022862       \n...                                                 ...       \n2027                                           0.319516       \n2028                                           0.318189       \n2029                                           0.300040       \n2030                                           0.331834       \n2031                                           0.259787       \n\n      Adjusted net savings, excluding particulate emission damage (current US$)  \\\n0                                              0.025495                           \n1                                              0.026590                           \n2                                              0.026371                           \n3                                              0.026353                           \n4                                              0.026775                           \n...                                                 ...                           \n2027                                           0.022198                           \n2028                                           0.022149                           \n2029                                           0.022193                           \n2030                                           0.022217                           \n2031                                           0.022206                           \n\n      Adjusted net savings, including particulate emission damage (current US$)  \\\n0                                              0.037758                           \n1                                              0.037826                           \n2                                              0.038822                           \n3                                              0.034463                           \n4                                              0.030509                           \n...                                                 ...                           \n2027                                           0.021916                           \n2028                                           0.022046                           \n2029                                           0.021948                           \n2030                                           0.021949                           \n2031                                           0.021948                           \n\n      Adjusted savings: carbon dioxide damage (current US$)  \\\n0                                              0.000056       \n1                                              0.000128       \n2                                              0.000118       \n3                                              0.000179       \n4                                              0.000266       \n...                                                 ...       \n2027                                           0.046591       \n2028                                           0.043437       \n2029                                           0.045275       \n2030                                           0.036685       \n2031                                           0.035518       \n\n      Adjusted savings: consumption of fixed capital (current US$)  ...  \\\n0                                              0.000635             ...   \n1                                              0.000285             ...   \n2                                              0.000204             ...   \n3                                              0.000457             ...   \n4                                              0.000555             ...   \n...                                                 ...             ...   \n2027                                           0.021313             ...   \n2028                                           0.015338             ...   \n2029                                           0.021177             ...   \n2030                                           0.021008             ...   \n2031                                           0.018455             ...   \n\n      Unemployment, youth male (% of male labor force ages 15-24) (modeled ILO estimate)  \\\n0                                              0.108886                                    \n1                                              0.080654                                    \n2                                              0.091330                                    \n3                                              0.052015                                    \n4                                              0.044705                                    \n...                                                 ...                                    \n2027                                           0.786150                                    \n2028                                           0.525959                                    \n2029                                           0.470119                                    \n2030                                           0.553846                                    \n2031                                           0.762441                                    \n\n      Unemployment, youth male (% of male labor force ages 15-24) (national estimate)  \\\n0                                              0.023856                                 \n1                                              0.003790                                 \n2                                              0.033513                                 \n3                                              0.022731                                 \n4                                              0.007773                                 \n...                                                 ...                                 \n2027                                           0.826007                                 \n2028                                           0.723408                                 \n2029                                           0.819686                                 \n2030                                           0.799002                                 \n2031                                           0.678529                                 \n\n      Unemployment, youth total (% of total labor force ages 15-24) (modeled ILO estimate)  \\\n0                                              0.076645                                      \n1                                              0.109930                                      \n2                                              0.087172                                      \n3                                              0.091999                                      \n4                                              0.118308                                      \n...                                                 ...                                      \n2027                                           0.640357                                      \n2028                                           0.744625                                      \n2029                                           0.710154                                      \n2030                                           0.719372                                      \n2031                                           0.682693                                      \n\n      Unemployment, youth total (% of total labor force ages 15-24) (national estimate)  \\\n0                                              0.056228                                   \n1                                              0.043929                                   \n2                                              0.036492                                   \n3                                              0.035654                                   \n4                                              0.038628                                   \n...                                                 ...                                   \n2027                                           0.728138                                   \n2028                                           0.823676                                   \n2029                                           0.540721                                   \n2030                                           0.580822                                   \n2031                                           0.722125                                   \n\n      Vulnerable employment, female (% of female employment) (modeled ILO estimate)  \\\n0                                              0.279695                               \n1                                              0.193565                               \n2                                              0.235089                               \n3                                              0.245976                               \n4                                              0.240441                               \n...                                                 ...                               \n2027                                           0.083754                               \n2028                                           0.091201                               \n2029                                           0.085964                               \n2030                                           0.081256                               \n2031                                           0.078244                               \n\n      Vulnerable employment, male (% of male employment) (modeled ILO estimate)  \\\n0                                              0.201838                           \n1                                              0.248208                           \n2                                              0.298487                           \n3                                              0.240291                           \n4                                              0.223383                           \n...                                                 ...                           \n2027                                           0.051664                           \n2028                                           0.047630                           \n2029                                           0.065204                           \n2030                                           0.063866                           \n2031                                           0.086123                           \n\n      Vulnerable employment, total (% of total employment) (modeled ILO estimate)  \\\n0                                              0.156617                             \n1                                              0.176652                             \n2                                              0.198736                             \n3                                              0.310167                             \n4                                              0.363340                             \n...                                                 ...                             \n2027                                           0.078857                             \n2028                                           0.097655                             \n2029                                           0.085008                             \n2030                                           0.049129                             \n2031                                           0.081078                             \n\n      Wage and salaried workers, female (% of female employment) (modeled ILO estimate)  \\\n0                                              0.323412                                   \n1                                              0.378192                                   \n2                                              0.409490                                   \n3                                              0.292724                                   \n4                                              0.317195                                   \n...                                                 ...                                   \n2027                                           0.482987                                   \n2028                                           0.475970                                   \n2029                                           0.599174                                   \n2030                                           0.505235                                   \n2031                                           0.574066                                   \n\n      Wage and salaried workers, male (% of male employment) (modeled ILO estimate)  \\\n0                                              0.336784                               \n1                                              0.258009                               \n2                                              0.283037                               \n3                                              0.318325                               \n4                                              0.347051                               \n...                                                 ...                               \n2027                                           0.446748                               \n2028                                           0.344713                               \n2029                                           0.528091                               \n2030                                           0.456719                               \n2031                                           0.484016                               \n\n      Wage and salaried workers, total (% of total employment) (modeled ILO estimate)  \n0                                              0.355807                                \n1                                              0.438305                                \n2                                              0.495832                                \n3                                              0.516666                                \n4                                              0.452032                                \n...                                                 ...                                \n2027                                           0.472202                                \n2028                                           0.593125                                \n2029                                           0.484817                                \n2030                                           0.395095                                \n2031                                           0.543522                                \n\n[2032 rows x 1224 columns]",
      "text/html": "<div>\n<style scoped>\n    .dataframe tbody tr th:only-of-type {\n        vertical-align: middle;\n    }\n\n    .dataframe tbody tr th {\n        vertical-align: top;\n    }\n\n    .dataframe thead th {\n        text-align: right;\n    }\n</style>\n<table border=\"1\" class=\"dataframe\">\n  <thead>\n    <tr style=\"text-align: right;\">\n      <th></th>\n      <th>Adjusted net national income (annual % growth)</th>\n      <th>Adjusted net national income (constant 2015 US$)</th>\n      <th>Adjusted net national income (current US$)</th>\n      <th>Adjusted net national income per capita (annual % growth)</th>\n      <th>Adjusted net national income per capita (constant 2015 US$)</th>\n      <th>Adjusted net national income per capita (current US$)</th>\n      <th>Adjusted net savings, excluding particulate emission damage (current US$)</th>\n      <th>Adjusted net savings, including particulate emission damage (current US$)</th>\n      <th>Adjusted savings: carbon dioxide damage (current US$)</th>\n      <th>Adjusted savings: consumption of fixed capital (current US$)</th>\n      <th>...</th>\n      <th>Unemployment, youth male (% of male labor force ages 15-24) (modeled ILO estimate)</th>\n      <th>Unemployment, youth male (% of male labor force ages 15-24) (national estimate)</th>\n      <th>Unemployment, youth total (% of total labor force ages 15-24) (modeled ILO estimate)</th>\n      <th>Unemployment, youth total (% of total labor force ages 15-24) (national estimate)</th>\n      <th>Vulnerable employment, female (% of female employment) (modeled ILO estimate)</th>\n      <th>Vulnerable employment, male (% of male employment) (modeled ILO estimate)</th>\n      <th>Vulnerable employment, total (% of total employment) (modeled ILO estimate)</th>\n      <th>Wage and salaried workers, female (% of female employment) (modeled ILO estimate)</th>\n      <th>Wage and salaried workers, male (% of male employment) (modeled ILO estimate)</th>\n      <th>Wage and salaried workers, total (% of total employment) (modeled ILO estimate)</th>\n    </tr>\n  </thead>\n  <tbody>\n    <tr>\n      <th>0</th>\n      <td>0.484076</td>\n      <td>0.018315</td>\n      <td>0.001125</td>\n      <td>0.493361</td>\n      <td>0.232096</td>\n      <td>0.017700</td>\n      <td>0.025495</td>\n      <td>0.037758</td>\n      <td>0.000056</td>\n      <td>0.000635</td>\n      <td>...</td>\n      <td>0.108886</td>\n      <td>0.023856</td>\n      <td>0.076645</td>\n      <td>0.056228</td>\n      <td>0.279695</td>\n      <td>0.201838</td>\n      <td>0.156617</td>\n      <td>0.323412</td>\n      <td>0.336784</td>\n      <td>0.355807</td>\n    </tr>\n    <tr>\n      <th>1</th>\n      <td>0.468048</td>\n      <td>0.014754</td>\n      <td>0.001301</td>\n      <td>0.482257</td>\n      <td>0.223844</td>\n      <td>0.014627</td>\n      <td>0.026590</td>\n      <td>0.037826</td>\n      <td>0.000128</td>\n      <td>0.000285</td>\n      <td>...</td>\n      <td>0.080654</td>\n      <td>0.003790</td>\n      <td>0.109930</td>\n      <td>0.043929</td>\n      <td>0.193565</td>\n      <td>0.248208</td>\n      <td>0.176652</td>\n      <td>0.378192</td>\n      <td>0.258009</td>\n      <td>0.438305</td>\n    </tr>\n    <tr>\n      <th>2</th>\n      <td>0.481640</td>\n      <td>0.017279</td>\n      <td>0.000530</td>\n      <td>0.473711</td>\n      <td>0.250464</td>\n      <td>0.014431</td>\n      <td>0.026371</td>\n      <td>0.038822</td>\n      <td>0.000118</td>\n      <td>0.000204</td>\n      <td>...</td>\n      <td>0.091330</td>\n      <td>0.033513</td>\n      <td>0.087172</td>\n      <td>0.036492</td>\n      <td>0.235089</td>\n      <td>0.298487</td>\n      <td>0.198736</td>\n      <td>0.409490</td>\n      <td>0.283037</td>\n      <td>0.495832</td>\n    </tr>\n    <tr>\n      <th>3</th>\n      <td>0.453289</td>\n      <td>0.016555</td>\n      <td>0.001096</td>\n      <td>0.499597</td>\n      <td>0.228257</td>\n      <td>0.023174</td>\n      <td>0.026353</td>\n      <td>0.034463</td>\n      <td>0.000179</td>\n      <td>0.000457</td>\n      <td>...</td>\n      <td>0.052015</td>\n      <td>0.022731</td>\n      <td>0.091999</td>\n      <td>0.035654</td>\n      <td>0.245976</td>\n      <td>0.240291</td>\n      <td>0.310167</td>\n      <td>0.292724</td>\n      <td>0.318325</td>\n      <td>0.516666</td>\n    </tr>\n    <tr>\n      <th>4</th>\n      <td>0.470644</td>\n      <td>0.022188</td>\n      <td>0.000600</td>\n      <td>0.508247</td>\n      <td>0.202923</td>\n      <td>0.022862</td>\n      <td>0.026775</td>\n      <td>0.030509</td>\n      <td>0.000266</td>\n      <td>0.000555</td>\n      <td>...</td>\n      <td>0.044705</td>\n      <td>0.007773</td>\n      <td>0.118308</td>\n      <td>0.038628</td>\n      <td>0.240441</td>\n      <td>0.223383</td>\n      <td>0.363340</td>\n      <td>0.317195</td>\n      <td>0.347051</td>\n      <td>0.452032</td>\n    </tr>\n    <tr>\n      <th>...</th>\n      <td>...</td>\n      <td>...</td>\n      <td>...</td>\n      <td>...</td>\n      <td>...</td>\n      <td>...</td>\n      <td>...</td>\n      <td>...</td>\n      <td>...</td>\n      <td>...</td>\n      <td>...</td>\n      <td>...</td>\n      <td>...</td>\n      <td>...</td>\n      <td>...</td>\n      <td>...</td>\n      <td>...</td>\n      <td>...</td>\n      <td>...</td>\n      <td>...</td>\n      <td>...</td>\n    </tr>\n    <tr>\n      <th>2027</th>\n      <td>0.355408</td>\n      <td>0.021423</td>\n      <td>0.021071</td>\n      <td>0.376423</td>\n      <td>0.394665</td>\n      <td>0.319516</td>\n      <td>0.022198</td>\n      <td>0.021916</td>\n      <td>0.046591</td>\n      <td>0.021313</td>\n      <td>...</td>\n      <td>0.786150</td>\n      <td>0.826007</td>\n      <td>0.640357</td>\n      <td>0.728138</td>\n      <td>0.083754</td>\n      <td>0.051664</td>\n      <td>0.078857</td>\n      <td>0.482987</td>\n      <td>0.446748</td>\n      <td>0.472202</td>\n    </tr>\n    <tr>\n      <th>2028</th>\n      <td>0.355226</td>\n      <td>0.015958</td>\n      <td>0.012176</td>\n      <td>0.379859</td>\n      <td>0.443141</td>\n      <td>0.318189</td>\n      <td>0.022149</td>\n      <td>0.022046</td>\n      <td>0.043437</td>\n      <td>0.015338</td>\n      <td>...</td>\n      <td>0.525959</td>\n      <td>0.723408</td>\n      <td>0.744625</td>\n      <td>0.823676</td>\n      <td>0.091201</td>\n      <td>0.047630</td>\n      <td>0.097655</td>\n      <td>0.475970</td>\n      <td>0.344713</td>\n      <td>0.593125</td>\n    </tr>\n    <tr>\n      <th>2029</th>\n      <td>0.355856</td>\n      <td>0.020443</td>\n      <td>0.021131</td>\n      <td>0.377490</td>\n      <td>0.433445</td>\n      <td>0.300040</td>\n      <td>0.022193</td>\n      <td>0.021948</td>\n      <td>0.045275</td>\n      <td>0.021177</td>\n      <td>...</td>\n      <td>0.470119</td>\n      <td>0.819686</td>\n      <td>0.710154</td>\n      <td>0.540721</td>\n      <td>0.085964</td>\n      <td>0.065204</td>\n      <td>0.085008</td>\n      <td>0.599174</td>\n      <td>0.528091</td>\n      <td>0.484817</td>\n    </tr>\n    <tr>\n      <th>2030</th>\n      <td>0.356276</td>\n      <td>0.017869</td>\n      <td>0.021781</td>\n      <td>0.377799</td>\n      <td>0.392040</td>\n      <td>0.331834</td>\n      <td>0.022217</td>\n      <td>0.021949</td>\n      <td>0.036685</td>\n      <td>0.021008</td>\n      <td>...</td>\n      <td>0.553846</td>\n      <td>0.799002</td>\n      <td>0.719372</td>\n      <td>0.580822</td>\n      <td>0.081256</td>\n      <td>0.063866</td>\n      <td>0.049129</td>\n      <td>0.505235</td>\n      <td>0.456719</td>\n      <td>0.395095</td>\n    </tr>\n    <tr>\n      <th>2031</th>\n      <td>0.356493</td>\n      <td>0.017229</td>\n      <td>0.019374</td>\n      <td>0.377353</td>\n      <td>0.349044</td>\n      <td>0.259787</td>\n      <td>0.022206</td>\n      <td>0.021948</td>\n      <td>0.035518</td>\n      <td>0.018455</td>\n      <td>...</td>\n      <td>0.762441</td>\n      <td>0.678529</td>\n      <td>0.682693</td>\n      <td>0.722125</td>\n      <td>0.078244</td>\n      <td>0.086123</td>\n      <td>0.081078</td>\n      <td>0.574066</td>\n      <td>0.484016</td>\n      <td>0.543522</td>\n    </tr>\n  </tbody>\n</table>\n<p>2032 rows × 1224 columns</p>\n</div>"
     },
     "execution_count": 28,
     "metadata": {},
     "output_type": "execute_result"
    }
   ],
   "source": [
    "cleared_data_all = pd.read_excel(r'dataset/cleared_dataset/BRICS_all_areas_cleared_dataset.xlsx')\n",
    "cleared_data_all = cleared_data_all.iloc[:, 1:]\n",
    "cleared_data_all"
   ]
  },
  {
   "cell_type": "code",
   "execution_count": 29,
   "outputs": [
    {
     "data": {
      "text/plain": "      Adjusted net national income (annual % growth)  \\\n0                                           0.457406   \n1                                           0.457128   \n2                                           0.513473   \n3                                           0.524539   \n4                                           0.539012   \n...                                              ...   \n2027                                        0.380864   \n2028                                        0.379569   \n2029                                        0.379445   \n2030                                        0.379651   \n2031                                        0.380535   \n\n      Adjusted net national income per capita (annual % growth)  \\\n0                                              0.453062           \n1                                              0.470747           \n2                                              0.452032           \n3                                              0.472299           \n4                                              0.476936           \n...                                                 ...           \n2027                                           0.344909           \n2028                                           0.343628           \n2029                                           0.345375           \n2030                                           0.341619           \n2031                                           0.347130           \n\n      Agriculture, forestry, and fishing, value added (annual % growth)  \\\n0                                              0.569723                   \n1                                              0.605518                   \n2                                              0.639689                   \n3                                              0.610210                   \n4                                              0.619483                   \n...                                                 ...                   \n2027                                           0.564977                   \n2028                                           0.611090                   \n2029                                           0.617299                   \n2030                                           0.688184                   \n2031                                           0.710340                   \n\n      Chemicals (% of value added in manufacturing)  \\\n0                                          0.657691   \n1                                          0.697599   \n2                                          0.574743   \n3                                          0.573498   \n4                                          0.490571   \n...                                             ...   \n2027                                       0.023685   \n2028                                       0.088613   \n2029                                       0.077532   \n2030                                       0.069574   \n2031                                       0.102443   \n\n      Communications, computer, etc. (% of service exports, BoP)  \\\n0                                              0.204321            \n1                                              0.379046            \n2                                              0.386501            \n3                                              0.448555            \n4                                              0.540174            \n...                                                 ...            \n2027                                           0.367445            \n2028                                           0.421711            \n2029                                           0.320089            \n2030                                           0.398203            \n2031                                           0.409968            \n\n      Communications, computer, etc. (% of service imports, BoP)  \\\n0                                              0.303860            \n1                                              0.277715            \n2                                              0.228170            \n3                                              0.245257            \n4                                              0.403026            \n...                                                 ...            \n2027                                           0.537930            \n2028                                           0.715505            \n2029                                           0.629314            \n2030                                           0.801984            \n2031                                           0.632586            \n\n      Debt service (PPG and IMF only, % of exports of goods, services and primary income)  \\\n0                                              0.342552                                     \n1                                              0.326866                                     \n2                                              0.400955                                     \n3                                              0.407111                                     \n4                                              0.375958                                     \n...                                                 ...                                     \n2027                                           0.142920                                     \n2028                                           0.217099                                     \n2029                                           0.220856                                     \n2030                                           0.253660                                     \n2031                                           0.198880                                     \n\n      Exports of goods and services (annual % growth)  \\\n0                                            0.572192   \n1                                            0.571897   \n2                                            0.559396   \n3                                            0.549325   \n4                                            0.539631   \n...                                               ...   \n2027                                         0.388038   \n2028                                         0.386017   \n2029                                         0.357104   \n2030                                         0.367616   \n2031                                         0.336541   \n\n      Final consumption expenditure (annual % growth)  \\\n0                                            0.932416   \n1                                            0.970064   \n2                                            0.916655   \n3                                            0.827048   \n4                                            0.742310   \n...                                               ...   \n2027                                         0.306280   \n2028                                         0.277552   \n2029                                         0.256545   \n2030                                         0.194880   \n2031                                         0.194275   \n\n      Food, beverages and tobacco (% of value added in manufacturing)  ...  \\\n0                                              0.255100                ...   \n1                                              0.291585                ...   \n2                                              0.282468                ...   \n3                                              0.278518                ...   \n4                                              0.354712                ...   \n...                                                 ...                ...   \n2027                                           0.802443                ...   \n2028                                           0.943814                ...   \n2029                                           0.750134                ...   \n2030                                           0.752336                ...   \n2031                                           0.610155                ...   \n\n      Unemployment, youth male (% of male labor force ages 15-24) (modeled ILO estimate)  \\\n0                                              0.068611                                    \n1                                              0.067162                                    \n2                                              0.084913                                    \n3                                              0.105380                                    \n4                                              0.105057                                    \n...                                                 ...                                    \n2027                                           0.575320                                    \n2028                                           0.423149                                    \n2029                                           0.654935                                    \n2030                                           0.528392                                    \n2031                                           0.726686                                    \n\n      Unemployment, youth male (% of male labor force ages 15-24) (national estimate)  \\\n0                                              0.047416                                 \n1                                              0.054393                                 \n2                                              0.062121                                 \n3                                              0.039375                                 \n4                                              0.038862                                 \n...                                                 ...                                 \n2027                                           0.676519                                 \n2028                                           0.647875                                 \n2029                                           0.719199                                 \n2030                                           0.576105                                 \n2031                                           0.697730                                 \n\n      Unemployment, youth total (% of total labor force ages 15-24) (modeled ILO estimate)  \\\n0                                              0.111070                                      \n1                                              0.083389                                      \n2                                              0.088835                                      \n3                                              0.094489                                      \n4                                              0.093814                                      \n...                                                 ...                                      \n2027                                           0.781112                                      \n2028                                           0.941687                                      \n2029                                           0.776202                                      \n2030                                           0.519103                                      \n2031                                           0.634831                                      \n\n      Unemployment, youth total (% of total labor force ages 15-24) (national estimate)  \\\n0                                              0.056180                                   \n1                                              0.069938                                   \n2                                              0.078727                                   \n3                                              0.041022                                   \n4                                              0.024142                                   \n...                                                 ...                                   \n2027                                           0.671105                                   \n2028                                           0.748946                                   \n2029                                           0.660155                                   \n2030                                           0.780148                                   \n2031                                           0.790045                                   \n\n      Vulnerable employment, female (% of female employment) (modeled ILO estimate)  \\\n0                                              0.229610                               \n1                                              0.260012                               \n2                                              0.228531                               \n3                                              0.202504                               \n4                                              0.306630                               \n...                                                 ...                               \n2027                                           0.093923                               \n2028                                           0.091576                               \n2029                                           0.096665                               \n2030                                           0.092425                               \n2031                                           0.075364                               \n\n      Vulnerable employment, male (% of male employment) (modeled ILO estimate)  \\\n0                                              0.294200                           \n1                                              0.235632                           \n2                                              0.239684                           \n3                                              0.259351                           \n4                                              0.265141                           \n...                                                 ...                           \n2027                                           0.071851                           \n2028                                           0.075240                           \n2029                                           0.074015                           \n2030                                           0.074955                           \n2031                                           0.087549                           \n\n      Vulnerable employment, total (% of total employment) (modeled ILO estimate)  \\\n0                                              0.233323                             \n1                                              0.294720                             \n2                                              0.268762                             \n3                                              0.266026                             \n4                                              0.229772                             \n...                                                 ...                             \n2027                                           0.056182                             \n2028                                           0.075146                             \n2029                                           0.083483                             \n2030                                           0.063195                             \n2031                                           0.070909                             \n\n      Wage and salaried workers, female (% of female employment) (modeled ILO estimate)  \\\n0                                              0.343718                                   \n1                                              0.268808                                   \n2                                              0.360262                                   \n3                                              0.298337                                   \n4                                              0.354893                                   \n...                                                 ...                                   \n2027                                           0.350254                                   \n2028                                           0.441824                                   \n2029                                           0.422319                                   \n2030                                           0.507861                                   \n2031                                           0.515435                                   \n\n      Wage and salaried workers, male (% of male employment) (modeled ILO estimate)  \\\n0                                              0.338674                               \n1                                              0.404593                               \n2                                              0.354494                               \n3                                              0.474548                               \n4                                              0.295688                               \n...                                                 ...                               \n2027                                           0.506756                               \n2028                                           0.619265                               \n2029                                           0.487406                               \n2030                                           0.401599                               \n2031                                           0.534479                               \n\n      Wage and salaried workers, total (% of total employment) (modeled ILO estimate)  \n0                                              0.365386                                \n1                                              0.345781                                \n2                                              0.379005                                \n3                                              0.358246                                \n4                                              0.201926                                \n...                                                 ...                                \n2027                                           0.504535                                \n2028                                           0.562003                                \n2029                                           0.472707                                \n2030                                           0.612767                                \n2031                                           0.557567                                \n\n[2032 rows x 655 columns]",
      "text/html": "<div>\n<style scoped>\n    .dataframe tbody tr th:only-of-type {\n        vertical-align: middle;\n    }\n\n    .dataframe tbody tr th {\n        vertical-align: top;\n    }\n\n    .dataframe thead th {\n        text-align: right;\n    }\n</style>\n<table border=\"1\" class=\"dataframe\">\n  <thead>\n    <tr style=\"text-align: right;\">\n      <th></th>\n      <th>Adjusted net national income (annual % growth)</th>\n      <th>Adjusted net national income per capita (annual % growth)</th>\n      <th>Agriculture, forestry, and fishing, value added (annual % growth)</th>\n      <th>Chemicals (% of value added in manufacturing)</th>\n      <th>Communications, computer, etc. (% of service exports, BoP)</th>\n      <th>Communications, computer, etc. (% of service imports, BoP)</th>\n      <th>Debt service (PPG and IMF only, % of exports of goods, services and primary income)</th>\n      <th>Exports of goods and services (annual % growth)</th>\n      <th>Final consumption expenditure (annual % growth)</th>\n      <th>Food, beverages and tobacco (% of value added in manufacturing)</th>\n      <th>...</th>\n      <th>Unemployment, youth male (% of male labor force ages 15-24) (modeled ILO estimate)</th>\n      <th>Unemployment, youth male (% of male labor force ages 15-24) (national estimate)</th>\n      <th>Unemployment, youth total (% of total labor force ages 15-24) (modeled ILO estimate)</th>\n      <th>Unemployment, youth total (% of total labor force ages 15-24) (national estimate)</th>\n      <th>Vulnerable employment, female (% of female employment) (modeled ILO estimate)</th>\n      <th>Vulnerable employment, male (% of male employment) (modeled ILO estimate)</th>\n      <th>Vulnerable employment, total (% of total employment) (modeled ILO estimate)</th>\n      <th>Wage and salaried workers, female (% of female employment) (modeled ILO estimate)</th>\n      <th>Wage and salaried workers, male (% of male employment) (modeled ILO estimate)</th>\n      <th>Wage and salaried workers, total (% of total employment) (modeled ILO estimate)</th>\n    </tr>\n  </thead>\n  <tbody>\n    <tr>\n      <th>0</th>\n      <td>0.457406</td>\n      <td>0.453062</td>\n      <td>0.569723</td>\n      <td>0.657691</td>\n      <td>0.204321</td>\n      <td>0.303860</td>\n      <td>0.342552</td>\n      <td>0.572192</td>\n      <td>0.932416</td>\n      <td>0.255100</td>\n      <td>...</td>\n      <td>0.068611</td>\n      <td>0.047416</td>\n      <td>0.111070</td>\n      <td>0.056180</td>\n      <td>0.229610</td>\n      <td>0.294200</td>\n      <td>0.233323</td>\n      <td>0.343718</td>\n      <td>0.338674</td>\n      <td>0.365386</td>\n    </tr>\n    <tr>\n      <th>1</th>\n      <td>0.457128</td>\n      <td>0.470747</td>\n      <td>0.605518</td>\n      <td>0.697599</td>\n      <td>0.379046</td>\n      <td>0.277715</td>\n      <td>0.326866</td>\n      <td>0.571897</td>\n      <td>0.970064</td>\n      <td>0.291585</td>\n      <td>...</td>\n      <td>0.067162</td>\n      <td>0.054393</td>\n      <td>0.083389</td>\n      <td>0.069938</td>\n      <td>0.260012</td>\n      <td>0.235632</td>\n      <td>0.294720</td>\n      <td>0.268808</td>\n      <td>0.404593</td>\n      <td>0.345781</td>\n    </tr>\n    <tr>\n      <th>2</th>\n      <td>0.513473</td>\n      <td>0.452032</td>\n      <td>0.639689</td>\n      <td>0.574743</td>\n      <td>0.386501</td>\n      <td>0.228170</td>\n      <td>0.400955</td>\n      <td>0.559396</td>\n      <td>0.916655</td>\n      <td>0.282468</td>\n      <td>...</td>\n      <td>0.084913</td>\n      <td>0.062121</td>\n      <td>0.088835</td>\n      <td>0.078727</td>\n      <td>0.228531</td>\n      <td>0.239684</td>\n      <td>0.268762</td>\n      <td>0.360262</td>\n      <td>0.354494</td>\n      <td>0.379005</td>\n    </tr>\n    <tr>\n      <th>3</th>\n      <td>0.524539</td>\n      <td>0.472299</td>\n      <td>0.610210</td>\n      <td>0.573498</td>\n      <td>0.448555</td>\n      <td>0.245257</td>\n      <td>0.407111</td>\n      <td>0.549325</td>\n      <td>0.827048</td>\n      <td>0.278518</td>\n      <td>...</td>\n      <td>0.105380</td>\n      <td>0.039375</td>\n      <td>0.094489</td>\n      <td>0.041022</td>\n      <td>0.202504</td>\n      <td>0.259351</td>\n      <td>0.266026</td>\n      <td>0.298337</td>\n      <td>0.474548</td>\n      <td>0.358246</td>\n    </tr>\n    <tr>\n      <th>4</th>\n      <td>0.539012</td>\n      <td>0.476936</td>\n      <td>0.619483</td>\n      <td>0.490571</td>\n      <td>0.540174</td>\n      <td>0.403026</td>\n      <td>0.375958</td>\n      <td>0.539631</td>\n      <td>0.742310</td>\n      <td>0.354712</td>\n      <td>...</td>\n      <td>0.105057</td>\n      <td>0.038862</td>\n      <td>0.093814</td>\n      <td>0.024142</td>\n      <td>0.306630</td>\n      <td>0.265141</td>\n      <td>0.229772</td>\n      <td>0.354893</td>\n      <td>0.295688</td>\n      <td>0.201926</td>\n    </tr>\n    <tr>\n      <th>...</th>\n      <td>...</td>\n      <td>...</td>\n      <td>...</td>\n      <td>...</td>\n      <td>...</td>\n      <td>...</td>\n      <td>...</td>\n      <td>...</td>\n      <td>...</td>\n      <td>...</td>\n      <td>...</td>\n      <td>...</td>\n      <td>...</td>\n      <td>...</td>\n      <td>...</td>\n      <td>...</td>\n      <td>...</td>\n      <td>...</td>\n      <td>...</td>\n      <td>...</td>\n      <td>...</td>\n    </tr>\n    <tr>\n      <th>2027</th>\n      <td>0.380864</td>\n      <td>0.344909</td>\n      <td>0.564977</td>\n      <td>0.023685</td>\n      <td>0.367445</td>\n      <td>0.537930</td>\n      <td>0.142920</td>\n      <td>0.388038</td>\n      <td>0.306280</td>\n      <td>0.802443</td>\n      <td>...</td>\n      <td>0.575320</td>\n      <td>0.676519</td>\n      <td>0.781112</td>\n      <td>0.671105</td>\n      <td>0.093923</td>\n      <td>0.071851</td>\n      <td>0.056182</td>\n      <td>0.350254</td>\n      <td>0.506756</td>\n      <td>0.504535</td>\n    </tr>\n    <tr>\n      <th>2028</th>\n      <td>0.379569</td>\n      <td>0.343628</td>\n      <td>0.611090</td>\n      <td>0.088613</td>\n      <td>0.421711</td>\n      <td>0.715505</td>\n      <td>0.217099</td>\n      <td>0.386017</td>\n      <td>0.277552</td>\n      <td>0.943814</td>\n      <td>...</td>\n      <td>0.423149</td>\n      <td>0.647875</td>\n      <td>0.941687</td>\n      <td>0.748946</td>\n      <td>0.091576</td>\n      <td>0.075240</td>\n      <td>0.075146</td>\n      <td>0.441824</td>\n      <td>0.619265</td>\n      <td>0.562003</td>\n    </tr>\n    <tr>\n      <th>2029</th>\n      <td>0.379445</td>\n      <td>0.345375</td>\n      <td>0.617299</td>\n      <td>0.077532</td>\n      <td>0.320089</td>\n      <td>0.629314</td>\n      <td>0.220856</td>\n      <td>0.357104</td>\n      <td>0.256545</td>\n      <td>0.750134</td>\n      <td>...</td>\n      <td>0.654935</td>\n      <td>0.719199</td>\n      <td>0.776202</td>\n      <td>0.660155</td>\n      <td>0.096665</td>\n      <td>0.074015</td>\n      <td>0.083483</td>\n      <td>0.422319</td>\n      <td>0.487406</td>\n      <td>0.472707</td>\n    </tr>\n    <tr>\n      <th>2030</th>\n      <td>0.379651</td>\n      <td>0.341619</td>\n      <td>0.688184</td>\n      <td>0.069574</td>\n      <td>0.398203</td>\n      <td>0.801984</td>\n      <td>0.253660</td>\n      <td>0.367616</td>\n      <td>0.194880</td>\n      <td>0.752336</td>\n      <td>...</td>\n      <td>0.528392</td>\n      <td>0.576105</td>\n      <td>0.519103</td>\n      <td>0.780148</td>\n      <td>0.092425</td>\n      <td>0.074955</td>\n      <td>0.063195</td>\n      <td>0.507861</td>\n      <td>0.401599</td>\n      <td>0.612767</td>\n    </tr>\n    <tr>\n      <th>2031</th>\n      <td>0.380535</td>\n      <td>0.347130</td>\n      <td>0.710340</td>\n      <td>0.102443</td>\n      <td>0.409968</td>\n      <td>0.632586</td>\n      <td>0.198880</td>\n      <td>0.336541</td>\n      <td>0.194275</td>\n      <td>0.610155</td>\n      <td>...</td>\n      <td>0.726686</td>\n      <td>0.697730</td>\n      <td>0.634831</td>\n      <td>0.790045</td>\n      <td>0.075364</td>\n      <td>0.087549</td>\n      <td>0.070909</td>\n      <td>0.515435</td>\n      <td>0.534479</td>\n      <td>0.557567</td>\n    </tr>\n  </tbody>\n</table>\n<p>2032 rows × 655 columns</p>\n</div>"
     },
     "execution_count": 29,
     "metadata": {},
     "output_type": "execute_result"
    }
   ],
   "source": [
    "cleared_data_only_percent = pd.read_excel(r'dataset/cleared_dataset/BRICS_all_areas_cleared_dataset_only_%.xlsx')\n",
    "cleared_data_only_percent = cleared_data_only_percent.iloc[:, 1:]\n",
    "cleared_data_only_percent"
   ],
   "metadata": {
    "collapsed": false
   }
  },
  {
   "cell_type": "markdown",
   "source": [
    "Division into training and test samples"
   ],
   "metadata": {
    "collapsed": false
   }
  },
  {
   "cell_type": "code",
   "execution_count": 30,
   "outputs": [],
   "source": [
    "test_size = 0.2\n",
    "seed = 7\n",
    "target_feature_name = 'GDP per capita (current US$)'\n",
    "\n",
    "data_X_all = cleared_data_all.drop([target_feature_name], axis=1)\n",
    "data_Y_all = cleared_data_all[target_feature_name]\n",
    "data_X_train_all, data_X_test_all, data_Y_train_all, data_Y_test_all = train_test_split(data_X_all, data_Y_all, test_size=test_size, random_state=seed)\n",
    "\n",
    "data_X_only_percent = cleared_data_only_percent.drop([target_feature_name], axis=1)\n",
    "data_Y_only_percent = cleared_data_only_percent[target_feature_name]\n",
    "data_X_train_only_percent, data_X_test_only_percent, data_Y_train_only_percent, data_Y_test_only_percent = train_test_split(data_X_only_percent, data_Y_only_percent, test_size=test_size, random_state=seed)\n",
    "\n",
    "datasets = [{'X_train': data_X_train_only_percent, 'X_test': data_X_test_only_percent, 'Y_train': data_Y_train_only_percent,\n",
    "             'Y_test': data_Y_test_only_percent, 'name': 'only_percent_dataset'},\n",
    "            {'X_train': data_X_train_all, 'X_test': data_X_test_all,\n",
    "             'Y_train': data_Y_train_all, 'Y_test':data_Y_test_all, 'name': 'original_data'}]"
   ],
   "metadata": {
    "collapsed": false
   }
  },
  {
   "cell_type": "markdown",
   "source": [
    "Serial connection one-dimensional convolutional and recurrent GRU neural network layers with a fully connected classifier"
   ],
   "metadata": {
    "collapsed": false
   }
  },
  {
   "cell_type": "code",
   "execution_count": 7,
   "outputs": [],
   "source": [
    "param_grid_neural_network = {\n",
    "    'filters': [8, 32],\n",
    "    'kernel_size': [1, 3],\n",
    "    'units': [16, 64],\n",
    "    'optimizer' : [\"adam\", \"rmsprop\"],\n",
    "    'dropout_rate': [0.1, 0.2, 0.3],\n",
    "    'gru_act': ['tanh', 'relu'],\n",
    "    'conv_act': ['tanh', 'relu']\n",
    "}"
   ],
   "metadata": {
    "collapsed": false
   }
  },
  {
   "cell_type": "code",
   "execution_count": 8,
   "outputs": [
    {
     "name": "stdout",
     "output_type": "stream",
     "text": [
      "WARNING:tensorflow:From C:\\Users\\Daniil_Alenushkin\\Desktop\\SUAI\\Magistracy_09.04.04\\predicting_a_country_economic_potential\\env\\lib\\site-packages\\keras\\src\\backend.py:873: The name tf.get_default_graph is deprecated. Please use tf.compat.v1.get_default_graph instead.\n",
      "\n",
      "WARNING:tensorflow:From C:\\Users\\Daniil_Alenushkin\\Desktop\\SUAI\\Magistracy_09.04.04\\predicting_a_country_economic_potential\\env\\lib\\site-packages\\keras\\src\\optimizers\\__init__.py:309: The name tf.train.Optimizer is deprecated. Please use tf.compat.v1.train.Optimizer instead.\n",
      "\n",
      "Epoch 1/3\n",
      "WARNING:tensorflow:From C:\\Users\\Daniil_Alenushkin\\Desktop\\SUAI\\Magistracy_09.04.04\\predicting_a_country_economic_potential\\env\\lib\\site-packages\\keras\\src\\utils\\tf_utils.py:492: The name tf.ragged.RaggedTensorValue is deprecated. Please use tf.compat.v1.ragged.RaggedTensorValue instead.\n",
      "\n",
      "51/51 [==============================] - 16s 278ms/step - loss: 0.0254 - val_loss: 0.0196\n",
      "Epoch 2/3\n",
      "51/51 [==============================] - 14s 268ms/step - loss: 0.0204 - val_loss: 0.0192\n",
      "Epoch 3/3\n",
      "51/51 [==============================] - 14s 268ms/step - loss: 0.0202 - val_loss: 0.0193\n",
      "Лучшее значение параметров:  {'conv_act': 'relu', 'dropout_rate': 0.2, 'filters': 32, 'gru_act': 'tanh', 'kernel_size': 3, 'optimizer': 'adam', 'units': 64}\n",
      "13/13 [==============================] - 1s 68ms/step\n",
      "MSE: 0.2362907928344532\n",
      "Epoch 1/3\n",
      "51/51 [==============================] - 40s 755ms/step - loss: 0.0351 - val_loss: 0.0249\n",
      "Epoch 2/3\n",
      "51/51 [==============================] - 32s 626ms/step - loss: 0.0244 - val_loss: 0.0237\n",
      "Epoch 3/3\n",
      "51/51 [==============================] - 26s 518ms/step - loss: 0.0238 - val_loss: 0.0229\n",
      "Лучшее значение параметров:  {'conv_act': 'relu', 'dropout_rate': 0.1, 'filters': 32, 'gru_act': 'relu', 'kernel_size': 3, 'optimizer': 'adam', 'units': 64}\n",
      "13/13 [==============================] - 2s 132ms/step\n",
      "MSE: 0.25223515990405154\n",
      "[{'conv_act': 'relu', 'dropout_rate': 0.2, 'filters': 32, 'gru_act': 'tanh', 'kernel_size': 3, 'optimizer': 'adam', 'units': 64}, {'conv_act': 'relu', 'dropout_rate': 0.1, 'filters': 32, 'gru_act': 'relu', 'kernel_size': 3, 'optimizer': 'adam', 'units': 64}]\n",
      "[0.2362907928344532, 0.25223515990405154]\n"
     ]
    }
   ],
   "source": [
    "def create_model(filters, kernel_size, units, dropout_rate, optimizer_model, gru_act, conv_act):\n",
    "    input_shape = (dataset.get('X_train').shape[1], 1)\n",
    "    model = Sequential()\n",
    "    model.add(Conv1D(filters=filters, kernel_size=kernel_size, activation=conv_act, input_shape=input_shape))\n",
    "    model.add(GRU(units, input_shape=input_shape, activation=gru_act))\n",
    "    model.add(Dropout(rate=dropout_rate))\n",
    "    model.add(Flatten())\n",
    "    model.add(Dense(1))\n",
    "    model.compile(optimizer=optimizer_model, loss='mean_squared_error')\n",
    "    return model\n",
    "\n",
    "best_params = []\n",
    "mse = []\n",
    "\n",
    "for dataset in datasets:\n",
    "    regressor = KerasRegressor(build_fn=create_model, filters=32, kernel_size=3, units=64, dropout_rate=0.2, optimizer_model='adam', gru_act='tanh', conv_act='relu', epochs=3, batch_size=32)\n",
    "    grid = GridSearchCV(estimator=regressor, param_grid=param_grid_neural_network, n_jobs=7)\n",
    "    grid_result = grid.fit(dataset.get('X_train'), dataset.get('Y_train'), validation_data = (dataset.get('X_test'), dataset.get('Y_test')))\n",
    "\n",
    "    best_params.append(grid_result.best_params_)\n",
    "    print(\"Лучшее значение параметров: \", grid_result.best_params_)\n",
    "\n",
    "    score = grid.score(dataset.get('X_test'), dataset.get('Y_test'))\n",
    "    mse.append(score)\n",
    "    print(\"MSE:\", score)\n",
    "\n",
    "print(best_params)\n",
    "print(mse)"
   ],
   "metadata": {
    "collapsed": false
   }
  },
  {
   "cell_type": "code",
   "execution_count": 31,
   "outputs": [],
   "source": [
    "param_grid_1d_lstm = {\n",
    "    'filters': [8, 32],\n",
    "    'kernel_size': [1, 3],\n",
    "    'units': [16, 64],\n",
    "    'optimizer': [\"adam\", \"rmsprop\"],\n",
    "    'dropout_rate': [0.1, 0.2, 0.3],\n",
    "    'lstm_act': ['tanh', 'relu'],\n",
    "    'conv_act': ['tanh', 'relu']\n",
    "}\n"
   ],
   "metadata": {
    "collapsed": false
   }
  },
  {
   "cell_type": "code",
   "execution_count": 32,
   "outputs": [
    {
     "name": "stdout",
     "output_type": "stream",
     "text": [
      "Epoch 1/3\n",
      "51/51 [==============================] - 13s 226ms/step - loss: 0.0244 - val_loss: 0.0201\n",
      "Epoch 2/3\n",
      "51/51 [==============================] - 11s 222ms/step - loss: 0.0205 - val_loss: 0.0194\n",
      "Epoch 3/3\n",
      "51/51 [==============================] - 11s 220ms/step - loss: 0.0202 - val_loss: 0.0191\n",
      "Лучшее значение параметров:  {'conv_act': 'relu', 'dropout_rate': 0.1, 'filters': 32, 'kernel_size': 3, 'lstm_act': 'tanh', 'optimizer': 'adam', 'units': 64}\n",
      "13/13 [==============================] - 1s 77ms/step\n",
      "MSE: 0.24592131247534077\n",
      "Epoch 1/3\n",
      "51/51 [==============================] - 25s 451ms/step - loss: 0.0301 - val_loss: 0.0249\n",
      "Epoch 2/3\n",
      "51/51 [==============================] - 23s 447ms/step - loss: 0.0249 - val_loss: 0.0243\n",
      "Epoch 3/3\n",
      "51/51 [==============================] - 23s 455ms/step - loss: 0.0237 - val_loss: 0.0230\n",
      "Лучшее значение параметров:  {'conv_act': 'relu', 'dropout_rate': 0.2, 'filters': 32, 'kernel_size': 3, 'lstm_act': 'tanh', 'optimizer': 'adam', 'units': 64}\n",
      "13/13 [==============================] - 2s 128ms/step\n",
      "MSE: 0.24838791429256246\n",
      "[{'conv_act': 'relu', 'dropout_rate': 0.1, 'filters': 32, 'kernel_size': 3, 'lstm_act': 'tanh', 'optimizer': 'adam', 'units': 64}, {'conv_act': 'relu', 'dropout_rate': 0.2, 'filters': 32, 'kernel_size': 3, 'lstm_act': 'tanh', 'optimizer': 'adam', 'units': 64}]\n",
      "[0.24592131247534077, 0.24838791429256246]\n"
     ]
    }
   ],
   "source": [
    "def create_model(filters, kernel_size, units, dropout_rate, optimizer_model, lstm_act, conv_act):\n",
    "    input_shape = (dataset.get('X_train').shape[1], 1)\n",
    "    model = Sequential()\n",
    "    model.add(Conv1D(filters=filters, kernel_size=kernel_size, activation=conv_act, input_shape=input_shape))\n",
    "    model.add(LSTM(units, activation=lstm_act, input_shape=input_shape))\n",
    "    model.add(Dropout(rate=dropout_rate))\n",
    "    model.add(Flatten())\n",
    "    model.add(Dense(1))\n",
    "    model.compile(optimizer=optimizer_model, loss='mean_squared_error')\n",
    "    return model\n",
    "\n",
    "\n",
    "best_params = []\n",
    "mse = []\n",
    "\n",
    "for dataset in datasets:\n",
    "    regressor = KerasRegressor(build_fn=create_model, filters=32, kernel_size=3, units=64, dropout_rate=0.2,\n",
    "                               optimizer_model='adam', lstm_act='tanh', conv_act='relu', epochs=3, batch_size=32)\n",
    "    grid = GridSearchCV(estimator=regressor, param_grid=param_grid_1d_lstm, n_jobs=7)\n",
    "    grid_result = grid.fit(dataset.get('X_train'), dataset.get('Y_train'),\n",
    "                           validation_data=(dataset.get('X_test'), dataset.get('Y_test')))\n",
    "\n",
    "    best_params.append(grid_result.best_params_)\n",
    "    print(\"Лучшее значение параметров: \", grid_result.best_params_)\n",
    "\n",
    "    score = grid.score(dataset.get('X_test'), dataset.get('Y_test'))\n",
    "    mse.append(score)\n",
    "    print(\"MSE:\", score)\n",
    "\n",
    "print(best_params)\n",
    "print(mse)"
   ],
   "metadata": {
    "collapsed": false
   }
  },
  {
   "cell_type": "code",
   "execution_count": 33,
   "outputs": [],
   "source": [
    "param_grid_gru_lstm = {\n",
    "    'filters': [8, 32],\n",
    "    'kernel_size': [1, 3],\n",
    "    'units': [16, 64],\n",
    "    'units_gru': [16, 64],\n",
    "    'optimizer' : [\"adam\", \"rmsprop\"],\n",
    "    'dropout_rate': [0.1, 0.2, 0.3],\n",
    "    'lstm_act': ['relu'],\n",
    "    'conv_act': ['relu'],\n",
    "    'gru_act': ['relu']\n",
    "}"
   ],
   "metadata": {
    "collapsed": false
   }
  },
  {
   "cell_type": "code",
   "execution_count": 34,
   "outputs": [
    {
     "name": "stdout",
     "output_type": "stream",
     "text": [
      "Epoch 1/3\n",
      "51/51 [==============================] - 27s 483ms/step - loss: 0.0288 - val_loss: 0.0248\n",
      "Epoch 2/3\n",
      "51/51 [==============================] - 25s 485ms/step - loss: 0.0249 - val_loss: 0.0228\n",
      "Epoch 3/3\n",
      "51/51 [==============================] - 27s 530ms/step - loss: 0.0220 - val_loss: 0.0195\n",
      "Лучшее значение параметров:  {'conv_act': 'relu', 'dropout_rate': 0.1, 'filters': 32, 'gru_act': 'relu', 'kernel_size': 3, 'lstm_act': 'relu', 'optimizer': 'adam', 'units': 64, 'units_gru': 16}\n",
      "13/13 [==============================] - 3s 194ms/step\n",
      "MSE: 0.23092380809631385\n",
      "Epoch 1/3\n",
      "51/51 [==============================] - 52s 970ms/step - loss: 0.0326 - val_loss: 0.0290\n",
      "Epoch 2/3\n",
      "51/51 [==============================] - 49s 961ms/step - loss: 0.0270 - val_loss: 0.0237\n",
      "Epoch 3/3\n",
      "51/51 [==============================] - 49s 967ms/step - loss: 0.0239 - val_loss: 0.0226\n",
      "Лучшее значение параметров:  {'conv_act': 'relu', 'dropout_rate': 0.2, 'filters': 32, 'gru_act': 'relu', 'kernel_size': 3, 'lstm_act': 'relu', 'optimizer': 'adam', 'units': 64, 'units_gru': 64}\n",
      "13/13 [==============================] - 3s 237ms/step\n",
      "MSE: 0.25994627306916007\n",
      "[{'conv_act': 'relu', 'dropout_rate': 0.1, 'filters': 32, 'gru_act': 'relu', 'kernel_size': 3, 'lstm_act': 'relu', 'optimizer': 'adam', 'units': 64, 'units_gru': 16}, {'conv_act': 'relu', 'dropout_rate': 0.2, 'filters': 32, 'gru_act': 'relu', 'kernel_size': 3, 'lstm_act': 'relu', 'optimizer': 'adam', 'units': 64, 'units_gru': 64}]\n",
      "[0.23092380809631385, 0.25994627306916007]\n"
     ]
    }
   ],
   "source": [
    "def create_model(filters, kernel_size, units, units_gru, dropout_rate, optimizer_model, lstm_act, gru_act, conv_act):\n",
    "    input_shape = (dataset.get('X_train').shape[1], 1)\n",
    "    model = Sequential()\n",
    "    model.add(Conv1D(filters=filters, kernel_size=kernel_size, activation=conv_act, input_shape=input_shape))\n",
    "    model.add(LSTM(units, activation=lstm_act, input_shape=input_shape, return_sequences=True))\n",
    "    model.add(GRU(units_gru, input_shape=input_shape, activation=gru_act))\n",
    "    model.add(Dropout(rate=dropout_rate))\n",
    "    model.add(Flatten())\n",
    "    model.add(Dense(1))\n",
    "    model.compile(optimizer=optimizer_model, loss='mean_squared_error')\n",
    "    return model\n",
    "\n",
    "best_params = []\n",
    "mse = []\n",
    "\n",
    "for dataset in datasets:\n",
    "    regressor = KerasRegressor(build_fn=create_model, filters=32, kernel_size=3, units=64, units_gru=64, dropout_rate=0.2, optimizer_model='adam', lstm_act='tanh', conv_act='relu', gru_act='relu', epochs=3, batch_size=32)\n",
    "    grid = GridSearchCV(estimator=regressor, param_grid=param_grid_gru_lstm, n_jobs=7)\n",
    "    grid_result = grid.fit(dataset.get('X_train'), dataset.get('Y_train'), validation_data = (dataset.get('X_test'), dataset.get('Y_test')))\n",
    "\n",
    "    best_params.append(grid_result.best_params_)\n",
    "    print(\"Лучшее значение параметров: \", grid_result.best_params_)\n",
    "\n",
    "    score = grid.score(dataset.get('X_test'), dataset.get('Y_test'))\n",
    "    mse.append(score)\n",
    "    print(\"MSE:\", score)\n",
    "\n",
    "print(best_params)\n",
    "print(mse)"
   ],
   "metadata": {
    "collapsed": false
   }
  }
 ],
 "metadata": {
  "kernelspec": {
   "display_name": "Python 3",
   "language": "python",
   "name": "python3"
  },
  "language_info": {
   "codemirror_mode": {
    "name": "ipython",
    "version": 2
   },
   "file_extension": ".py",
   "mimetype": "text/x-python",
   "name": "python",
   "nbconvert_exporter": "python",
   "pygments_lexer": "ipython2",
   "version": "2.7.6"
  }
 },
 "nbformat": 4,
 "nbformat_minor": 0
}
